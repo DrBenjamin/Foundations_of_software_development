{
 "cells": [
  {
   "cell_type": "markdown",
   "metadata": {},
   "source": [
    "# B07 Badge: Collections, and Collections of Collections."
   ]
  },
  {
   "cell_type": "markdown",
   "metadata": {},
   "source": [
    "Note: This is a **JUPYTER NOTEBOOK**. It's a type of website where you can edit and run computer programs (code). \n",
    "You interact with it in your web browser and you can find it via your Learn.\n",
    "\n",
    "1. These blocks here are cells.\n",
    "2. There are **TEXT CELLS** like this one with explanations of concepts.\n",
    "3. and **CODE CELLS** with Python code (see below). Code cells have a ```In []``` written to the left.\n",
    "4. You can **RUN CODE CELLS** by clicking on them and pressing **Shirt + Enter**. When you run a cell code in it is run (it \"happens\", computer will do what you asked for it to do). Results of what your code does will appear underneath the cell.\n",
    "5. As we go through these lessons, please READ text cells, and RUN code cells.\n",
    "6. Good luck!"
   ]
  },
  {
   "cell_type": "markdown",
   "metadata": {},
   "source": [
    "# Learning objectives:\n",
    "\n",
    "At the end of this badge you will know:\n",
    "\n",
    "- What are ways to store many variables in one container/colelction.\n",
    "- Syntax of List, Tupple, Set and Dictionary.\n",
    "- How to read and change items from collections.\n",
    "- How to read collections-in-collections (JSON).\n",
    "\n",
    "### 🔜 SPOILER ALERT:\n",
    "\n",
    "You will also understand these lines of code:"
   ]
  },
  {
   "cell_type": "code",
   "execution_count": null,
   "metadata": {},
   "outputs": [
    {
     "name": "stdout",
     "output_type": "stream",
     "text": [
      "Mercury\n",
      "Saturn\n",
      "['Mercury', 'Venus', 'Earth', 'Mars', 'Jupyter', 'Saturn', 'Uranus']\n",
      "['Earth', 'Jupyter', 'Mars', 'Mercury', 'Saturn', 'Uranus', 'Venus']\n",
      "['Earth', 'Jupyter', 'Mercury', 'Saturn', 'Uranus', 'Venus']\n"
     ]
    }
   ],
   "source": [
    "# LIST:\n",
    "\n",
    "planets = [\"Mercury\", \"Venus\", \"Earth\", \"Mars\", \"Jupyter\", \"Saturn\", \"Uranus\"]\n",
    "print(planets[0])\n",
    "print(planets[-2])\n",
    "\n",
    "print(planets)\n",
    "planets.sort()\n",
    "print(planets)\n",
    "planets.pop(2)\n",
    "print(planets)"
   ]
  },
  {
   "cell_type": "code",
   "execution_count": 1,
   "metadata": {},
   "outputs": [
    {
     "name": "stdout",
     "output_type": "stream",
     "text": [
      "Latte\n",
      "takeaway cup\n",
      "dict_keys(['type', 'size', 'sugars', 'milk', 'table_number'])\n"
     ]
    }
   ],
   "source": [
    "# DICTIONARY:\n",
    "\n",
    "coffee_order = {\"type\": \"Latte\", \"size\": \"Large\",\n",
    "                \"sugars\": 2, \"milk\": \"Oat\", \"table_number\": 8}\n",
    "print(coffee_order[\"type\"])\n",
    "print(coffee_order.get(\"cup\", \"takeaway cup\"))\n",
    "print(coffee_order.keys())"
   ]
  },
  {
   "cell_type": "code",
   "execution_count": 1,
   "metadata": {},
   "outputs": [
    {
     "name": "stdout",
     "output_type": "stream",
     "text": [
      "[{'type': 'Latte', 'milk': 'Cow'}, {'type': 'Lungo', 'milk': 'None'}, {'type': 'Latte', 'milk': 'Oat', 'sugar': 2}]\n",
      "\n",
      "[{'milk': 'Cow', 'type': 'Latte'},\n",
      " {'milk': 'None', 'type': 'Lungo'},\n",
      " {'milk': 'Oat', 'sugar': 2, 'type': 'Latte'}]\n",
      "\n",
      "Oat\n"
     ]
    }
   ],
   "source": [
    "# COLLECTIONS OF COLLECTIONS:\n",
    "\n",
    "import pprint as pp\n",
    "# Let's import a helpfull library pprint('pretty print'), and nickname it 'pp'.\n",
    "\n",
    "coffee_orders = [{'type': 'Latte', 'milk': 'Cow'},\n",
    "                 {'type': 'Lungo', 'milk': 'None'},\n",
    "                 {'type': 'Latte', 'milk': 'Oat', 'sugar': 2}]\n",
    "\n",
    "# 'Ugly print':\n",
    "\n",
    "print(coffee_orders)\n",
    "\n",
    "print()  # Prints more empty space (new line)\n",
    "\n",
    "# 'Pretty print' (it prints things in a more readable way - in wrows)\n",
    "\n",
    "pp.pprint(coffee_orders)\n",
    "\n",
    "print()\n",
    "\n",
    "# One item:\n",
    "\n",
    "print(coffee_orders[-1]['milk'])"
   ]
  },
  {
   "cell_type": "markdown",
   "metadata": {},
   "source": [
    " 🎯 End of learning objectives 🎯"
   ]
  },
  {
   "cell_type": "markdown",
   "metadata": {},
   "source": [
    "## Documentation: How Jupyter notebook can help you to write code. "
   ]
  },
  {
   "cell_type": "markdown",
   "metadata": {},
   "source": [
    "There are some useful features and shortcuts in Jupyter Notebooks. All of them will make your coding faster and help you to make less typos.\n",
    "\n",
    "- **CODE AUTO-COMPLETION [TAB]** While writing a name of a variable or function, press Tab (keyboard button with '-->|' on it). The variable will finish typing itself, if it's already been stored ito the computers memory (by running the code)."
   ]
  },
  {
   "cell_type": "code",
   "execution_count": null,
   "metadata": {},
   "outputs": [],
   "source": [
    "very_long_name_of_a_variable = \"Banana\"\n",
    "\n",
    "# Put your cursor here, to the right of the word \"ver\", as if you were about to type the rest of the variable name.\n",
    "very_long_name_of_a_variable\n",
    "# Press Tab ( '-->|' ).\n",
    "# Jupyter should auto-complete the long name i.e. type it for you."
   ]
  },
  {
   "cell_type": "markdown",
   "metadata": {},
   "source": [
    "- **LIST AVAILABLE METHODS/FUNCTIONS [TAB]**: When you want to see all the potential options/things you could write."
   ]
  },
  {
   "cell_type": "code",
   "execution_count": null,
   "metadata": {},
   "outputs": [],
   "source": [
    "\"Ms. Marissa\". # Place your coursor to the right of the '.' and press Tab - it should show you all the available options."
   ]
  },
  {
   "cell_type": "markdown",
   "metadata": {},
   "source": [
    "## Storing many related items."
   ]
  },
  {
   "cell_type": "markdown",
   "metadata": {},
   "source": [
    "## LIST: Collection of similar, ordered values, refered to by their index: 0,1,2,3,..."
   ]
  },
  {
   "cell_type": "code",
   "execution_count": null,
   "metadata": {},
   "outputs": [],
   "source": [
    "# There are many ways to store a number of connected variables.\n",
    "\n",
    "planet0 = \"Mercury\"\n",
    "planet1 = \"Venus\"\n",
    "planet2 = \"Earth\"\n",
    "planet3 = \"Mars\"\n",
    "planet4 = \"Jupyter\"\n",
    "planet5 = \"Saturn\"\n",
    "planet6 = \"Uranus\"\n",
    "\n",
    "# But using a lot of simmilarly named variables stops making sense very quickly.\n",
    "# Imagine there were 300 planets to remember.\n",
    "# ...Or that you had to quickly say how many planets you have.\n",
    "# ...Or that you want to remove the first planet, but keep the others!\n",
    "# You'd have to rename all of your variables!"
   ]
  },
  {
   "cell_type": "markdown",
   "metadata": {},
   "source": [
    "**LIST (aka Array): Can change, Keys are numbers from 0, Most popular, Comes with lots of functions/methods**.\n",
    "\n",
    "You can store all of the variables from above example in one 'Collection' of variables.\n",
    "\n",
    "- Use LIST to keep a list of items that are similar.\n",
    "- You will be able to access them e.g. to find or change them, with their 'index' - where in the row they are.\n",
    "- Often used when order is meaningful.\n",
    "\n",
    "You can think of a Python LIST as a - shelf with books; a queue of people waiting for a bus; list of student names."
   ]
  },
  {
   "cell_type": "code",
   "execution_count": 2,
   "metadata": {},
   "outputs": [
    {
     "name": "stdout",
     "output_type": "stream",
     "text": [
      "Mercury\n"
     ]
    }
   ],
   "source": [
    "# To create a list variable, just surround your values in square brackets, and assign it to a variable.\n",
    "\n",
    "planets = [\"Mercury\", \"Venus\", \"Earth\", \"Mars\", \"Jupyter\", \"Saturn\", \"Uranus\"]\n",
    "\n",
    "print(planets[0])"
   ]
  },
  {
   "cell_type": "markdown",
   "metadata": {},
   "source": [
    "Below you will learn how to put things into a list, take things out of a list, change it, etc.\n",
    "\n",
    "**IMPORTANT: We count starting from 0**: in Python (and most other programming languages) we do not count like humans, starting from 1, as in '1,2,3,...' but rather we count starting from 0. So '0,1,2,3,...' . This means that the first item in a list is accessed by ```list_name[0]```."
   ]
  },
  {
   "cell_type": "code",
   "execution_count": 3,
   "metadata": {},
   "outputs": [
    {
     "name": "stdout",
     "output_type": "stream",
     "text": [
      "Mercury\n",
      "Earth\n",
      "Saturn\n"
     ]
    }
   ],
   "source": [
    "# Access items in a list:\n",
    "\n",
    "print(planets[0])  # The first planet is...\n",
    "print(planets[2])  # The third item...\n",
    "print(planets[-2])  # Second planet from the end is..."
   ]
  },
  {
   "cell_type": "code",
   "execution_count": 4,
   "metadata": {},
   "outputs": [
    {
     "ename": "IndexError",
     "evalue": "list index out of range",
     "output_type": "error",
     "traceback": [
      "\u001b[0;31m---------------------------------------------------------------------------\u001b[0m",
      "\u001b[0;31mIndexError\u001b[0m                                Traceback (most recent call last)",
      "Cell \u001b[0;32mIn[4], line 1\u001b[0m\n\u001b[0;32m----> 1\u001b[0m \u001b[38;5;28mprint\u001b[39m(\u001b[43mplanets\u001b[49m\u001b[43m[\u001b[49m\u001b[38;5;241;43m20\u001b[39;49m\u001b[43m]\u001b[49m)\n\u001b[1;32m      3\u001b[0m \u001b[38;5;66;03m# Watch out: you cannot request an index that does not exist.\u001b[39;00m\n\u001b[1;32m      4\u001b[0m \u001b[38;5;66;03m# Read the error.\u001b[39;00m\n\u001b[1;32m      5\u001b[0m \u001b[38;5;66;03m# As always, read it from the bottom, and look for the arrow ---> it points to the problem.\u001b[39;00m\n",
      "\u001b[0;31mIndexError\u001b[0m: list index out of range"
     ]
    }
   ],
   "source": [
    "print(planets[20])\n",
    "\n",
    "# Watch out: you cannot request an index that does not exist.\n",
    "# Read the error.\n",
    "# As always, read it from the bottom, and look for the arrow ---> it points to the problem."
   ]
  },
  {
   "cell_type": "markdown",
   "metadata": {},
   "source": [
    "### Get number of all items in a list (it's length):"
   ]
  },
  {
   "cell_type": "code",
   "execution_count": 5,
   "metadata": {},
   "outputs": [
    {
     "name": "stdout",
     "output_type": "stream",
     "text": [
      "7\n"
     ]
    }
   ],
   "source": [
    "print(len(planets))\n",
    "\n",
    "# 'len()' is a build-in Python function, like 'print()'.\n",
    "# It returns 'length of collection'.\n",
    "# You might have seen it already somewhere."
   ]
  },
  {
   "cell_type": "markdown",
   "metadata": {},
   "source": [
    "### Get number of times one item appears in the list:"
   ]
  },
  {
   "cell_type": "code",
   "execution_count": 6,
   "metadata": {},
   "outputs": [
    {
     "name": "stdout",
     "output_type": "stream",
     "text": [
      "1\n"
     ]
    }
   ],
   "source": [
    "print(planets.count(\"Earth\"))  # How many 'Earths' are there?"
   ]
  },
  {
   "cell_type": "code",
   "execution_count": 7,
   "metadata": {},
   "outputs": [
    {
     "name": "stdout",
     "output_type": "stream",
     "text": [
      "0\n"
     ]
    }
   ],
   "source": [
    "# This will not error when there are no such items.\n",
    "# It will just say there are no 'Kryptons' found in the solar system.\n",
    "\n",
    "print(planets.count(\"Krypton\"))"
   ]
  },
  {
   "cell_type": "markdown",
   "metadata": {},
   "source": [
    "### Find an index of a particular item already in the list:\n",
    "\n",
    "- If there are many identical items, it will return the first index of where it's found.\n",
    "- But if such item does not exist, it will throw and Error."
   ]
  },
  {
   "cell_type": "code",
   "execution_count": 8,
   "metadata": {},
   "outputs": [
    {
     "name": "stdout",
     "output_type": "stream",
     "text": [
      "3\n"
     ]
    }
   ],
   "source": [
    "print(planets.index(\"Mars\"))"
   ]
  },
  {
   "cell_type": "code",
   "execution_count": 9,
   "metadata": {},
   "outputs": [
    {
     "ename": "ValueError",
     "evalue": "'Krypton' is not in list",
     "output_type": "error",
     "traceback": [
      "\u001b[0;31m---------------------------------------------------------------------------\u001b[0m",
      "\u001b[0;31mValueError\u001b[0m                                Traceback (most recent call last)",
      "Cell \u001b[0;32mIn[9], line 1\u001b[0m\n\u001b[0;32m----> 1\u001b[0m \u001b[43mplanets\u001b[49m\u001b[38;5;241;43m.\u001b[39;49m\u001b[43mindex\u001b[49m\u001b[43m(\u001b[49m\u001b[38;5;124;43m\"\u001b[39;49m\u001b[38;5;124;43mKrypton\u001b[39;49m\u001b[38;5;124;43m\"\u001b[39;49m\u001b[43m)\u001b[49m\n\u001b[1;32m      2\u001b[0m \u001b[38;5;66;03m# Read the error! From the bottom! Then follow the '---->'.\u001b[39;00m\n",
      "\u001b[0;31mValueError\u001b[0m: 'Krypton' is not in list"
     ]
    }
   ],
   "source": [
    "planets.index(\"Krypton\")\n",
    "# Read the error! From the bottom! Then follow the '---->'."
   ]
  },
  {
   "cell_type": "markdown",
   "metadata": {},
   "source": [
    "## Remove items."
   ]
  },
  {
   "cell_type": "markdown",
   "metadata": {},
   "source": [
    "### Remove last item, or item at index:"
   ]
  },
  {
   "cell_type": "code",
   "execution_count": 16,
   "metadata": {},
   "outputs": [
    {
     "name": "stdout",
     "output_type": "stream",
     "text": [
      "['Mercury', 'Venus', 'Earth', 'Mars', 'Jupyter', 'Saturn', 'Uranus']\n",
      "['Mercury', 'Venus', 'Mars', 'Jupyter', 'Saturn', 'Uranus']\n",
      "Earth\n"
     ]
    }
   ],
   "source": [
    "planets = [\"Mercury\", \"Venus\", \"Earth\", \"Mars\", \"Jupyter\", \"Saturn\", \"Uranus\"]\n",
    "\n",
    "print(planets)\n",
    "\n",
    "# Remove item at this index AND RETURN IT. So that you can save it in a variable.\n",
    "removed_third_planet = planets.pop(2)\n",
    "print(planets)\n",
    "\n",
    "print(removed_third_planet)"
   ]
  },
  {
   "cell_type": "code",
   "execution_count": 15,
   "metadata": {},
   "outputs": [
    {
     "name": "stdout",
     "output_type": "stream",
     "text": [
      "['Mercury', 'Venus', 'Earth', 'Mars', 'Jupyter', 'Saturn', 'Uranus']\n",
      "['Mercury', 'Venus', 'Earth', 'Mars', 'Jupyter', 'Saturn']\n",
      "Uranus\n"
     ]
    }
   ],
   "source": [
    "planets = [\"Mercury\", \"Venus\", \"Earth\", \"Mars\", \"Jupyter\", \"Saturn\", \"Uranus\"]\n",
    "\n",
    "print(planets)\n",
    "\n",
    "# If no index is specified in 'pop()', the LAST element is removed AND RETURNED.\n",
    "last_planet = planets.pop()\n",
    "print(planets)\n",
    "\n",
    "print(last_planet)"
   ]
  },
  {
   "cell_type": "code",
   "execution_count": 18,
   "metadata": {},
   "outputs": [
    {
     "name": "stdout",
     "output_type": "stream",
     "text": [
      "['Mercury', 'Venus', 'Earth', 'Mars', 'Jupyter', 'Saturn', 'Uranus']\n",
      "['Mercury', 'Venus', 'Mars', 'Jupyter', 'Saturn', 'Uranus']\n"
     ]
    }
   ],
   "source": [
    "# Another way to delete an item at index. It's quite rare, because it has a weird syntax.\n",
    "\n",
    "planets = [\"Mercury\", \"Venus\", \"Earth\", \"Mars\", \"Jupyter\", \"Saturn\", \"Uranus\"]\n",
    "\n",
    "print(planets)\n",
    "del planets[2]\n",
    "print(planets)"
   ]
  },
  {
   "cell_type": "markdown",
   "metadata": {},
   "source": [
    "### Remove item by its value:"
   ]
  },
  {
   "cell_type": "code",
   "execution_count": 19,
   "metadata": {},
   "outputs": [
    {
     "name": "stdout",
     "output_type": "stream",
     "text": [
      "['Mercury', 'Venus', 'Earth', 'Mars', 'Jupyter', 'Saturn', 'Uranus']\n",
      "['Mercury', 'Earth', 'Mars', 'Jupyter', 'Saturn', 'Uranus']\n"
     ]
    }
   ],
   "source": [
    "planets = [\"Mercury\", \"Venus\", \"Earth\", \"Mars\", \"Jupyter\", \"Saturn\", \"Uranus\"]\n",
    "\n",
    "print(planets)\n",
    "# Remove one by value (if many of the same value are present, remove the first instance).\n",
    "planets.remove(\"Venus\")\n",
    "print(planets)\n",
    "\n",
    "# Try it with:\n",
    "# planets.remove(\"Krypton\")\n",
    "# This will error?"
   ]
  },
  {
   "cell_type": "markdown",
   "metadata": {},
   "source": [
    "### Remove all:"
   ]
  },
  {
   "cell_type": "code",
   "execution_count": 20,
   "metadata": {},
   "outputs": [
    {
     "name": "stdout",
     "output_type": "stream",
     "text": [
      "['Mercury', 'Venus', 'Earth', 'Mars', 'Jupyter', 'Saturn', 'Uranus']\n",
      "[]\n"
     ]
    }
   ],
   "source": [
    "planets = [\"Mercury\", \"Venus\", \"Earth\", \"Mars\", \"Jupyter\", \"Saturn\", \"Uranus\"]\n",
    "\n",
    "print(planets)\n",
    "planets.clear()  # delete all\n",
    "print(planets)"
   ]
  },
  {
   "cell_type": "markdown",
   "metadata": {},
   "source": [
    "## Add items."
   ]
  },
  {
   "cell_type": "markdown",
   "metadata": {},
   "source": [
    "### Add one item at the end, or at index:"
   ]
  },
  {
   "cell_type": "code",
   "execution_count": 21,
   "metadata": {},
   "outputs": [
    {
     "name": "stdout",
     "output_type": "stream",
     "text": [
      "['Mercury', 'Venus', 'Earth', 'Mars', 'Jupyter']\n",
      "['Mercury', 'Venus', 'Earth', 'Mars', 'Jupyter', 'Pluto']\n"
     ]
    }
   ],
   "source": [
    "# Add one at the end.\n",
    "\n",
    "planets = [\"Mercury\", \"Venus\", \"Earth\", \"Mars\", \"Jupyter\"]\n",
    "\n",
    "print(planets)\n",
    "planets.append(\"Pluto\")\n",
    "print(planets)"
   ]
  },
  {
   "cell_type": "code",
   "execution_count": 22,
   "metadata": {},
   "outputs": [
    {
     "name": "stdout",
     "output_type": "stream",
     "text": [
      "['Mercury', 'Venus', 'Earth', 'Mars', 'Jupyter']\n",
      "['Mercury', 'Venus', 'Krypton', 'Earth', 'Mars', 'Jupyter']\n"
     ]
    }
   ],
   "source": [
    "# add one at a specific place and push everything else up\n",
    "planets = [\"Mercury\", \"Venus\", \"Earth\", \"Mars\", \"Jupyter\"]\n",
    "\n",
    "print(planets)\n",
    "planets.insert(2, \"Krypton\")\n",
    "print(planets)"
   ]
  },
  {
   "cell_type": "markdown",
   "metadata": {},
   "source": [
    "### Add many items."
   ]
  },
  {
   "cell_type": "code",
   "execution_count": 23,
   "metadata": {},
   "outputs": [
    {
     "name": "stdout",
     "output_type": "stream",
     "text": [
      "['Mercury', 'Venus', 'Earth']\n",
      "['Mercury', 'Venus', 'Earth', 'Jupyter', 'Saturn']\n"
     ]
    }
   ],
   "source": [
    "# add another LIST of items. Notice the argument is a LIST! i.e. it's some elements in a [ ]\n",
    "planets = [\"Mercury\", \"Venus\", \"Earth\"]\n",
    "\n",
    "print(planets)\n",
    "planets.extend([\"Jupyter\", \"Saturn\"])\n",
    "print(planets)"
   ]
  },
  {
   "cell_type": "code",
   "execution_count": 24,
   "metadata": {},
   "outputs": [
    {
     "name": "stdout",
     "output_type": "stream",
     "text": [
      "['Mercury', 'Venus', 'Earth', 'Mars', 'Jupyter']\n",
      "['Mercury', 'Venus', 'Earth', 'Mars', 'Jupyter', 'Uranus', 'Neptune']\n"
     ]
    }
   ],
   "source": [
    "# combine two lists (as if you were combining two numbers 2+2 )\n",
    "# add all of right list items at the end of left list, we're adding List + List\n",
    "planets = [\"Mercury\", \"Venus\", \"Earth\", \"Mars\", \"Jupyter\"]\n",
    "\n",
    "print(planets)\n",
    "planets += [\"Uranus\", \"Neptune\"]\n",
    "print(planets)\n",
    "\n",
    "# planets = planets + \"Pluto\" # this would error. Can't add List + String"
   ]
  },
  {
   "cell_type": "code",
   "execution_count": 29,
   "metadata": {},
   "outputs": [
    {
     "name": "stdout",
     "output_type": "stream",
     "text": [
      "['Mercury', 'Venus', 'Earth', 'Mars', 'Jupyter']\n",
      "['Mercury', 'Venus', 'Earth', 'Mars', 'Jupyter', ['Saturn', 'Uranus']]\n"
     ]
    }
   ],
   "source": [
    "# note: appending a List to a List will do something weird. Look at the brackets! what happened?\n",
    "planets = [\"Mercury\", \"Venus\", \"Earth\", \"Mars\", \"Jupyter\"]\n",
    "\n",
    "print(planets)\n",
    "planets.append([\"Saturn\", \"Uranus\"])  # add collection AS AN ITEM\n",
    "print(planets)"
   ]
  },
  {
   "cell_type": "markdown",
   "metadata": {},
   "source": [
    "So remember:\n",
    "\n",
    "- **append( a )** - add anything to a list, it will become the last item\n",
    "- **extend( [a,b,c] )** - add another list to a list. They will merge into one."
   ]
  },
  {
   "cell_type": "markdown",
   "metadata": {},
   "source": [
    "### Check if item is in a list."
   ]
  },
  {
   "cell_type": "code",
   "execution_count": 28,
   "metadata": {},
   "outputs": [
    {
     "name": "stdout",
     "output_type": "stream",
     "text": [
      "True\n"
     ]
    }
   ],
   "source": [
    "planets = [\"Mercury\", \"Venus\", \"Earth\", \"Mars\", \"Jupyter\"]\n",
    "\n",
    "is_earth_in_planets = \"Earth\" in planets\n",
    "print(is_earth_in_planets)"
   ]
  },
  {
   "cell_type": "code",
   "execution_count": 27,
   "metadata": {},
   "outputs": [
    {
     "name": "stdout",
     "output_type": "stream",
     "text": [
      "It's here!\n"
     ]
    }
   ],
   "source": [
    "if \"Earth\" in planets:\n",
    "    print(\"It's here!\")\n",
    "else:\n",
    "    print(\"Nope\")"
   ]
  },
  {
   "cell_type": "markdown",
   "metadata": {},
   "source": [
    "## Changing a whole List."
   ]
  },
  {
   "cell_type": "markdown",
   "metadata": {},
   "source": [
    "### Reverse order:"
   ]
  },
  {
   "cell_type": "code",
   "execution_count": 31,
   "metadata": {},
   "outputs": [
    {
     "name": "stdout",
     "output_type": "stream",
     "text": [
      "['Mercury', 'Venus', 'Earth', 'Mars', 'Jupyter']\n",
      "['Jupyter', 'Mars', 'Earth', 'Venus', 'Mercury']\n"
     ]
    }
   ],
   "source": [
    "\n",
    "planets = [\"Mercury\", \"Venus\", \"Earth\", \"Mars\", \"Jupyter\"]\n",
    "\n",
    "print(planets)\n",
    "planets.reverse()\n",
    "print(planets)"
   ]
  },
  {
   "cell_type": "markdown",
   "metadata": {},
   "source": [
    "### Sort:"
   ]
  },
  {
   "cell_type": "code",
   "execution_count": 32,
   "metadata": {},
   "outputs": [
    {
     "name": "stdout",
     "output_type": "stream",
     "text": [
      "['Mercury', 'Venus', 'Earth', 'Mars', 'Jupyter']\n",
      "['Earth', 'Jupyter', 'Mars', 'Mercury', 'Venus']\n"
     ]
    }
   ],
   "source": [
    "planets = [\"Mercury\", \"Venus\", \"Earth\", \"Mars\", \"Jupyter\"]\n",
    "\n",
    "print(planets)\n",
    "planets.sort()  # Sorts alphabetically.\n",
    "print(planets)"
   ]
  },
  {
   "cell_type": "markdown",
   "metadata": {},
   "source": [
    "## TUPLE: simpler, less powerful lists. Once created, they can't be changed.\n",
    "\n",
    "We will not really talk about tuples, but you might see them at some point. \n",
    "\n",
    "- Exactly like a list, but once created, cannot be changed.\n",
    "- Take less memory and a a bit faster, but this does not matter until you have gigabytes of data."
   ]
  },
  {
   "cell_type": "code",
   "execution_count": 34,
   "metadata": {},
   "outputs": [
    {
     "name": "stdout",
     "output_type": "stream",
     "text": [
      "('Monday', 'Tuesday', 'Wednesday', 'Thursday', 'Friday', 'Saturday', 'Sunday')\n"
     ]
    }
   ],
   "source": [
    "# TUPLE: Like list, but NEVER changes, keys are numbers from 0.\n",
    "\n",
    "weekdays = (\"Monday\", \"Tuesday\", \"Wednesday\",\n",
    "            \"Thursday\", \"Friday\", \"Saturday\", \"Sunday\")\n",
    "print(weekdays)"
   ]
  },
  {
   "cell_type": "code",
   "execution_count": 35,
   "metadata": {},
   "outputs": [
    {
     "name": "stdout",
     "output_type": "stream",
     "text": [
      "Monday\n",
      "Thursday\n",
      "Sunday\n"
     ]
    }
   ],
   "source": [
    "# Can do all the same things as a List, apart from anything that would change it's contents.\n",
    "# We won't use them much.\n",
    "\n",
    "print(weekdays[0])\n",
    "print(weekdays[3])\n",
    "print(weekdays[-1])"
   ]
  },
  {
   "cell_type": "markdown",
   "metadata": {},
   "source": [
    "## SET: Like a list, but can only hold UNIQUE values, when you don't care about the order."
   ]
  },
  {
   "cell_type": "code",
   "execution_count": 36,
   "metadata": {},
   "outputs": [
    {
     "name": "stdout",
     "output_type": "stream",
     "text": [
      "{'cherry', 'apple', 'banana'}\n"
     ]
    }
   ],
   "source": [
    "# We won't use them much.\n",
    "\n",
    "scattered_fruits = {\"apple\", \"banana\", \"cherry\"}\n",
    "print(scattered_fruits)\n",
    "\n",
    "# Notice order will change!"
   ]
  },
  {
   "cell_type": "code",
   "execution_count": 37,
   "metadata": {},
   "outputs": [
    {
     "name": "stdout",
     "output_type": "stream",
     "text": [
      "{'cherry', 'apple', 'banana'}\n",
      "{'cherry', 'apple', 'banana', 'kiwi'}\n",
      "{'apple', 'plum', 'cherry', 'kiwi', 'banana'}\n",
      "{'apple', 'plum', 'cherry', 'kiwi', 'banana'}\n"
     ]
    }
   ],
   "source": [
    "scattered_fruits = {\"apple\", \"banana\", \"cherry\"}\n",
    "\n",
    "print(scattered_fruits)\n",
    "scattered_fruits.add(\"kiwi\")\n",
    "print(scattered_fruits)\n",
    "\n",
    "scattered_fruits.add(\"plum\")\n",
    "print(scattered_fruits)\n",
    "\n",
    "# Apple is ignored! All values in a set need to be unique, so NO DUBLICATES!\n",
    "scattered_fruits.add(\"apple\")\n",
    "print(scattered_fruits)"
   ]
  },
  {
   "cell_type": "markdown",
   "metadata": {},
   "source": [
    "You might find yourself using a SET to remove duplicates from a list. It's a bit of a hack, but you can: \n",
    "\n",
    "- Start with a list with some duplicates.\n",
    "- Turn that list into a set, which will remove duplicates.\n",
    "- Turn the set back into a list.\n",
    "\n",
    "Note that you will lose the order (it migtht change randomly) in the process."
   ]
  },
  {
   "cell_type": "code",
   "execution_count": 38,
   "metadata": {},
   "outputs": [
    {
     "name": "stdout",
     "output_type": "stream",
     "text": [
      "['apple', 'banana', 'banana', 'cherry', 'kiwi', 'plum', 'apple', 'kiwi']\n",
      "{'apple', 'plum', 'cherry', 'kiwi', 'banana'}\n",
      "['apple', 'plum', 'cherry', 'kiwi', 'banana']\n"
     ]
    }
   ],
   "source": [
    "fruit_list = [\"apple\", \"banana\", \"banana\",\n",
    "              \"cherry\", \"kiwi\", \"plum\", \"apple\", \"kiwi\"]\n",
    "print(fruit_list)\n",
    "\n",
    "fruit_set = set(fruit_list)\n",
    "print(fruit_set)\n",
    "\n",
    "fruit_list = list(fruit_set)\n",
    "print(fruit_list)\n",
    "\n",
    "# Indeed, this could be a one-liner.\n",
    "# Notice the order became jumbled."
   ]
  },
  {
   "cell_type": "code",
   "execution_count": 39,
   "metadata": {},
   "outputs": [
    {
     "name": "stdout",
     "output_type": "stream",
     "text": [
      "['apple', 'banana', 'banana', 'cherry', 'kiwi', 'plum', 'apple', 'kiwi']\n",
      "['apple', 'plum', 'cherry', 'kiwi', 'banana']\n"
     ]
    }
   ],
   "source": [
    "# Indeed, this could be a one-liner:\n",
    "\n",
    "fruit_list = [\"apple\", \"banana\", \"banana\",\n",
    "              \"cherry\", \"kiwi\", \"plum\", \"apple\", \"kiwi\"]\n",
    "\n",
    "print(fruit_list)\n",
    "fruit_list = list(set(fruit_list))\n",
    "print(fruit_list)"
   ]
  },
  {
   "cell_type": "markdown",
   "metadata": {},
   "source": [
    "**TOP TIP**: How would you find out how many unique values are in a list?\n",
    "\n",
    "- Turn the list into a set - it will only keep unique values.\n",
    "- Check the length of that set."
   ]
  },
  {
   "cell_type": "code",
   "execution_count": 40,
   "metadata": {},
   "outputs": [
    {
     "name": "stdout",
     "output_type": "stream",
     "text": [
      "Number of unique values: 5\n"
     ]
    }
   ],
   "source": [
    "fruit_list = [\"apple\", \"banana\", \"banana\",\n",
    "              \"cherry\", \"kiwi\", \"plum\", \"apple\", \"kiwi\"]\n",
    "print(\"Number of unique values:\", len(set(fruit_list)))"
   ]
  },
  {
   "cell_type": "markdown",
   "metadata": {},
   "source": [
    "## DICTIONARY: A collection of different 'values', each referenced by its name, called 'a key'. "
   ]
  },
  {
   "cell_type": "markdown",
   "metadata": {},
   "source": [
    "OR in more human terms:\n",
    "    \n",
    "## DICTIONARY: Storing different pieces of information about one thing."
   ]
  },
  {
   "cell_type": "markdown",
   "metadata": {},
   "source": [
    "## The 'why' of Dictionaries:\n",
    "\n",
    "### Storing information that describes one object."
   ]
  },
  {
   "cell_type": "code",
   "execution_count": 41,
   "metadata": {},
   "outputs": [],
   "source": [
    "# Let's imagine that we want to store a group of data about one object.\n",
    "# They are all related, but the values are NOT EQUALLY important (unlike iin LIST items).\n",
    "\n",
    "coffee_type = \"Latte\"\n",
    "coffee_size = \"Large\"\n",
    "coffee_sugars = 2\n",
    "coffee_milk = \"Oat\"\n",
    "coffee_table_number = 8"
   ]
  },
  {
   "cell_type": "code",
   "execution_count": 42,
   "metadata": {},
   "outputs": [
    {
     "name": "stdout",
     "output_type": "stream",
     "text": [
      "Can I have one Large Latte with 2 sugars and Oat milk to table 8\n"
     ]
    }
   ],
   "source": [
    "# Theoretically we could store above information in a LIST, where we remember which index describes what:\n",
    "\n",
    "coffee = [\"Latte\", \"Large\", 2, \"Oat\",  8]\n",
    "\n",
    "print(\"Can I have one\", coffee[1], coffee[0], \"with\", coffee[2],\n",
    "      \"sugars and\", coffee[3], \"milk to table\", coffee[4])\n",
    "\n",
    "# You should get shivers looking at the above line of code. What a terrible piece of code!"
   ]
  },
  {
   "cell_type": "markdown",
   "metadata": {},
   "source": [
    "The problem with the above list is that the index is the only way for us to know which piece of information means what.\n",
    "\n",
    "- We need to remember that index 0 means 'coffe_type', index 1 means 'coffe_size', index 2 means 'coffee_sugars', etc.\n",
    "- If we remove the first piece of data, all other ones will become out of place!\n",
    "- If we describe a few similar objects, eg. many coffees, their descriptions should all follow the same order.\n",
    "\n",
    "A data structure described above would be very inflexible, error-prone and force us to decide everything about our data at the very beginning. That would be disastrous in a real-life scenario. \n",
    "\n",
    "What would really help, is if we could somehow:\n",
    "\n",
    "- Label each piece of information with a name that describes what it is, like - \"Type\" is \"Latte\", \"Size\" is \"Large\")\n",
    "- Have flexibility to add or remove some information without losing any of it. "
   ]
  },
  {
   "cell_type": "markdown",
   "metadata": {},
   "source": [
    "### Dictionary: Key-value pairs - each piece of data ('value') has a label ('key') describing what it is."
   ]
  },
  {
   "cell_type": "code",
   "execution_count": 43,
   "metadata": {},
   "outputs": [
    {
     "name": "stdout",
     "output_type": "stream",
     "text": [
      "Can I have one Large Latte with 2 sugars and Oat milk to table 8\n"
     ]
    }
   ],
   "source": [
    "# DICTIONARY - Keys can be anything, order doesn't matter, but they need to be unique.\n",
    "\n",
    "coffee_order = {\"type\": \"Latte\", \"size\": \"Large\",\n",
    "                \"sugars\": 2, \"milk\": \"Oat\", \"table_number\": 8}\n",
    "\n",
    "print(\"Can I have one\", coffee_order['size'], coffee_order['type'], \"with\",\n",
    "      coffee_order['sugars'], \"sugars and\", coffee_order['milk'], \"milk to table\", coffee_order['table_number'])\n",
    "\n",
    "# Still TERRIBLE code, but at least you know what is what! It is longer, but more 'human'."
   ]
  },
  {
   "cell_type": "markdown",
   "metadata": {},
   "source": [
    "### Get values using the key:"
   ]
  },
  {
   "cell_type": "code",
   "execution_count": 44,
   "metadata": {},
   "outputs": [
    {
     "name": "stdout",
     "output_type": "stream",
     "text": [
      "Oat\n"
     ]
    }
   ],
   "source": [
    "print(coffee_order[\"milk\"])"
   ]
  },
  {
   "cell_type": "code",
   "execution_count": 45,
   "metadata": {},
   "outputs": [
    {
     "ename": "KeyError",
     "evalue": "'with_caffeine'",
     "output_type": "error",
     "traceback": [
      "\u001b[0;31m---------------------------------------------------------------------------\u001b[0m",
      "\u001b[0;31mKeyError\u001b[0m                                  Traceback (most recent call last)",
      "Cell \u001b[0;32mIn[45], line 3\u001b[0m\n\u001b[1;32m      1\u001b[0m \u001b[38;5;66;03m# This will error, because there is no key \"with_caffeine\".\u001b[39;00m\n\u001b[0;32m----> 3\u001b[0m \u001b[38;5;28mprint\u001b[39m(\u001b[43mcoffee_order\u001b[49m\u001b[43m[\u001b[49m\u001b[38;5;124;43m\"\u001b[39;49m\u001b[38;5;124;43mwith_caffeine\u001b[39;49m\u001b[38;5;124;43m\"\u001b[39;49m\u001b[43m]\u001b[49m)\n",
      "\u001b[0;31mKeyError\u001b[0m: 'with_caffeine'"
     ]
    }
   ],
   "source": [
    "# This will error, because there is no key \"with_caffeine\".\n",
    "\n",
    "print(coffee_order[\"with_caffeine\"])"
   ]
  },
  {
   "cell_type": "markdown",
   "metadata": {},
   "source": [
    "And that's why it is safer to use built-in dictionary methods - tools that come built within Python, we'll talk about them later."
   ]
  },
  {
   "cell_type": "code",
   "execution_count": 46,
   "metadata": {},
   "outputs": [
    {
     "name": "stdout",
     "output_type": "stream",
     "text": [
      "Oat\n",
      "8\n"
     ]
    }
   ],
   "source": [
    "print(coffee_order.get(\"milk\"))  # Get value by key.\n",
    "print(coffee_order.get(\"table_number\"))  # Get value by key."
   ]
  },
  {
   "cell_type": "markdown",
   "metadata": {},
   "source": [
    "It is much safer than getting value by index, like we did in the example anout LISTS - `coffee_order[3]`. \n",
    "Or directly by key `coffee_order['milk']`. That's because if key is not there, the `.get(key)` will automatically return `None` instead of throwing a scary, but helpful error.\n",
    "\n",
    "**'None'** Is another Python data type, like 'string' or 'bool', and has just one value... `None` :)"
   ]
  },
  {
   "cell_type": "code",
   "execution_count": 47,
   "metadata": {},
   "outputs": [
    {
     "name": "stdout",
     "output_type": "stream",
     "text": [
      "None\n"
     ]
    }
   ],
   "source": [
    "print(coffee_order.get(\"with_caffeine\"))"
   ]
  },
  {
   "cell_type": "markdown",
   "metadata": {},
   "source": [
    "### Dictionaries dealing with missing values:\n",
    "\n",
    "And you can even request which value should be returned if the key is missing i.e if None is not very meaningful to the situation.\n",
    "\n",
    "The format is ```some_dict.get(some_key, value_if_missing)```."
   ]
  },
  {
   "cell_type": "code",
   "execution_count": 49,
   "metadata": {},
   "outputs": [
    {
     "name": "stdout",
     "output_type": "stream",
     "text": [
      "Default value when Key missing\n",
      "unknown\n"
     ]
    }
   ],
   "source": [
    "# You can put anything here.\n",
    "print(coffee_order.get(\"some key\", \"Default value when Key missing\"))\n",
    "# You can put anything here, in place of 'Unkown'.\n",
    "print(coffee_order.get(\"with_caffeine\", \"unknown\"))"
   ]
  },
  {
   "cell_type": "markdown",
   "metadata": {},
   "source": [
    "This is often useful for implementing **business logic**. \n",
    "E.g. If your client reqeusts: \n",
    "If the caffeine level is unknown, assume it is with caffeine. \n",
    "Most coffee drinkers would just assume that unless they specifically said they want a decaf, their coffee will have caffeine. "
   ]
  },
  {
   "cell_type": "code",
   "execution_count": 50,
   "metadata": {},
   "outputs": [
    {
     "name": "stdout",
     "output_type": "stream",
     "text": [
      "Large\n",
      "no\n",
      "no caffeine\n"
     ]
    }
   ],
   "source": [
    "coffee_order = {\"type\": \"Latte\", \"size\": \"Large\"}\n",
    "\n",
    "# You can put anything here as the 'backup'.\n",
    "print(coffee_order.get(\"size\", \"normal\"))\n",
    "print(coffee_order.get(\"milk\", \"no\"))\n",
    "print(coffee_order.get(\"with_caffeine\", \"no caffeine\"))\n",
    "\n",
    "# If there is a value - return it - otherwise, return the backup value."
   ]
  },
  {
   "cell_type": "markdown",
   "metadata": {},
   "source": [
    "### Change or add values:\n",
    "\n",
    "In dictionaries there is not much difference between adding a value or changing a value.\n",
    "\n",
    "Basically, to change a value you add it again and it overwrites/replaces the previous value. "
   ]
  },
  {
   "cell_type": "code",
   "execution_count": 51,
   "metadata": {},
   "outputs": [
    {
     "name": "stdout",
     "output_type": "stream",
     "text": [
      "{'type': 'Latte', 'milk': 'Oat'}\n",
      "{'type': 'Lungo', 'milk': 'Oat'}\n",
      "{'type': 'Lungo', 'milk': 'Oat', 'own_cup': True}\n"
     ]
    }
   ],
   "source": [
    "coffee_order = {\"type\": \"Latte\", \"milk\": \"Oat\"}\n",
    "print(coffee_order)\n",
    "\n",
    "coffee_order[\"type\"] = \"Lungo\"  # Change value, if key already exists.\n",
    "print(coffee_order)\n",
    "\n",
    "coffee_order[\"own_cup\"] = True  # Add key-value pair, if key doesn't exist yet.\n",
    "print(coffee_order)"
   ]
  },
  {
   "cell_type": "markdown",
   "metadata": {},
   "source": [
    "### You can use functions for more safe and predictable results.\n",
    "\n",
    "E.g. ```setdefault(some_key, some_value)``` will only change the value **if this key does not exist yet**.\n",
    "\n",
    "So it should really be called \"set_if_empty()\" or something like that. Oh well let's work with what we have ;) "
   ]
  },
  {
   "cell_type": "code",
   "execution_count": 52,
   "metadata": {},
   "outputs": [
    {
     "name": "stdout",
     "output_type": "stream",
     "text": [
      "{'type': 'Latte', 'milk': 'Oat'}\n",
      "{'type': 'Latte', 'milk': 'Oat', 'temperature': 'hot'}\n"
     ]
    }
   ],
   "source": [
    "coffee_order = {\"type\": \"Latte\", \"milk\": \"Oat\"}\n",
    "\n",
    "print(coffee_order)\n",
    "coffee_order.setdefault(\"temperature\", \"hot\")  # This adds a key-value pair.\n",
    "# This does nothing, because this dictionary already has a key 'type'.\n",
    "coffee_order.setdefault(\"type\", \"Cappuchino\")\n",
    "print(coffee_order)"
   ]
  },
  {
   "cell_type": "markdown",
   "metadata": {},
   "source": [
    "💥 **JARGON: SYNTAX** = Grammar and vocabulary of a programing language e.g. what words, brackets or dots to use.\n",
    "\n",
    "💥 **JARGON: SYNTACTIC SUGAR** = When a Python syntax makes your life easier and sweeter, where theoretically you could have done it 'the old bitter way'. Like replacing `x = x + z` with `x += z` or helping you to avoid extra 'if-else' statements like ```some_list.get(some_key, value_if_missing)```.\n",
    "\n",
    "💥 **JARGON: SYNTACTIC VINEGAR** = When a Python syntax makes your life harder, confusing and miserable, like ```setdefault``` having a confusing name. This works much less in Scotland, because here we put vinegar on chips and that's tasty :) Yum yum!"
   ]
  },
  {
   "cell_type": "markdown",
   "metadata": {},
   "source": [
    "### Remove items:"
   ]
  },
  {
   "cell_type": "code",
   "execution_count": 53,
   "metadata": {},
   "outputs": [
    {
     "name": "stdout",
     "output_type": "stream",
     "text": [
      "{'type': 'Latte', 'milk': 'Oat'}\n",
      "{'type': 'Latte'}\n",
      "Milk was Oat\n"
     ]
    }
   ],
   "source": [
    "coffee_order = {\"type\": \"Latte\", \"milk\": \"Oat\"}\n",
    "\n",
    "print(coffee_order)\n",
    "# Remove value AND RETURN IT (like 'pop()' with lists).\n",
    "milk_value = coffee_order.pop(\"milk\")\n",
    "# This is the dictionary after 'pop()ing'. Notice that \"milk\": \"Oat\" is gone.\n",
    "print(coffee_order)\n",
    "\n",
    "print(\"Milk was\", milk_value)  # this is what 'pop()' returned."
   ]
  },
  {
   "cell_type": "markdown",
   "metadata": {},
   "source": [
    "### Combine dictionary with another dictionary. Note: any overlapping values will be overwritten (forgotten)!"
   ]
  },
  {
   "cell_type": "code",
   "execution_count": 54,
   "metadata": {},
   "outputs": [
    {
     "name": "stdout",
     "output_type": "stream",
     "text": [
      "{'type': 'Latte', 'size': 'Large', 'sugars': 6, 'milk': 'Cow'}\n",
      "{'type': 'Latte', 'size': 'Large', 'sugars': 6, 'milk': 'Oat', 'cup': 'takeaway'}\n"
     ]
    }
   ],
   "source": [
    "coffee_order = {\"type\": \"Latte\", \"size\": \"Large\", \"sugars\": 6,  \"milk\": \"Cow\"}\n",
    "\n",
    "print(coffee_order)\n",
    "coffee_order.update({\"milk\": \"Oat\", \"cup\": \"takeaway\"})\n",
    "print(coffee_order)\n",
    "\n",
    "# Milk is overwritten, because it already exsisted, cup is added."
   ]
  },
  {
   "cell_type": "markdown",
   "metadata": {},
   "source": [
    "### Simplifying the dictionary to just its keys, or just its values:"
   ]
  },
  {
   "cell_type": "code",
   "execution_count": 55,
   "metadata": {},
   "outputs": [
    {
     "name": "stdout",
     "output_type": "stream",
     "text": [
      "dict_keys(['type', 'size', 'sugars', 'milk', 'table_number'])\n",
      "dict_values(['Latte', 'Large', 2, 'Oat', 8])\n"
     ]
    }
   ],
   "source": [
    "coffee_order = {\"type\": \"Latte\", \"size\": \"Large\",\n",
    "                \"sugars\": 2, \"milk\": \"Oat\", \"table_number\": 8}\n",
    "\n",
    "print(coffee_order.keys())  # Returns all keys as a list.\n",
    "print(coffee_order.values())  # Returns all values as a list"
   ]
  },
  {
   "cell_type": "markdown",
   "metadata": {},
   "source": [
    "There is no guarantee the results of  ```keys()``` and ```values()``` will be ordered in any particular way.\n",
    "\n",
    "Also, while dictionaries are sort of like a list and, basically behave like lists. You can force them to actually be a list by CASTING them, like we've casted other 'type's' in Python before. Remember int(\"22\") or string(123)? "
   ]
  },
  {
   "cell_type": "code",
   "execution_count": 56,
   "metadata": {},
   "outputs": [
    {
     "name": "stdout",
     "output_type": "stream",
     "text": [
      "['type', 'size', 'sugars', 'milk', 'table_number']\n",
      "['Latte', 'Large', 2, 'Oat', 8]\n"
     ]
    }
   ],
   "source": [
    "coffee_order = {\"type\": \"Latte\", \"size\": \"Large\",\n",
    "                \"sugars\": 2, \"milk\": \"Oat\", \"table_number\": 8}\n",
    "\n",
    "print(list(coffee_order.keys()))  # Returns all keys as a list.\n",
    "print(list(coffee_order.values()))  # Returns all values as a list."
   ]
  },
  {
   "cell_type": "markdown",
   "metadata": {},
   "source": [
    "## Real World Data and JSON: Lists of Dictionaries, and Dictionaries of Lists.\n",
    "\n",
    "### Top Tip: look at brackets!\n",
    "### [ ] means LIST\n",
    "### { } means DICTIONARY\n",
    "\n",
    "We already know that lists describe collections of similar objects. And dictionaries describe details/attributes of one complicated object. But what if you want to have a list of complicated objects?\n",
    "\n",
    "E.g. If one coffee order looks like this: ```coffee_order = {\"type\":\"Latte\", \"milk\": \"Oat\"}```.\n",
    "What if you wanted to store many coffee orders? That is a very likely scenario.\n",
    "\n",
    "This is where you would follow the principles you've learned and try them in a new context."
   ]
  },
  {
   "cell_type": "markdown",
   "metadata": {},
   "source": [
    "Instead of having a number of variables:"
   ]
  },
  {
   "cell_type": "code",
   "execution_count": 57,
   "metadata": {},
   "outputs": [
    {
     "name": "stdout",
     "output_type": "stream",
     "text": [
      "{'type': 'Latte', 'milk': 'Cow'} {'type': 'Lungo', 'milk': 'None'} {'type': 'Latte', 'milk': 'Oat', 'sugar': 2}\n"
     ]
    }
   ],
   "source": [
    "coffee_order0 = {\"type\": \"Latte\", \"milk\": \"Cow\"}\n",
    "coffee_order1 = {\"type\": \"Lungo\", \"milk\": \"None\"}\n",
    "coffee_order2 = {\"type\": \"Latte\", \"milk\": \"Oat\", \"sugar\": 2}\n",
    "\n",
    "print(coffee_order0, coffee_order1, coffee_order2)"
   ]
  },
  {
   "cell_type": "markdown",
   "metadata": {},
   "source": [
    "You would create a list with these variables in it:"
   ]
  },
  {
   "cell_type": "code",
   "execution_count": 58,
   "metadata": {},
   "outputs": [
    {
     "name": "stdout",
     "output_type": "stream",
     "text": [
      "[{'type': 'Latte', 'milk': 'Cow'}, {'type': 'Lungo', 'milk': 'None'}, {'type': 'Latte', 'milk': 'Oat', 'sugar': 2}]\n"
     ]
    }
   ],
   "source": [
    "coffee_order0 = {\"type\": \"Latte\", \"milk\": \"Cow\"}\n",
    "coffee_order1 = {\"type\": \"Lungo\", \"milk\": \"None\"}\n",
    "coffee_order2 = {\"type\": \"Latte\", \"milk\": \"Oat\", \"sugar\": 2}\n",
    "\n",
    "# Here, we're putting 3 things in a list!\n",
    "coffee_orders = [coffee_order0, coffee_order1, coffee_order2]\n",
    "print(coffee_orders)"
   ]
  },
  {
   "cell_type": "markdown",
   "metadata": {},
   "source": [
    "You could even skip having those temporary variables 'coffee_order0', etc. and define dictionaries as you create the list."
   ]
  },
  {
   "cell_type": "code",
   "execution_count": 59,
   "metadata": {},
   "outputs": [
    {
     "name": "stdout",
     "output_type": "stream",
     "text": [
      "[{'type': 'Latte', 'milk': 'Cow'}, {'type': 'Lungo', 'milk': 'None'}, {'type': 'Latte', 'milk': 'Oat', 'sugar': 2}]\n"
     ]
    }
   ],
   "source": [
    "coffee_orders = [{'type': 'Latte', 'milk': 'Cow'},\n",
    "                 {'type': 'Lungo', 'milk': 'None'},\n",
    "                 {'type': 'Latte', 'milk': 'Oat', 'sugar': 2}]\n",
    "\n",
    "print(coffee_orders)\n",
    "\n",
    "# Super duper tip: When you click/move to the end of a bracket, its 'sibling' bracket will change colour.\n",
    "# Try it - click at both brackets right after ''sugar': 2'."
   ]
  },
  {
   "cell_type": "markdown",
   "metadata": {},
   "source": [
    "### How to read such complex data structures? It looks like a mess of brackets! "
   ]
  },
  {
   "cell_type": "markdown",
   "metadata": {},
   "source": [
    "### Your first Python Package: 'Pretty Print'. It will help show data better. 'pprint( )' is basically a more powerful 'print( )'."
   ]
  },
  {
   "cell_type": "markdown",
   "metadata": {},
   "source": [
    "You will need to train yourselfs to identify brackets and try to decipher what belongs where, but also, Python has a special 'package' to help you to \"pretty print\" things.\n",
    "\n",
    "💥 **JARGON: PACKAGE**: A 'package' is a plugin/upgrade for Python which give us the ability to do some new, cool things. They exist, so that Python in itself can remain simple and quick, but we have the option to install special extras if we want to work with tools like - dates, graphs, statistics etc.\n",
    "\n",
    "We can think of packages as 'apps' for Python, that we install/import from a Python 'app store'. Just like apps on your phone give you the ability to do something better - better photos, better calendar or a more fun game - packages give Python new abilities to be more helpful.\n",
    "\n",
    "We import/install packages with a piece of Python code, but we have to re-run that import every time we start running a Notebook. In other words: packages are enabled just temporarily. But don't worry! We can just enable them over and over again."
   ]
  },
  {
   "cell_type": "code",
   "execution_count": 60,
   "metadata": {},
   "outputs": [],
   "source": [
    "# You need to run this, but just once per Notebook.\n",
    "\n",
    "import pprint as pp\n",
    "\n",
    "# Here we import a package 'pprint' and we give it short nickname 'pp'."
   ]
  },
  {
   "cell_type": "code",
   "execution_count": 61,
   "metadata": {},
   "outputs": [
    {
     "name": "stdout",
     "output_type": "stream",
     "text": [
      "[{'type': 'Latte', 'milk': 'Cow'}, {'type': 'Lungo', 'milk': 'None'}, {'type': 'Lungo', 'milk': 'Cow'}, {'type': 'Latte', 'milk': 'None'}, {'type': 'Filter', 'milk': 'Cow'}, {'type': 'Lungo', 'milk': 'Cow'}, {'type': 'Latte', 'milk': 'None'}, {'type': 'Filter', 'milk': 'Cow'}, {'type': 'Latte', 'milk': 'Oat', 'sugar': 2}]\n"
     ]
    }
   ],
   "source": [
    "coffee_orders = [{'type': 'Latte', 'milk': 'Cow'},\n",
    "                 {'type': 'Lungo', 'milk': 'None'},\n",
    "                 {'type': 'Lungo', 'milk': 'Cow'},\n",
    "                 {'type': 'Latte', 'milk': 'None'},\n",
    "                 {'type': 'Filter', 'milk': 'Cow'},\n",
    "                 {'type': 'Lungo', 'milk': 'Cow'},\n",
    "                 {'type': 'Latte', 'milk': 'None'},\n",
    "                 {'type': 'Filter', 'milk': 'Cow'},\n",
    "                 {'type': 'Latte', 'milk': 'Oat', 'sugar': 2}]\n",
    "\n",
    "# First the old version, the 'un-pretty print'.\n",
    "\n",
    "print(coffee_orders)\n",
    "\n",
    "# Notice how it's hard to read."
   ]
  },
  {
   "cell_type": "code",
   "execution_count": 62,
   "metadata": {},
   "outputs": [
    {
     "name": "stdout",
     "output_type": "stream",
     "text": [
      "[{'milk': 'Cow', 'type': 'Latte'},\n",
      " {'milk': 'None', 'type': 'Lungo'},\n",
      " {'milk': 'Cow', 'type': 'Lungo'},\n",
      " {'milk': 'None', 'type': 'Latte'},\n",
      " {'milk': 'Cow', 'type': 'Filter'},\n",
      " {'milk': 'Cow', 'type': 'Lungo'},\n",
      " {'milk': 'None', 'type': 'Latte'},\n",
      " {'milk': 'Cow', 'type': 'Filter'},\n",
      " {'milk': 'Oat', 'sugar': 2, 'type': 'Latte'}]\n"
     ]
    }
   ],
   "source": [
    "# Here from the package 'pp', we use the method/function called 'pprint', which is like 'print()'... but prettier.\n",
    "\n",
    "pp.pprint(coffee_orders)"
   ]
  },
  {
   "cell_type": "code",
   "execution_count": 63,
   "metadata": {},
   "outputs": [
    {
     "name": "stdout",
     "output_type": "stream",
     "text": [
      "'hello'\n"
     ]
    }
   ],
   "source": [
    "# But, if you by accident use 'pprint' to print something simple, it will also be fine.\n",
    "\n",
    "pp.pprint(\"hello\")"
   ]
  },
  {
   "cell_type": "code",
   "execution_count": 64,
   "metadata": {},
   "outputs": [
    {
     "name": "stdout",
     "output_type": "stream",
     "text": [
      "1234\n",
      "1234\n"
     ]
    }
   ],
   "source": [
    "# Indeed, it is also a bit better than plain print, because it will indicate variable type with ''.\n",
    "# Which 'print()' does not do automatically :(\n",
    "\n",
    "print(1234)\n",
    "print(\"1234\")"
   ]
  },
  {
   "cell_type": "code",
   "execution_count": 65,
   "metadata": {},
   "outputs": [
    {
     "name": "stdout",
     "output_type": "stream",
     "text": [
      "1234\n",
      "'1234'\n"
     ]
    }
   ],
   "source": [
    "pp.pprint(1234)\n",
    "pp.pprint(\"1234\")\n",
    "\n",
    "# This can be very useful for debugging."
   ]
  },
  {
   "cell_type": "markdown",
   "metadata": {},
   "source": [
    "## How to navigate lists of dictionaries? \n",
    "\n",
    "### Like accessing a normal list: Keep drilling-in from the left-hand-side.\n",
    "\n",
    "You already know that if you have a list, you can access and change elements of it using the index, like this:"
   ]
  },
  {
   "cell_type": "code",
   "execution_count": 66,
   "metadata": {},
   "outputs": [
    {
     "name": "stdout",
     "output_type": "stream",
     "text": [
      "['Mercury', 'Venus', 'Earth', 'Mars', 'Jupyter', 'Saturn', 'Uranus']\n",
      "Mercury\n"
     ]
    }
   ],
   "source": [
    "# Access:\n",
    "\n",
    "planets = [\"Mercury\", \"Venus\", \"Earth\", \"Mars\", \"Jupyter\", \"Saturn\", \"Uranus\"]\n",
    "print(planets)\n",
    "print(planets[0])"
   ]
  },
  {
   "cell_type": "code",
   "execution_count": 67,
   "metadata": {},
   "outputs": [
    {
     "name": "stdout",
     "output_type": "stream",
     "text": [
      "['Mercury', 'Venus', 'Earth', 'Mars', 'Jupyter', 'Saturn', 'Uranus']\n",
      "['Mercury', 'Venus', 'Terra', 'Mars', 'Jupyter', 'Saturn', 'Uranus']\n"
     ]
    }
   ],
   "source": [
    "# Change:\n",
    "\n",
    "print(planets)\n",
    "planets[2] = \"Terra\"\n",
    "print(planets)"
   ]
  },
  {
   "cell_type": "markdown",
   "metadata": {},
   "source": [
    "Because `coffee_orders` is just a normal list, but instead of simple strings it holds whole dictionaries, you can do what you did above with a very similar effect. \n",
    "\n",
    "Compare the above code - list of strings, with the below code - list of dictionaries."
   ]
  },
  {
   "cell_type": "code",
   "execution_count": 68,
   "metadata": {},
   "outputs": [
    {
     "name": "stdout",
     "output_type": "stream",
     "text": [
      "[{'milk': 'Cow', 'type': 'Latte'},\n",
      " {'milk': 'None', 'type': 'Lungo'},\n",
      " {'milk': 'Oat', 'sugar': 2, 'type': 'Latte'}]\n",
      "\n",
      "{'milk': 'Cow', 'type': 'Latte'}\n",
      "\n",
      "'Latte'\n"
     ]
    }
   ],
   "source": [
    "coffee_orders = [{'type': 'Latte', 'milk': 'Cow'},\n",
    "                 {'type': 'Lungo', 'milk': 'None'},\n",
    "                 {'type': 'Latte', 'milk': 'Oat', 'sugar': 2}]\n",
    "pp.pprint(coffee_orders)\n",
    "print()  # extra line, just for readability\n",
    "\n",
    "pp.pprint(coffee_orders[0])\n",
    "print()\n",
    "\n",
    "pp.pprint(coffee_orders[0]['type'])  # or coffee_orders[0].get('type')"
   ]
  },
  {
   "cell_type": "code",
   "execution_count": 69,
   "metadata": {},
   "outputs": [
    {
     "name": "stdout",
     "output_type": "stream",
     "text": [
      "[{'milk': 'Cow', 'type': 'Latte'},\n",
      " {'milk': 'None', 'sugar': 4, 'type': 'Espresso'},\n",
      " {'milk': 'Oat', 'sugar': 2, 'type': 'Latte'}]\n"
     ]
    }
   ],
   "source": [
    "# Overwrite element at index 1:\n",
    "\n",
    "coffee_orders[1] = {'type': 'Espresso', 'milk': 'None', 'sugar': 4}\n",
    "pp.pprint(coffee_orders)"
   ]
  },
  {
   "cell_type": "markdown",
   "metadata": {},
   "source": [
    "The only way to learn this, is to experiment and practice. You will gradually absorb the idea through repetition."
   ]
  },
  {
   "cell_type": "code",
   "execution_count": 70,
   "metadata": {},
   "outputs": [
    {
     "name": "stdout",
     "output_type": "stream",
     "text": [
      "{'type': 'Latte', 'milk': 'Cow'}\n",
      "{'type': 'Latte', 'milk': 'Oat', 'sugar': 2}\n",
      "2\n"
     ]
    }
   ],
   "source": [
    "print(coffee_orders[0])\n",
    "print(coffee_orders[2])\n",
    "print(coffee_orders[2]['sugar'])"
   ]
  },
  {
   "cell_type": "markdown",
   "metadata": {},
   "source": [
    "### How to think about elements of a list? Think of them as variables! \n",
    "\n",
    "You can treat a part of a list like that, as you would treat any variable. You can print it, or you can store it in another variable, or you can even change it.\n",
    "\n",
    "For example, let's extract the first item in this list and save it in a new variable.\n",
    "We can extract some information from that variable, bacause it's a dictionary with keys - 'type', 'milk' and 'sugar'."
   ]
  },
  {
   "cell_type": "code",
   "execution_count": 71,
   "metadata": {},
   "outputs": [
    {
     "name": "stdout",
     "output_type": "stream",
     "text": [
      "{'type': 'Latte', 'milk': 'Cow'}\n",
      "Cow\n"
     ]
    }
   ],
   "source": [
    "coffee_orders = [{'type': 'Latte', 'milk': 'Cow'},\n",
    "                 {'type': 'Lungo', 'milk': 'None'},\n",
    "                 {'type': 'Latte', 'milk': 'Oat', 'sugar': 2}]\n",
    "\n",
    "first_coffee = coffee_orders[0]  # saving a piece of Dict in another variable\n",
    "print(first_coffee)\n",
    "\n",
    "print(first_coffee['milk'])"
   ]
  },
  {
   "cell_type": "markdown",
   "metadata": {},
   "source": [
    "You could also do it directly, without a temporary variable:"
   ]
  },
  {
   "cell_type": "code",
   "execution_count": 72,
   "metadata": {},
   "outputs": [
    {
     "name": "stdout",
     "output_type": "stream",
     "text": [
      "{'type': 'Latte', 'milk': 'Cow'}\n",
      "Cow\n"
     ]
    }
   ],
   "source": [
    "coffee_orders = [{'type': 'Latte', 'milk': 'Cow'},\n",
    "                 {'type': 'Lungo', 'milk': 'None'},\n",
    "                 {'type': 'Latte', 'milk': 'Oat', 'sugar': 2}]\n",
    "\n",
    "print(coffee_orders[0])\n",
    "\n",
    "print(coffee_orders[0]['milk'])"
   ]
  },
  {
   "cell_type": "markdown",
   "metadata": {},
   "source": [
    "### Diving/Reaching deeper into data!\n",
    "\n",
    "Because when you reach into a variable, you can read it from the left:\n",
    "\n",
    "```coffee_orders[0]['milk']``` means:\n",
    "\n",
    "- Get variable coffee_orders ```coffee_orders```.\n",
    "- Then from that result get element at index 0 from it ```[0]```.\n",
    "- Then from that result get a value of a key milk ```['milk']```.\n",
    "\n",
    "Here's a step by step breakdown:"
   ]
  },
  {
   "cell_type": "code",
   "execution_count": 73,
   "metadata": {},
   "outputs": [
    {
     "name": "stdout",
     "output_type": "stream",
     "text": [
      "[{'type': 'Latte', 'milk': 'Cow'}, {'type': 'Lungo', 'milk': 'None'}, {'type': 'Latte', 'milk': 'Oat', 'sugar': 2}]\n",
      "{'type': 'Latte', 'milk': 'Cow'}\n",
      "Cow\n"
     ]
    }
   ],
   "source": [
    "# Here are the above steps broken down so you can see it better:\n",
    "\n",
    "print(coffee_orders)\n",
    "print(coffee_orders[0])\n",
    "print(coffee_orders[0]['milk'])"
   ]
  },
  {
   "cell_type": "markdown",
   "metadata": {},
   "source": [
    "So for example, to print the 'sugar' value of the third item you would need to:\n",
    "\n",
    "- Get the third item (remember we count starting from 0)\n",
    "- Then ask for a value under the key 'sugar'."
   ]
  },
  {
   "cell_type": "code",
   "execution_count": 74,
   "metadata": {},
   "outputs": [
    {
     "name": "stdout",
     "output_type": "stream",
     "text": [
      "2\n"
     ]
    }
   ],
   "source": [
    "coffee_orders = [{'type': 'Latte', 'milk': 'Cow'},\n",
    "                 {'type': 'Lungo', 'milk': 'None'},\n",
    "                 {'type': 'Latte', 'milk': 'Oat', 'sugar': 2}]\n",
    "\n",
    "print(coffee_orders[2]['sugar'])"
   ]
  },
  {
   "cell_type": "markdown",
   "metadata": {},
   "source": [
    "The same way as you can extract a value, you could change it:"
   ]
  },
  {
   "cell_type": "code",
   "execution_count": 75,
   "metadata": {},
   "outputs": [
    {
     "name": "stdout",
     "output_type": "stream",
     "text": [
      "[{'milk': 'Cow', 'type': 'Latte'},\n",
      " {'milk': 'None', 'type': 'Lungo'},\n",
      " {'milk': 'Oat', 'sugar': 1, 'type': 'Latte'}]\n"
     ]
    }
   ],
   "source": [
    "coffee_orders = [{'type': 'Latte', 'milk': 'Cow'},\n",
    "                 {'type': 'Lungo', 'milk': 'None'},\n",
    "                 {'type': 'Latte', 'milk': 'Oat', 'sugar': 2}]\n",
    "\n",
    "coffee_orders[2]['sugar'] = 1\n",
    "pp.pprint(coffee_orders)"
   ]
  },
  {
   "cell_type": "markdown",
   "metadata": {},
   "source": [
    "What is more, you can use a variable to indicate the index or key that you want to acess:"
   ]
  },
  {
   "cell_type": "code",
   "execution_count": 76,
   "metadata": {},
   "outputs": [
    {
     "name": "stdout",
     "output_type": "stream",
     "text": [
      "Lungo\n"
     ]
    }
   ],
   "source": [
    "coffee_orders = [{'type': 'Latte', 'milk': 'Cow'},\n",
    "                 {'type': 'Lungo', 'milk': 'None'},\n",
    "                 {'type': 'Latte', 'milk': 'Oat', 'sugar': 2}]\n",
    "\n",
    "which_order = 1\n",
    "which_attribute = 'type'\n",
    "\n",
    "print(coffee_orders[which_order][which_attribute])"
   ]
  },
  {
   "cell_type": "markdown",
   "metadata": {},
   "source": [
    "We will use above technique TIME AND AGAIN within the upcoming weeks. \n",
    "\n",
    "Have a careful read of the above code. Try to change it, just to see what it does e.g. get last item's 'milk'."
   ]
  },
  {
   "cell_type": "markdown",
   "metadata": {},
   "source": [
    "## How about dictionaries with lists? It's just the same: Read from left-hand-side.\n",
    "\n",
    "Read from the left-hand-side and imagine drilling into boxes of boxes..."
   ]
  },
  {
   "cell_type": "code",
   "execution_count": 77,
   "metadata": {},
   "outputs": [
    {
     "name": "stdout",
     "output_type": "stream",
     "text": [
      "{'functions': ['+', '-', '*', '/', '='],\n",
      " 'numbers': [1, 2, 3, 4, 5, 6, 7, 8, 9, 0]}\n"
     ]
    }
   ],
   "source": [
    "calculator = {\n",
    "    'numbers': [1, 2, 3, 4, 5, 6, 7, 8, 9, 0],\n",
    "    'functions': [\"+\", \"-\", \"*\", \"/\", \"=\"]\n",
    "}\n",
    "\n",
    "pp.pprint(calculator)"
   ]
  },
  {
   "cell_type": "markdown",
   "metadata": {},
   "source": [
    "To get the value of key 'functions' and then get the fourth item in it:"
   ]
  },
  {
   "cell_type": "code",
   "execution_count": 78,
   "metadata": {},
   "outputs": [
    {
     "name": "stdout",
     "output_type": "stream",
     "text": [
      "{'functions': ['+', '-', '*', '/', '='],\n",
      " 'numbers': [1, 2, 3, 4, 5, 6, 7, 8, 9, 0]}\n"
     ]
    }
   ],
   "source": [
    "pp.pprint(calculator)"
   ]
  },
  {
   "cell_type": "code",
   "execution_count": 79,
   "metadata": {},
   "outputs": [
    {
     "name": "stdout",
     "output_type": "stream",
     "text": [
      "['+', '-', '*', '/', '=']\n",
      "/\n",
      "0\n"
     ]
    }
   ],
   "source": [
    "print(calculator['functions'])\n",
    "print(calculator['functions'][3])\n",
    "print(calculator['numbers'][-1])"
   ]
  },
  {
   "cell_type": "markdown",
   "metadata": {},
   "source": [
    "### 🔜 SPOILER ALERT: Object Oriented Design.\n",
    "\n",
    "In a few badges time, you will learn about one of the greatest breakthroughs in modern programming: 'Object Oriented Design'. \n",
    "But for now you can probably already see elements of it:\n",
    "\n",
    "**When you have many dictionaries describing simmilar things, it would be nice if they all used the same keys for their same type of data**.\n",
    "\n",
    "So that you do not have a list looking like this:\n",
    "\n",
    "\n",
    "```\n",
    "coffee_orders = [{'type': 'Latte', 'milk': 'Oat', 'sugar': 2},\n",
    "                 {'what': 'Latte', 'Milk': 'Oat', 'sweetness': 2},\n",
    "                 {'which': 'Latte', 'mikl': 'Oat', 'sugariness': 2}]\n",
    "```\n",
    "\n",
    "Objects will make this dramatically easier, but for now, you'll just need to be careful with your spelling and use 'Tab' key for predictive typing (if it works in your browser). \n",
    "\n",
    "We'll talk more about 'Object Oriented Design' some time soon.\n",
    "\n",
    "### Try to stick to one naming convention, basically be consistent with your names. \n",
    "\n",
    "### Whenever you are unclear of how to read big blocks of data, read it from the outside to the inside.\n",
    "\n",
    "### 'Chisel' at it - one step at a time, get closer to the inside."
   ]
  },
  {
   "cell_type": "markdown",
   "metadata": {},
   "source": [
    "## ⭐️⭐️⭐️💥 What you have learned in this session: Three stars and a wish.\n",
    "**In your own words** write in your Learn diary:\n",
    "\n",
    "- 3 things you would like to remember from this badge.\n",
    "- 1 thing you wish to understand better in the future or a question you'd like to ask."
   ]
  },
  {
   "cell_type": "markdown",
   "metadata": {},
   "source": [
    "# ⛏ Bonus Minitask: Create some data, and then read some data.\n",
    "\n",
    "\n",
    "Remember to every now and then save your progress (File > Save, or a keyboard shortcut) \n",
    "\n",
    "## ⛏ 1: Create data for a number of sandwiches / bagels.\n",
    "\n",
    "Create a list with a number of dictionaries in it. Each dictionary should describe a sandwich: eg. bread type, price, name. Some attributes will be strings, other numbers or even boolean values. Make sure you have some of each.\n",
    "\n",
    "It is up to you what information you store about a sandwich. Make your list have at least 4 items, and make sure each item has at least 3 attributes. If you do not know where to start, use above examples with coffee orders. "
   ]
  },
  {
   "cell_type": "code",
   "execution_count": 80,
   "metadata": {},
   "outputs": [],
   "source": [
    "# here wrtite your code\n",
    "# this task is about sandwiches, but if it was about fruits, it could look like this:\n",
    "fruits = [{'species': 'apple', 'variety': 'granny smith', 'color': 'green'},\n",
    "          {'species': 'apple', 'variety': 'McIntosh', 'color': 'red'},\n",
    "          {'species': 'banana', 'color': 'yellow', 'stickers': ['fairtrader', 'organic']\n",
    "           }]\n",
    "# so now write something like that for your favourite 3-4 sanwiches"
   ]
  },
  {
   "cell_type": "code",
   "execution_count": 7,
   "metadata": {},
   "outputs": [],
   "source": [
    "# more space for your code!"
   ]
  },
  {
   "cell_type": "code",
   "execution_count": 81,
   "metadata": {},
   "outputs": [
    {
     "data": {
      "text/plain": [
       "'yellow'"
      ]
     },
     "execution_count": 81,
     "metadata": {},
     "output_type": "execute_result"
    }
   ],
   "source": [
    "# write some queries:\n",
    "# eg. what's the colour of the last fruit?\n",
    "fruits[-1]['color']"
   ]
  },
  {
   "cell_type": "markdown",
   "metadata": {},
   "source": [
    "## ⛏ Extra: Can you add a List of toppings to Each sandwich?\n",
    "\n",
    "Make it just be a list of strings like ```[\"bacon\", \"lettuce\", \"tomato\"]``` so that someone could ask \"what is the second topping on the first sandwich\" by writing ```sandwiches[0]['toppings'][1]```. Always remember to read from the left hand side."
   ]
  },
  {
   "cell_type": "code",
   "execution_count": 87,
   "metadata": {},
   "outputs": [
    {
     "name": "stdout",
     "output_type": "stream",
     "text": [
      "maple sirup\n"
     ]
    }
   ],
   "source": [
    "sandwiches = [\n",
    "    # Here add some sandwich info, like we did for coffee orders\n",
    "    {'bread': 'Toast', 'spread': 'Butter', 'topping': [\"cucumber\", \"olives\", \"cheese\"]},\n",
    "    {'bread': 'Bun', 'spread': 'Magarine', 'topping': ['salt', 'pepper']},\n",
    "    {'bread': 'Pancake', 'spread': 'melted butter', 'topping': ['maple sirup']}    \n",
    "]\n",
    "\n",
    "# First topping on last sandwich:\n",
    "print(sandwiches[-1]['topping'][0])"
   ]
  },
  {
   "cell_type": "code",
   "execution_count": null,
   "metadata": {},
   "outputs": [],
   "source": []
  },
  {
   "cell_type": "markdown",
   "metadata": {},
   "source": [
    "## ⛏ 2: Extract information from below data from a real life API source:\n",
    "\n",
    "Below is an excerpt form the API (publicly available data) of Bank of Scotland. \n",
    "It describes 3 cash machines with all of their attributes - languages they support, accessibility issues, etc.\n",
    "\n",
    "Use what you have learned in this badge to understand what you are looking at. Then come up with 5 different questions yourself and write code that will find it out for you:\n",
    "\n",
    "E.g: Easy Level - What is the MinimumPossibleAmount I can recieve from the first cash machine.\n",
    "\n",
    "```print( bank_of_scotland_atms[0]['MinimumPossibleAmount'] ) ```\n",
    "\n",
    "eg. Harder Level - How many languages does the last cash machine support?\n",
    "\n",
    "```print( len( bank_of_scotland_atms[-1]['SupportedLanguages'] ) )```"
   ]
  },
  {
   "cell_type": "code",
   "execution_count": 88,
   "metadata": {},
   "outputs": [
    {
     "name": "stdout",
     "output_type": "stream",
     "text": [
      "[{'ATMServices': ['PINUnblock',\n",
      "                  'Balance',\n",
      "                  'BillPayments',\n",
      "                  'CashWithdrawal',\n",
      "                  'FastCash',\n",
      "                  'MobilePhoneTopUp',\n",
      "                  'PINChange',\n",
      "                  'MiniStatement'],\n",
      "  'Accessibility': ['WheelchairAccess'],\n",
      "  'Branch': {'Identification': '80453100'},\n",
      "  'Identification': 'BFF7BC11',\n",
      "  'Location': {'LocationCategory': ['BranchExternal'],\n",
      "               'PostalAddress': {'AddressLine': ['136 BUCHANAN STREET; '\n",
      "                                                 'BALFRON'],\n",
      "                                 'BuildingNumber': 'BOS BRANCH',\n",
      "                                 'Country': 'GB',\n",
      "                                 'CountrySubDivision': ['GLASGOW'],\n",
      "                                 'GeoLocation': {'GeographicCoordinates': {'Latitude': '56.071629',\n",
      "                                                                           'Longitude': '-4.336911'}},\n",
      "                                 'PostCode': 'G63 0TG',\n",
      "                                 'StreetName': '136 BUCHANAN STREET',\n",
      "                                 'TownName': 'GLASGOW'},\n",
      "               'Site': {'Identification': '80453100'}},\n",
      "  'MinimumPossibleAmount': '10',\n",
      "  'SupportedCurrencies': ['GBP'],\n",
      "  'SupportedLanguages': ['eng', 'spa', 'ger', 'fre', 'pol', 'gae', 'ukr']},\n",
      " {'ATMServices': ['PINUnblock',\n",
      "                  'Balance',\n",
      "                  'BillPayments',\n",
      "                  'CashWithdrawal',\n",
      "                  'FastCash',\n",
      "                  'MobilePhoneTopUp',\n",
      "                  'PINChange',\n",
      "                  'MiniStatement'],\n",
      "  'Accessibility': ['AudioCashMachine', 'WheelchairAccess'],\n",
      "  'Branch': {'Identification': '80496000'},\n",
      "  'Identification': 'BFA6HC11',\n",
      "  'Location': {'LocationCategory': ['BranchInternal'],\n",
      "               'PostalAddress': {'AddressLine': ['BRISTOL ROOM COPLEY DATA '\n",
      "                                                 'CENTRE; WAKEFIELD ROAD'],\n",
      "                                 'BuildingNumber': 'BOS BRANCH',\n",
      "                                 'Country': 'GB',\n",
      "                                 'CountrySubDivision': ['WEST YORKSHIRE'],\n",
      "                                 'GeoLocation': {'GeographicCoordinates': {'Latitude': '51.454900',\n",
      "                                                                           'Longitude': '2.592000'}},\n",
      "                                 'PostCode': 'HX3 0TD',\n",
      "                                 'StreetName': 'BRISTOL ROOM COPLEY DATA '\n",
      "                                               'CENTRE',\n",
      "                                 'TownName': 'HALIFAX'},\n",
      "               'Site': {'Identification': '80496000'}},\n",
      "  'MinimumPossibleAmount': '10',\n",
      "  'SupportedCurrencies': ['GBP'],\n",
      "  'SupportedLanguages': ['eng', 'spa', 'ger', 'fre']},\n",
      " {'ATMServices': ['PINUnblock',\n",
      "                  'Balance',\n",
      "                  'BillPayments',\n",
      "                  'CashWithdrawal',\n",
      "                  'FastCash',\n",
      "                  'MobilePhoneTopUp',\n",
      "                  'PINChange',\n",
      "                  'MiniStatement'],\n",
      "  'Accessibility': ['AudioCashMachine', 'WheelchairAccess'],\n",
      "  'Branch': {'Identification': '80452300'},\n",
      "  'Identification': 'BF88GC11',\n",
      "  'Location': {'LocationCategory': ['BranchInternal'],\n",
      "               'PostalAddress': {'AddressLine': ['111 HIGH STREET;'],\n",
      "                                 'BuildingNumber': 'BOS BRANCH',\n",
      "                                 'Country': 'GB',\n",
      "                                 'CountrySubDivision': ['DUMFRIES AND '\n",
      "                                                        'GALLOWAY'],\n",
      "                                 'GeoLocation': {'GeographicCoordinates': {'Latitude': '54.987176',\n",
      "                                                                           'Longitude': '-3.260075'}},\n",
      "                                 'PostCode': 'DG12 6AB',\n",
      "                                 'StreetName': '111 HIGH STREET',\n",
      "                                 'TownName': 'ANNAN'},\n",
      "               'Site': {'Identification': '80452300'}},\n",
      "  'MinimumPossibleAmount': '10',\n",
      "  'SupportedCurrencies': ['GBP'],\n",
      "  'SupportedLanguages': ['eng', 'spa', 'ger', 'fre']}]\n"
     ]
    }
   ],
   "source": [
    "# Practise clicking on the bracket to see its 'sibling' bracket i.e. where it opens/closes.\n",
    "bank_of_scotland_atms = [{'Identification': 'BFF7BC11',\n",
    "                          'SupportedLanguages': ['eng', 'spa', 'ger', 'fre', 'pol', 'gae', 'ukr'],\n",
    "                          'ATMServices': ['PINUnblock',\n",
    "                                          'Balance',\n",
    "                                          'BillPayments',\n",
    "                                          'CashWithdrawal',\n",
    "                                          'FastCash',\n",
    "                                          'MobilePhoneTopUp',\n",
    "                                          'PINChange',\n",
    "                                          'MiniStatement'],\n",
    "                          'Accessibility': ['WheelchairAccess'],\n",
    "                          'SupportedCurrencies': ['GBP'],\n",
    "                          'MinimumPossibleAmount': '10',\n",
    "                          'Branch': {'Identification': '80453100'},\n",
    "                          'Location': {'LocationCategory': ['BranchExternal'],\n",
    "                                       'Site': {'Identification': '80453100'},\n",
    "                                       'PostalAddress': {'AddressLine': ['136 BUCHANAN STREET; BALFRON'],\n",
    "                                                         'BuildingNumber': 'BOS BRANCH',\n",
    "                                                         'StreetName': '136 BUCHANAN STREET',\n",
    "                                                         'TownName': 'GLASGOW',\n",
    "                                                         'CountrySubDivision': ['GLASGOW'],\n",
    "                                                         'Country': 'GB',\n",
    "                                                         'PostCode': 'G63 0TG',\n",
    "                                                         'GeoLocation': {'GeographicCoordinates': {'Latitude': '56.071629',\n",
    "                                                                                                   'Longitude': '-4.336911'}}}}},\n",
    "                         {'Identification': 'BFA6HC11',\n",
    "                          'SupportedLanguages': ['eng', 'spa', 'ger', 'fre'],\n",
    "                          'ATMServices': ['PINUnblock',\n",
    "                                          'Balance',\n",
    "                                          'BillPayments',\n",
    "                                          'CashWithdrawal',\n",
    "                                          'FastCash',\n",
    "                                          'MobilePhoneTopUp',\n",
    "                                          'PINChange',\n",
    "                                          'MiniStatement'],\n",
    "                          'Accessibility': ['AudioCashMachine', 'WheelchairAccess'],\n",
    "                          'SupportedCurrencies': ['GBP'],\n",
    "                          'MinimumPossibleAmount': '10',\n",
    "                          'Branch': {'Identification': '80496000'},\n",
    "                          'Location': {'LocationCategory': ['BranchInternal'],\n",
    "                                       'Site': {'Identification': '80496000'},\n",
    "                                       'PostalAddress': {'AddressLine': ['BRISTOL ROOM COPLEY DATA CENTRE; WAKEFIELD ROAD'],\n",
    "                                                         'BuildingNumber': 'BOS BRANCH',\n",
    "                                                         'StreetName': 'BRISTOL ROOM COPLEY DATA CENTRE',\n",
    "                                                         'TownName': 'HALIFAX',\n",
    "                                                         'CountrySubDivision': ['WEST YORKSHIRE'],\n",
    "                                                         'Country': 'GB',\n",
    "                                                         'PostCode': 'HX3 0TD',\n",
    "                                                         'GeoLocation': {'GeographicCoordinates': {'Latitude': '51.454900',\n",
    "                                                                                                   'Longitude': '2.592000'}}}}},\n",
    "                         {'Identification': 'BF88GC11',\n",
    "                          'SupportedLanguages': ['eng', 'spa', 'ger', 'fre'],\n",
    "                          'ATMServices': ['PINUnblock',\n",
    "                                          'Balance',\n",
    "                                          'BillPayments',\n",
    "                                          'CashWithdrawal',\n",
    "                                          'FastCash',\n",
    "                                          'MobilePhoneTopUp',\n",
    "                                          'PINChange',\n",
    "                                          'MiniStatement'],\n",
    "                          'Accessibility': ['AudioCashMachine', 'WheelchairAccess'],\n",
    "                          'SupportedCurrencies': ['GBP'],\n",
    "                          'MinimumPossibleAmount': '10',\n",
    "                          'Branch': {'Identification': '80452300'},\n",
    "                          'Location': {'LocationCategory': ['BranchInternal'],\n",
    "                                       'Site': {'Identification': '80452300'},\n",
    "                                       'PostalAddress': {'AddressLine': ['111 HIGH STREET;'],\n",
    "                                                         'BuildingNumber': 'BOS BRANCH',\n",
    "                                                         'StreetName': '111 HIGH STREET',\n",
    "                                                         'TownName': 'ANNAN',\n",
    "                                                         'CountrySubDivision': ['DUMFRIES AND GALLOWAY'],\n",
    "                                                         'Country': 'GB',\n",
    "                                                         'PostCode': 'DG12 6AB',\n",
    "                                                         'GeoLocation': {'GeographicCoordinates': {'Latitude': '54.987176',\n",
    "                                                                                                   'Longitude': '-3.260075'}}}}}]\n",
    "\n",
    "pp.pprint(bank_of_scotland_atms)"
   ]
  },
  {
   "cell_type": "code",
   "execution_count": 89,
   "metadata": {},
   "outputs": [
    {
     "name": "stdout",
     "output_type": "stream",
     "text": [
      "10\n"
     ]
    }
   ],
   "source": [
    "# eg: what is the MinimumPossibleAmount I can recieve from the first cash machine\n",
    "print(bank_of_scotland_atms[0]['MinimumPossibleAmount'])"
   ]
  },
  {
   "cell_type": "code",
   "execution_count": 90,
   "metadata": {},
   "outputs": [
    {
     "name": "stdout",
     "output_type": "stream",
     "text": [
      "4\n"
     ]
    }
   ],
   "source": [
    "# how many languages does the last cash machine support?\n",
    "print(len(bank_of_scotland_atms[-1]['SupportedLanguages']))"
   ]
  },
  {
   "cell_type": "markdown",
   "metadata": {},
   "source": [
    "### What else could you do with this ATM data? Have a play! :D\n",
    "\n",
    "It's best if you imagine that the client is asking you a question, and you need to use code to askwer them. eg:\n",
    "\n",
    "- does the first cash machine have 'AudioCashMachine' accessibility feature? (remember you can use if/and/True/False)\n",
    "- what are 'TownName's of all 3 machines?\n",
    "- think of yoru own"
   ]
  },
  {
   "cell_type": "code",
   "execution_count": 103,
   "metadata": {},
   "outputs": [
    {
     "name": "stdout",
     "output_type": "stream",
     "text": [
      "Audio Cash Machine NOT available\n",
      "GLASGOW\n",
      "HALIFAX\n",
      "ANNAN\n"
     ]
    }
   ],
   "source": [
    "if 'AudioCashMachine' in bank_of_scotland_atms[0].get('Accessibility', None):\n",
    "  print(\"Audio Cash Machine available\")\n",
    "else:\n",
    "  print(\"Audio Cash Machine NOT available\")\n",
    "\n",
    "for i in range(0, 3):\n",
    "  print(bank_of_scotland_atms[i]['Location']['PostalAddress']['TownName'])"
   ]
  }
 ],
 "metadata": {
  "kernelspec": {
   "display_name": "Python 3 (ipykernel)",
   "language": "python",
   "name": "python3"
  },
  "language_info": {
   "codemirror_mode": {
    "name": "ipython",
    "version": 3
   },
   "file_extension": ".py",
   "mimetype": "text/x-python",
   "name": "python",
   "nbconvert_exporter": "python",
   "pygments_lexer": "ipython3",
   "version": "3.11.8"
  }
 },
 "nbformat": 4,
 "nbformat_minor": 2
}
