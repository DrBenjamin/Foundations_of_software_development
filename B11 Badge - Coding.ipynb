{
 "cells": [
  {
   "cell_type": "markdown",
   "metadata": {},
   "source": [
    "My own code for Badge 11"
   ]
  },
  {
   "cell_type": "code",
   "execution_count": 11,
   "metadata": {},
   "outputs": [
    {
     "name": "stdout",
     "output_type": "stream",
     "text": [
      "check: plum\n",
      "plum starts with p\n",
      "check: apple\n",
      "check: pear\n",
      "pear starts with p\n",
      "check: kiwi\n",
      "check: fig\n"
     ]
    }
   ],
   "source": [
    "fruits = [\"plum\", \"apple\", \"pear\", \"kiwi\", \"fig\"]\n",
    "\n",
    "def print_words_starting_with(words, letter):\n",
    "  for word in words:\n",
    "    print('check:', word)\n",
    "    if word[0] == letter:\n",
    "      print(word, \"starts with\", letter)\n",
    "  \n",
    "print_words_starting_with(fruits, \"p\")"
   ]
  },
  {
   "cell_type": "code",
   "execution_count": 14,
   "metadata": {},
   "outputs": [
    {
     "name": "stdout",
     "output_type": "stream",
     "text": [
      "check: plum\n",
      "check: plum\n",
      "check: apple\n",
      "check: pear\n",
      "check: kiwi\n",
      "check: fig\n",
      "check: plum\n",
      "check: apple\n",
      "check: pear\n",
      "tests passed\n"
     ]
    }
   ],
   "source": [
    "def is_word_in_list(words, searched_word):\n",
    "  for word in words:\n",
    "    print('check:', word)\n",
    "    if word == searched_word:\n",
    "      return True  \n",
    "  return False\n",
    "    \n",
    "assert is_word_in_list(fruits, \"plum\") == True\n",
    "assert is_word_in_list(fruits, \"banana\") == False\n",
    "assert is_word_in_list(fruits, \"pear\") == True\n",
    "assert (\"plum\" in fruits) == True\n",
    "print(\"tests passed\")"
   ]
  }
 ],
 "metadata": {
  "kernelspec": {
   "display_name": "base",
   "language": "python",
   "name": "python3"
  },
  "language_info": {
   "codemirror_mode": {
    "name": "ipython",
    "version": 3
   },
   "file_extension": ".py",
   "mimetype": "text/x-python",
   "name": "python",
   "nbconvert_exporter": "python",
   "pygments_lexer": "ipython3",
   "version": "3.11.8"
  }
 },
 "nbformat": 4,
 "nbformat_minor": 2
}
