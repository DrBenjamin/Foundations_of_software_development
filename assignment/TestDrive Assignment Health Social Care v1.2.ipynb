{
 "cells": [
  {
   "cell_type": "markdown",
   "metadata": {},
   "source": [
    "# TestDrive assignment: Like the real assignment, but optional and does not count towards your grade.\n",
    "\n",
    "In this notebook:\n",
    "\n",
    "- explanation of the assignment\n",
    "- marking criteria\n",
    "- data and starting code for your 'testdrive' assignment\n",
    "- submission template"
   ]
  },
  {
   "cell_type": "markdown",
   "metadata": {},
   "source": [
    "# What is TestDrive this assignment about:\n",
    "\n",
    "In this assignment you will role-play (pretend) that you are a junior data analyst for NHS.\n",
    "\n",
    "Your task is to look at a dataset of all 15060 GP practices in England and Wales. What can you tell about this set? Are there any insights about the locations or activity of these in there, even thou the data is quite limited? Try to find something interesting, then visualise it and describe what you found in 200 words."
   ]
  },
  {
   "cell_type": "markdown",
   "metadata": {},
   "source": [
    "# What to do for this TrestDrive assignment?\n",
    "\n",
    "- Have a look at the data, try writing some code that tells you what information is there, and what could be interesting to look at?\n",
    "- identify an interesting question that this data could answer (see examples below)\n",
    "- write code that will answer that question. If writing helper functions, can they be tested?\n",
    "- visualise your findings as a simple graph, or even a printed text (try to lay it out so that it looks good).\n",
    "- write about 2 paragraphs of text (200 words +/- 10%) explaining what you saw in the data, what question you identified, and how you answered it with code."
   ]
  },
  {
   "cell_type": "markdown",
   "metadata": {},
   "source": [
    "# How it fits within the course? How to submit and how to get feedback?\n",
    "\n",
    "- if you can come to the pair programming lab for week 4, bring your work with you. During the lab you will be able to discuss it with your partner and with the instructors.\n",
    "- to submit the TestDrive assignment, submit your code, and report via Learn in the Forum. Use the code button {...} when including python code, if you can, so that it is better formatted. PLEASE INCLUDE YOUR NOTEBOOK AS AN ATTACHMENT if you know how.\n",
    "- all those who submit their TestDrive assignment until the date mentioned in Learn, will recieve feedback. Everybody's feedback will be visible to everybody, so that we can all learn better. (Remember this feedback does not have impact on your grades and is just for you to learn better)"
   ]
  },
  {
   "cell_type": "markdown",
   "metadata": {},
   "source": [
    "## Differences and simmilarities between this TestDrive assignment and the final actual assignment:\n",
    "\n",
    "Simmilarities:\n",
    "\n",
    "\n",
    "- identical sumbission components (code, visualisation, mini-report)\n",
    "- simmilar data and tasks.\n",
    "- you will be given feedback and points\n",
    "\n",
    "Differences:\n",
    "\n",
    "- points do not count towards your mark (this testdrive assignment is purely 'formative' i.e. here to help you learn more and better)\n",
    "- you will submit this via Learn Forum, and will be given feedback there. This way everyone can learn from everyone else's code and feedback.\n",
    "- here you will only ask and answer ONE task i.e. ONE 'business question'. So you are writing 1 mini-report. "
   ]
  },
  {
   "cell_type": "markdown",
   "metadata": {},
   "source": [
    "## 1. Deliverables FOR EACH TASK: Code + Mini-report + Visualisation\n",
    "\n",
    "(in this TestDrive you have just one Task, btu final assignment will have 2 separate tasks)\n",
    "\n",
    "For each task, please include the following:\n",
    "\n",
    "- all the **code** that you used to arrive at the conclusion. \n",
    "- a cell with your **mini-report** (200 words +/- 10%). (example in notebook `Mini-report example`)\n",
    "- a cell that will generate the **visualisation** (graph, table or print) that accompanies your mini-report. (read how to manipulate strings in `badge 9` and how to create graphs in `badge 12`)"
   ]
  },
  {
   "cell_type": "markdown",
   "metadata": {},
   "source": [
    "### Code\n",
    "\n",
    "In your notebook please include all the **code** that you used to arrive at the conclusion. \n",
    "\n",
    "- It is absolutely ok to re-use your own code from one question in another question\n",
    "- But please write the most important parts of code for each Question that help you to answer the question \n",
    "\n",
    "\n",
    "### Mini-report\n",
    "\n",
    "At the end of your notebook, for each Task, you should provide:\n",
    "\n",
    "- a markdown (text) cell with your mini-report (200 words +/- 10%). For reference, 'Marking criteria' section below has around 450 words)\n",
    "\n",
    "### Visualisation\n",
    "\n",
    "Use the data you extracted to further your argument with visualisations:\n",
    "\n",
    "- a cell that will generate the graph or table that accompanies your mini-report. You are allowed to combine a number of graphs (eg. three similar graphs side-by-side) or prints, if they work together and advance your argument."
   ]
  },
  {
   "cell_type": "markdown",
   "metadata": {},
   "source": [
    "## 2. Marking Criteria for each Mini Report: \n",
    "\n",
    "**Business Question and Answer:**\n",
    "\n",
    "Did you manage to find a question that can be answered with given data? As an analyst, you will often have to dive into available data and identify how it can help the business, or solve a problem, without first knowing what the problem is. Also, can you formulate a clear answer to the question you created?\n",
    " \n",
    "- 50% - C - GOOD - question and answer are clear, well defined and connect with the dataset\n",
    "- 60% - B - VERY GOOD - argument is clearly positioned in a business context, and attempts to provide value/insight\n",
    "- 70% - A - EXCELLENT - insights are novel, actionable and the writeup is of publishable quality.\n",
    "\n",
    "**Using the Data:**\n",
    "\n",
    "How well did you use the data to answer your question? Your answer should be supported by what you found in the data. Briefly describe why this was the correct data, and the correct analysis to perform on it.\n",
    " \n",
    "- 50% - C - GOOD - data selected is appropriate for the task, analysis is clear, the source is mentioned\n",
    "- 60% - B - VERY GOOD - data analysis section advances the argument, makes a clear point and is easy to read and understand\n",
    "- 70% - A - EXCELLENT - analysis is insightful, using multiple parts of the data set in a creative way\n",
    "\n",
    "**Visualisation:**\n",
    "\n",
    "Can you aid your argument/answer with visual clues? A graph can say a thousand words, but it is also easy to make one that is confusing, or misleading. Use simple (or highly customised) graphs to make your argument clearer.\n",
    " \n",
    "- 50% - C - GOOD - graph is communicative, appropriate and similar complexity as in the notes\n",
    "- 60% - B - VERY GOOD - graph is customised and combines a number of styles and types of visualisation\n",
    "- 70% - A - EXCELLENT - graph is using clear visual language to make a point, adds to the argument, and is of publishable quality\n",
    "\n",
    "**Code Quality:**\n",
    "\n",
    "Is your code clean, readable and DRY (Don't repeat yourself)? Are you using good readable variable names? Did you clean up your code and does it not include any old/unused parts?\n",
    " \n",
    "- 50% - C - GOOD - code has meaningful variable names, no needlessly repeated code\n",
    "- 60% - B - VERY GOOD - also signposted, reasonably commented and cleaned up\n",
    "- 70% - A - EXCELLENT - also code has a logical flow, consistency of names and granularity/size\n",
    "\n",
    "**Code Structure:**\n",
    "\n",
    "Is your code well structured and broken down? Just like good writing has sentences, paragraphs and chapters, good code should be split into sections. Break down your code into cells and functions. Use meaningful signposts (eg. comments, function names) to guide the reader through your code.\n",
    " \n",
    "- 50% - C - GOOD - code is broken down into cells, by the code's purpose\n",
    "- 60% - B - VERY GOOD - code is broken down by cell and also separated and readable. Attempts on reusing code are made\n",
    "- 70% - A - EXCELLENT - code is split into functions and/or objects and can be easily reused"
   ]
  },
  {
   "cell_type": "markdown",
   "metadata": {},
   "source": [
    "## 3. Dataset and Example Questions:\n",
    "\n",
    "You are given a dataset with information about 15060 practices in England and Wales. Have a look at this data. What can you say about it? What is interesting in this data, espacially for the NHS coordinators: what cities have most practices? Which ones are still operational? How long do practices exist (if they have 'Close Date')?\n",
    "\n",
    "Do not try to find something complicated, just provide some overview of the data. Also there is no need to analyse data (corelations etc.). It's better to try to describe and visualise what you see in the data.\n",
    "\n",
    "Example data about one GP practice:\n",
    "\n",
    "```\n",
    "{'Adress': {'Address line 1': 'THE HEALTH CENTRE',\n",
    "            'Address line 2': 'LAWSON STREET',\n",
    "            'Address line 3': 'STOCKTON-ON-TEES',\n",
    "            'Address line 4': 'CLEVELAND',\n",
    "            'Area': 'CLEVELAND',\n",
    "            'City': 'STOCKTON-ON-TEES',\n",
    "            'Full Postal Address': 'THE HEALTH CENTRE, LAWSON STREET, '\n",
    "                                   'STOCKTON-ON-TEES, CLEVELAND',\n",
    "            'Postcode': 'TS18 1HU',\n",
    "            'Telephone': '01642 672351'},\n",
    " 'Name': 'THE DENSHAM SURGERY',\n",
    " 'Organisation Code': 'A81001',\n",
    " 'Prescribing Setting': '4',\n",
    " 'Status': {'Close Date': '', 'Open Date': '19740401', 'Status Code': 'A'}}\n",
    " ```"
   ]
  },
  {
   "cell_type": "markdown",
   "metadata": {},
   "source": [
    "### Example questions:\n",
    "\n",
    "- what are the cities where there are most practices? Can you visualise the most popular ones?\n",
    "- Look at how many practices are 'Closed' and how many are 'Active'? Are there differences between these for large cities (those with many GPs)?\n",
    "- For 'Closed' practices, how long did they exist on average?\n",
    "\n",
    "Use one of these questions, or come up with your own. Make sure you clearly state your question in the mini-report."
   ]
  },
  {
   "cell_type": "markdown",
   "metadata": {},
   "source": [
    "### Starting code: No need to change it. This code just loads data for you:"
   ]
  },
  {
   "cell_type": "code",
   "execution_count": null,
   "metadata": {
    "scrolled": true
   },
   "outputs": [],
   "source": [
    "# this is commented out, because it should not be needed on noteable \n",
    "# (but might be needed if you are using notebooks on your own laptop, with anaconda)\n",
    "# if it does not work (on your own machine), you might also try the command below with pip3 instead of pip\n",
    "\n",
    "# !pip install plotly --upgrade\n",
    "# !pip3 install plotly --upgrade"
   ]
  },
  {
   "cell_type": "code",
   "execution_count": 5,
   "metadata": {},
   "outputs": [],
   "source": [
    "# the usual imports\n",
    "from plotly.subplots import make_subplots\n",
    "import plotly.graph_objects as go"
   ]
  },
  {
   "cell_type": "code",
   "execution_count": 4,
   "metadata": {},
   "outputs": [],
   "source": [
    "import pprint as pp\n",
    "from datetime import datetime, timedelta, date, timezone\n",
    "import json"
   ]
  },
  {
   "cell_type": "code",
   "execution_count": null,
   "metadata": {},
   "outputs": [],
   "source": [
    "# Let's load the data from the files.\n",
    "# original data from:\n",
    "# gp data from https://digital.nhs.uk/services/organisation-data-service/file-downloads/gp-and-gp-practice-related-data"
   ]
  },
  {
   "cell_type": "code",
   "execution_count": 2,
   "metadata": {},
   "outputs": [],
   "source": [
    "# this function just loads the data from files, there is no need to understand how it does it.\n",
    "def load_json_file_named(file_name):\n",
    "    try: \n",
    "        loaded_data = []\n",
    "        file_location = f\"../data/{file_name}\"\n",
    "        with open(file_location, 'r') as file: # or f\"data/{file_name}\" depending on your files\n",
    "            loaded_data =  json.load(file)\n",
    "    except OSError as e:\n",
    "        print(f\"Error. Does the file exist in this folder? {file_location}\\n\\n {e}\")\n",
    "    return loaded_data\n",
    "\n",
    "# btw. above we use here error try-catching:\n",
    "# try is like \"while there are no trouble, continue\". If there is trouble... jump to 'except'\n",
    "# see if work: change folder name above from 'data' to something silly, like 'banana'.\n",
    "# you will see error: \"No such file or directory\""
   ]
  },
  {
   "cell_type": "code",
   "execution_count": 6,
   "metadata": {},
   "outputs": [
    {
     "name": "stdout",
     "output_type": "stream",
     "text": [
      "all files loaded. Data length: 15060\n",
      "first data point:\n",
      "{'Address': {'Address line 1': 'THE HEALTH CENTRE',\n",
      "             'Address line 2': 'LAWSON STREET',\n",
      "             'Address line 3': 'STOCKTON-ON-TEES',\n",
      "             'Address line 4': 'CLEVELAND',\n",
      "             'Area': 'CLEVELAND',\n",
      "             'City': 'STOCKTON-ON-TEES',\n",
      "             'Full Postal Address': 'THE HEALTH CENTRE, LAWSON STREET, '\n",
      "                                    'STOCKTON-ON-TEES, CLEVELAND',\n",
      "             'Postcode': 'TS18 1HU',\n",
      "             'Telephone': '01642 672351'},\n",
      " 'Name': 'THE DENSHAM SURGERY',\n",
      " 'Organisation Code': 'A81001',\n",
      " 'Prescribing Setting': '4',\n",
      " 'Status': {'Close Date': '', 'Open Date': '19740401', 'Status Code': 'A'}}\n"
     ]
    }
   ],
   "source": [
    "gp_practices = load_json_file_named('gp_practices.json')\n",
    "print(f'all files loaded. Data length: {len(gp_practices)}')\n",
    "print(\"first data point:\")\n",
    "pp.pprint(gp_practices[0])"
   ]
  },
  {
   "cell_type": "markdown",
   "metadata": {},
   "source": [
    "### End of starting code!"
   ]
  },
  {
   "cell_type": "code",
   "execution_count": 7,
   "metadata": {},
   "outputs": [
    {
     "name": "stdout",
     "output_type": "stream",
     "text": [
      "15060\n"
     ]
    }
   ],
   "source": [
    "pp.pprint(len(gp_practices))"
   ]
  },
  {
   "cell_type": "markdown",
   "metadata": {},
   "source": [
    "## How to interpret this data?\n",
    "\n",
    "you now have a variable `gp_practices` which holds information about 15060 GP practices in England (and a few around UK).\n",
    "\n",
    "Look at this data. Most of it is self explanatory. It has 5 keys: 'Organisation Code', 'Name', 'Adress', 'Status', 'Prescribing Setting'. Some keys, are more complex, like Address or Status, and hold information inside. \n",
    "\n",
    "\n",
    "Some values are encoded, eg. Status Code can hold a letter A, C, D or P. See below for the key.\n",
    "\n",
    "```\n",
    "A = Active\n",
    "C = Closed\n",
    "D = Dormant \n",
    "P = Proposed\n",
    "```\n",
    "\n",
    "While Prescribing Setting, hold a number, see key below:\n",
    "\n",
    "```\n",
    "0 = Other\n",
    "1 = WIC Practice\n",
    "2 = OOH Practice\n",
    "3 = WIC + OOH Practice\n",
    "4 = GP Practice\n",
    "8 = Public Health Service\n",
    "9 = Community Health Service\n",
    "10 = Hospital Service\n",
    "11 = Optometry Service\n",
    "12 = Urgent & Emergency Care\n",
    "13 = Hospice\n",
    "14 = Care Home / Nursing Home\n",
    "15 = Border Force\n",
    "16 = Young Offender Institution\n",
    "17 = Secure Training Centre\n",
    "18 = Secure Children's Home\n",
    "19 = Immigration Removal Centre 20 = Court\n",
    "21 = Police Custody\n",
    "22 = Sexual Assault Referral Centre (SARC)\n",
    "24 = Other – Justice Estate\n",
    "25 = Prison\n",
    "```"
   ]
  },
  {
   "cell_type": "code",
   "execution_count": 6,
   "metadata": {},
   "outputs": [
    {
     "name": "stdout",
     "output_type": "stream",
     "text": [
      "{'Address': {'Address line 1': 'THE HEALTH CENTRE',\n",
      "             'Address line 2': 'LAWSON STREET',\n",
      "             'Address line 3': 'STOCKTON-ON-TEES',\n",
      "             'Address line 4': 'CLEVELAND',\n",
      "             'Area': 'CLEVELAND',\n",
      "             'City': 'STOCKTON-ON-TEES',\n",
      "             'Full Postal Address': 'THE HEALTH CENTRE, LAWSON STREET, '\n",
      "                                    'STOCKTON-ON-TEES, CLEVELAND',\n",
      "             'Postcode': 'TS18 1HU',\n",
      "             'Telephone': '01642 672351'},\n",
      " 'Name': 'THE DENSHAM SURGERY',\n",
      " 'Organisation Code': 'A81001',\n",
      " 'Prescribing Setting': '4',\n",
      " 'Status': {'Close Date': '', 'Open Date': '19740401', 'Status Code': 'A'}}\n"
     ]
    }
   ],
   "source": [
    "# let's grab one GP practice:\n",
    "pp.pprint(gp_practices[0])"
   ]
  },
  {
   "cell_type": "code",
   "execution_count": 7,
   "metadata": {},
   "outputs": [
    {
     "data": {
      "text/plain": [
       "['CLEVELAND',\n",
       " 'CLEVELAND',\n",
       " 'CLEVELAND',\n",
       " 'CLEVELAND',\n",
       " 'GUISBOROUGH',\n",
       " 'CLEVELAND',\n",
       " 'CLEVELAND',\n",
       " 'CLEVELAND',\n",
       " 'CLEVELAND',\n",
       " 'CLEVELAND',\n",
       " 'MIDDLESBROUGH',\n",
       " 'SALTBURN BY SEA',\n",
       " 'CLEVELAND',\n",
       " 'CLEVELAND',\n",
       " 'CLEVELAND',\n",
       " 'CLEVELAND',\n",
       " 'CLEVELAND',\n",
       " 'CLEVELAND',\n",
       " 'CLEVELAND',\n",
       " 'CLEVELAND',\n",
       " 'CLEVELAND',\n",
       " 'CLEVELAND',\n",
       " 'CLEVELAND',\n",
       " 'CLEVELAND',\n",
       " 'YARM, CLEVELAND',\n",
       " 'MIDDLESBROUGH',\n",
       " 'MIDDLESBROUGH',\n",
       " 'CLEVELAND',\n",
       " 'CLEVELAND',\n",
       " 'MIDDLESBROUGH',\n",
       " 'CLEVELAND',\n",
       " 'CLEVELAND',\n",
       " 'CLEVELAND',\n",
       " 'MIDDLESBROUGH',\n",
       " 'CLEVELAND',\n",
       " 'STOCKTON-ON-TEES',\n",
       " 'CLEVELAND',\n",
       " 'CLEVELAND',\n",
       " 'CLEVELAND',\n",
       " 'CLEVELAND',\n",
       " 'CLEVELAND',\n",
       " 'CLEVELAND',\n",
       " 'CLEVELAND',\n",
       " 'REDCAR,CLEVELAND',\n",
       " 'CLEVELAND',\n",
       " 'MIDDLESBROUGH',\n",
       " 'CLEVELAND',\n",
       " 'CLEVELAND',\n",
       " 'CLEVELAND',\n",
       " 'CLEVELAND',\n",
       " 'CLEVELAND',\n",
       " 'CLEVELAND',\n",
       " 'MIDDLESBROUGH',\n",
       " 'CLEVELAND',\n",
       " 'HARTLEPOOL',\n",
       " 'MIDDLESBROUGH',\n",
       " 'CLEVELAND',\n",
       " 'CLEVELAND',\n",
       " 'STOCKTON-ON-TEES',\n",
       " 'CLEVELAND',\n",
       " 'HARTLEPOOL',\n",
       " 'CLEVELAND',\n",
       " 'CLEVELAND',\n",
       " 'STOCKTON ON SEA',\n",
       " 'CLEVELAND',\n",
       " 'CLEVELAND',\n",
       " 'MIDDLESBROUGH',\n",
       " 'HARTLEPOOL, CLEVELAND',\n",
       " 'CLEVELAND',\n",
       " 'CLEVELAND',\n",
       " 'CLEVELAND',\n",
       " 'HARTLEPOOL',\n",
       " 'CLEVELAND',\n",
       " 'CLEVELAND',\n",
       " 'NORTH YORKSHIRE',\n",
       " 'CLEVELAND',\n",
       " 'CLEVELAND',\n",
       " 'NORTH YORKSHIRE',\n",
       " 'STOCKTON ON TEES',\n",
       " 'CUMBRIA',\n",
       " 'CUMBRIA',\n",
       " 'CUMBRIA',\n",
       " 'CUMBRIA',\n",
       " 'CUMBRIA',\n",
       " 'CUMBRIA',\n",
       " 'CUMBRIA',\n",
       " 'CUMBRIA',\n",
       " 'CUMBRIA',\n",
       " 'CUMBRIA',\n",
       " 'CUMBRIA',\n",
       " 'CUMBRIA',\n",
       " 'CUMBRIA',\n",
       " 'CARLISLE',\n",
       " 'CUMBRIA',\n",
       " 'CUMBRIA',\n",
       " 'CUMBRIA',\n",
       " 'CUMBRIA',\n",
       " 'CUMBRIA',\n",
       " 'CARLISLE',\n",
       " 'CUMBRIA',\n",
       " 'CUMBRIA',\n",
       " 'CUMBRIA',\n",
       " 'CUMBRIA',\n",
       " 'CUMBRIA',\n",
       " 'CUMBRIA',\n",
       " 'CUMBRIA',\n",
       " 'LANCASHIRE',\n",
       " 'CUMBRIA',\n",
       " 'CUMBRIA',\n",
       " 'CUMBRIA',\n",
       " 'CUMBRIA',\n",
       " 'CUMBRIA',\n",
       " 'CUMBRIA',\n",
       " 'CUMBRIA',\n",
       " 'CUMBRIA',\n",
       " 'CUMBRIA',\n",
       " 'CUMBRIA',\n",
       " 'CUMBRIA',\n",
       " 'CUMBRIA',\n",
       " 'CUMBRIA',\n",
       " 'CUMBRIA',\n",
       " 'CUMBRIA',\n",
       " 'CUMBRIA',\n",
       " 'CUMBRIA',\n",
       " 'CUMBRIA',\n",
       " 'CUMBRIA',\n",
       " 'CUMBRIA',\n",
       " 'CUMBRIA',\n",
       " 'CUMBRIA',\n",
       " 'CUMBRIA',\n",
       " 'CUMBRIA',\n",
       " 'CUMBRIA',\n",
       " 'CUMBRIA',\n",
       " 'CUMBRIA',\n",
       " 'CUMBRIA',\n",
       " 'CUMBRIA',\n",
       " 'CUMBRIA',\n",
       " 'CUMBRIA',\n",
       " 'CUMBRIA',\n",
       " 'CUMBRIA',\n",
       " 'CUMBRIA',\n",
       " 'CUMBRIA',\n",
       " 'CUMBRIA',\n",
       " 'CUMBRIA',\n",
       " 'CUMBRIA',\n",
       " 'CUMBRIA',\n",
       " 'CUMBRIA',\n",
       " 'CUMBRIA',\n",
       " 'WORKINGTON',\n",
       " 'CUMBRIA',\n",
       " 'CUMBRIA',\n",
       " 'CUMBRIA',\n",
       " 'CUMBRIA',\n",
       " 'AMBLESIDE, CUMBRIA',\n",
       " 'LONGTOWN',\n",
       " 'CUMBRIA',\n",
       " 'CUMBRIA',\n",
       " 'CUMBRIA',\n",
       " 'CUMBRIA',\n",
       " 'COUNTY DURHAM',\n",
       " 'COUNTY DURHAM',\n",
       " 'COUNTY DURHAM',\n",
       " 'COUNTY DURHAM',\n",
       " 'COUNTY DURHAM',\n",
       " 'HARTLEPOOL,CLEVELAND',\n",
       " 'COUNTY DURHAM',\n",
       " 'COUNTY DURHAM',\n",
       " 'COUNTY DURHAM',\n",
       " 'COUNTY DURHAM',\n",
       " 'COUNTY DURHAM',\n",
       " 'COUNTY DURHAM',\n",
       " 'COUNTY DURHAM',\n",
       " 'COUNTY DURHAM',\n",
       " 'COUNTY DURHAM',\n",
       " 'COUNTY DURHAM',\n",
       " 'COUNTY DURHAM',\n",
       " 'COUNTY DURHAM',\n",
       " 'COUNTY DURHAM',\n",
       " 'COUNTY DURHAM',\n",
       " 'COUNTY DURHAM',\n",
       " 'COUNTY DURHAM',\n",
       " 'COUNTY DURHAM',\n",
       " 'COUNTY DURHAM',\n",
       " 'COUNTY DURHAM',\n",
       " 'COUNTY DURHAM',\n",
       " 'COUNTY DURHAM',\n",
       " 'CO.DURHAM',\n",
       " 'COUNTY DURHAM',\n",
       " 'COUNTY DURHAM',\n",
       " 'CO.DURHAM',\n",
       " 'COUNTY DURHAM',\n",
       " 'COUNTY DURHAM',\n",
       " 'COUNTY DURHAM',\n",
       " 'COUNTY DURHAM',\n",
       " 'COUNTY DURHAM',\n",
       " 'NEWCASTLE UPON TYNE',\n",
       " 'COUNTY DURHAM',\n",
       " 'COUNTY DURHAM',\n",
       " 'COUNTY DURHAM',\n",
       " 'COUNTY DURHAM',\n",
       " 'COUNTY DURHAM',\n",
       " 'COUNTY DURHAM',\n",
       " 'COUNTY DURHAM',\n",
       " 'COUNTY DURHAM',\n",
       " 'DARLINGTON, CO.DURHAM',\n",
       " 'COUNTY DURHAM',\n",
       " 'COUNTY DURHAM',\n",
       " 'COUNTY DURHAM',\n",
       " 'COUNTY DURHAM',\n",
       " 'CLEVELAND',\n",
       " 'COUNTY DURHAM',\n",
       " 'COUNTY DURHAM',\n",
       " 'COUNTY DURHAM',\n",
       " 'COUNTY DURHAM',\n",
       " 'COUNTY DURHAM',\n",
       " 'COUNTY DURHAM',\n",
       " 'DARLINGTON',\n",
       " 'COUNTY DURHAM',\n",
       " 'COUNTY DURHAM',\n",
       " 'COUNTY DURHAM',\n",
       " 'COUNTY DURHAM',\n",
       " 'COUNTY DURHAM',\n",
       " 'COUNTY DURHAM',\n",
       " 'COUNTY DURHAM',\n",
       " 'COUNTY DURHAM',\n",
       " 'COUNTY DURHAM',\n",
       " 'COUNTY DURHAM',\n",
       " 'NEWCASTLE UPON TYNE',\n",
       " 'CO.DURHAM',\n",
       " 'DURHAM',\n",
       " 'COUNTY DURHAM',\n",
       " 'COUNTY DURHAM',\n",
       " 'BRANDON, DURHAM',\n",
       " 'COUNTY DURHAM',\n",
       " 'DURHAM',\n",
       " 'DURHAM',\n",
       " 'CONSETT,CO.DURHAM',\n",
       " 'CO.DURHAM',\n",
       " 'CO.DURHAM',\n",
       " 'COUNTY DURHAM',\n",
       " 'CO.DURHAM',\n",
       " 'NORTHUMBERLAND',\n",
       " 'NORTHUMBERLAND',\n",
       " 'NORTHUMBERLAND',\n",
       " 'NORTHUMBERLAND',\n",
       " 'NEWCASTLE UPON TYNE',\n",
       " 'NORTHUMBERLAND',\n",
       " 'NORTHUMBERLAND',\n",
       " 'NEWCASTLE UPON TYNE',\n",
       " 'NORTHUMBERLAND',\n",
       " 'NORTHUMBERLAND',\n",
       " 'NORTHUMBERLAND',\n",
       " 'NORTHUMBERLAND',\n",
       " 'NORTHUMBERLAND',\n",
       " 'NORTHUMBERLAND',\n",
       " 'NORTHUMBERLAND',\n",
       " 'NORTHUMBERLAND',\n",
       " 'NORTHUMBERLAND',\n",
       " 'NORTHUMBERLAND',\n",
       " 'NORTHUMBERLAND',\n",
       " 'NORTHUMBERLAND',\n",
       " 'NORTHUMBERLAND',\n",
       " 'NORTHUMBERLAND',\n",
       " 'NORTHUMBERLAND',\n",
       " 'NORTHUMBERLAND',\n",
       " 'NORTHUMBERLAND',\n",
       " 'NORTHUMBERLAND',\n",
       " 'NORTHUMBERLAND',\n",
       " 'PRUDHOE',\n",
       " 'NORTHUMBERLAND',\n",
       " 'NORTHUMBERLAND',\n",
       " 'NORTHUMBERLAND',\n",
       " 'NORTHUMBERLAND',\n",
       " 'NORTHUMBERLAND',\n",
       " 'NORTHUMBERLAND',\n",
       " 'NORTHUMBERLAND',\n",
       " 'NORTHUMBERLAND',\n",
       " 'NORTHUMBERLAND',\n",
       " 'NORTHUMBERLAND',\n",
       " 'NORTHUMBERLAND',\n",
       " 'NORTHUMBERLAND',\n",
       " 'NORTHUMBERLAND',\n",
       " 'NORTHUMBERLAND',\n",
       " 'NORTHUMBERLAND',\n",
       " 'NORTHUMBERLAND',\n",
       " 'TYNE AND WEAR',\n",
       " 'TYNE & WEAR',\n",
       " 'TYNE & WEAR',\n",
       " 'TYNE & WEAR',\n",
       " 'TYNE & WEAR',\n",
       " 'TYNE & WEAR',\n",
       " 'GATESHEAD',\n",
       " 'TYNE & WEAR',\n",
       " 'COUNTY DURHAM',\n",
       " 'TYNE & WEAR',\n",
       " 'TYNE & WEAR',\n",
       " 'GATESHEAD, TYNE & WEAR',\n",
       " 'TYNE & WEAR',\n",
       " 'TYNE & WEAR',\n",
       " 'TYNE & WEAR',\n",
       " 'TYNE & WEAR',\n",
       " 'TYNE & WEAR',\n",
       " 'TYNE & WEAR',\n",
       " 'TYNE AND WEAR',\n",
       " 'GATESHEAD,TYNE & WEAR',\n",
       " 'TYNE & WEAR',\n",
       " 'TYNE & WEAR',\n",
       " 'TYNE & WEAR',\n",
       " 'TYNE & WEAR',\n",
       " 'TYNE & WEAR',\n",
       " 'TYNE & WEAR',\n",
       " 'COUNTY DURHAM',\n",
       " 'TYNE & WEAR',\n",
       " 'TYNE & WEAR',\n",
       " 'TYNE & WEAR',\n",
       " 'TYNE & WEAR',\n",
       " 'TYNE & WEAR',\n",
       " 'NEWCASTLE UPON TYNE',\n",
       " 'TYNE AND WEAR',\n",
       " 'NEWCASTLE UPON TYNE',\n",
       " 'TYNE & WEAR',\n",
       " 'NEWCASTLE UPON TYNE',\n",
       " 'NEWCASTLE UPON TYNE',\n",
       " 'NEWCASTLE UPON TYNE',\n",
       " 'NEWCASTLE UPON TYNE',\n",
       " 'NEWCASTLE UPON TYNE',\n",
       " 'NEWCASTLE UPON TYNE',\n",
       " 'TYNE & WEAR',\n",
       " 'TYNE & WEAR',\n",
       " 'NEWCASTLE UPON TYNE',\n",
       " 'NEWCASTLE UPON TYNE',\n",
       " 'TYNE & WEAR',\n",
       " 'NEWCASTLE UPON TYNE',\n",
       " 'TYNE & WEAR',\n",
       " 'TYNE & WEAR',\n",
       " 'TYNE & WEAR',\n",
       " 'NEWCASTLE UPON TYNE',\n",
       " 'TYNE & WEAR',\n",
       " 'TYNE & WEAR',\n",
       " 'NEWCASTLE UPON TYNE',\n",
       " 'TYNE & WEAR',\n",
       " 'TYNE & WEAR',\n",
       " 'TYNE & WEAR',\n",
       " 'NEWCASTLE UPON TYNE',\n",
       " 'NEWCASTLE UPON TYNE',\n",
       " 'TYNE AND WEAR',\n",
       " 'TYNE AND WEAR',\n",
       " 'NEWCASTLE UPON TYNE',\n",
       " 'NEWCASTLE UPON TYNE',\n",
       " 'TYNE & WEAR',\n",
       " 'TYNE & WEAR',\n",
       " 'TYNE & WEAR',\n",
       " 'NEWCASTLE UPON TYNE',\n",
       " 'NEWCASTLE UPON TYNE',\n",
       " 'TYNE AND WEAR',\n",
       " 'TYNE & WEAR',\n",
       " 'TYNE & WEAR',\n",
       " 'TYNE & WEAR',\n",
       " 'TYNE & WEAR',\n",
       " 'TYNE & WEAR',\n",
       " 'TYNE & WEAR',\n",
       " 'NORTH SHIELDS',\n",
       " 'TYNE & WEAR',\n",
       " 'NEWCASTLE UPON TYNE',\n",
       " 'TYNE & WEAR',\n",
       " 'TYNE & WEAR',\n",
       " 'TYNE & WEAR',\n",
       " 'TYNE & WEAR',\n",
       " 'TYNE & WEAR',\n",
       " 'TYNE & WEAR',\n",
       " 'TYNE & WEAR',\n",
       " 'TYNE & WEAR',\n",
       " 'TYNE & WEAR',\n",
       " 'TYNE & WEAR',\n",
       " 'TYNE & WEAR',\n",
       " 'TYNE & WEAR',\n",
       " 'TYNE & WEAR',\n",
       " 'NEWCASTLE UPON TYNE',\n",
       " 'NEWCASTLE UPON TYNE',\n",
       " 'TYNE AND WEAR',\n",
       " 'TYNE & WEAR',\n",
       " 'TYNE & WEAR',\n",
       " 'TYNE & WEAR',\n",
       " 'TYNE & WEAR',\n",
       " 'TYNE AND WEAR',\n",
       " 'TYNE & WEAR',\n",
       " 'TYNE & WEAR',\n",
       " 'TYNE & WEAR',\n",
       " 'TYNE & WEAR',\n",
       " 'TYNE & WEAR',\n",
       " 'TYNE & WEAR',\n",
       " 'TYNE & WEAR',\n",
       " 'TYNE & WEAR',\n",
       " 'TYNE AND WEAR',\n",
       " 'TYNE & WEAR',\n",
       " 'TYNE & WEAR',\n",
       " 'TYNE & WEAR',\n",
       " 'TYNE & WEAR',\n",
       " 'TYNE & WEAR',\n",
       " 'TYNE & WEAR',\n",
       " 'TYNE & WEAR',\n",
       " 'TYNE & WEAR',\n",
       " 'TYNE & WEAR',\n",
       " 'TYNE & WEAR',\n",
       " 'TYNE & WEAR',\n",
       " 'TYNE & WEAR',\n",
       " 'TYNE & WEAR',\n",
       " 'TYNE & WEAR',\n",
       " 'TYNE & WEAR',\n",
       " 'TYNE & WEAR',\n",
       " 'TYNE & WEAR',\n",
       " 'TYNE & WEAR',\n",
       " 'TYNE & WEAR',\n",
       " 'TYNE & WEAR',\n",
       " 'TYNE & WEAR',\n",
       " 'TYNE & WEAR',\n",
       " 'TYNE & WEAR',\n",
       " 'TYNE & WEAR',\n",
       " 'TYNE & WEAR',\n",
       " 'TYNE & WEAR',\n",
       " 'TYNE & WEAR',\n",
       " 'TYNE AND WEAR',\n",
       " 'SUNDERLAND',\n",
       " 'TYNE & WEAR',\n",
       " 'TYNE & WEAR',\n",
       " 'TYNE & WEAR',\n",
       " 'TYNE & WEAR',\n",
       " 'TYNE & WEAR',\n",
       " 'TYNE & WEAR',\n",
       " 'TYNE & WEAR',\n",
       " 'TYNE & WEAR',\n",
       " 'TYNE & WEAR',\n",
       " 'SUNDERLAND',\n",
       " 'TYNE & WEAR',\n",
       " 'TYNE & WEAR',\n",
       " 'HOUGHTON-LE-SPRING',\n",
       " 'TYNE & WEAR',\n",
       " 'TYNE & WEAR',\n",
       " 'SUNDERLAND',\n",
       " 'SUNDERLAND',\n",
       " 'TYNE & WEAR',\n",
       " 'TYNE & WEAR',\n",
       " 'TYNE & WEAR',\n",
       " 'TYNE & WEAR',\n",
       " 'TYNE & WEAR',\n",
       " 'TYNE & WEAR',\n",
       " 'TYNE & WEAR',\n",
       " 'SUNDERLAND',\n",
       " 'TYNE & WEAR',\n",
       " 'SUNDERLAND',\n",
       " 'TYNE & WEAR',\n",
       " 'TYNE & WEAR',\n",
       " 'TYNE & WEAR',\n",
       " 'SUNDERLAND',\n",
       " 'TYNE & WEAR',\n",
       " 'TYNE & WEAR',\n",
       " 'TYNE & WEAR',\n",
       " 'TYNE & WEAR',\n",
       " 'TYNE & WEAR',\n",
       " 'KINGSTON UPON HULL',\n",
       " 'NORTH EAST LINCOLNSHIRE',\n",
       " 'EAST YORKSHIRE',\n",
       " 'SOUTH HUMBERSIDE',\n",
       " 'BRIDLINGTON',\n",
       " 'SOUTH HUMBERSIDE',\n",
       " 'KINGSTON UPON HULL',\n",
       " 'MARKET WEIGHTON',\n",
       " 'EAST YORKSHIRE',\n",
       " 'KINGSTON UPON HULL',\n",
       " 'GRIMSBY',\n",
       " 'EAST YORKSHIRE',\n",
       " 'EAST RIDING OF YORKSHIRE',\n",
       " 'NORTH EAST LINCOLNSHIRE',\n",
       " 'GRIMSBY',\n",
       " 'KINGSTON UPON HULL',\n",
       " 'KINGSTON UPON HULL',\n",
       " 'NORTH EAST LINCOLNSHIRE',\n",
       " 'KINGSTON UPON HULL',\n",
       " 'KINGSTON UPON HULL',\n",
       " 'NORTH LINCOLNSHIRE',\n",
       " 'CARTERGATE, GRIMSBY',\n",
       " 'HULL',\n",
       " 'WITHERNSEA',\n",
       " 'NORTH LINCOLNSHIRE',\n",
       " 'KINGSTON UPON HULL',\n",
       " 'GOOLE',\n",
       " 'GRIMSBY',\n",
       " 'GRIMSBY',\n",
       " 'KINGSTON UPON HULL',\n",
       " 'BEVERLEY',\n",
       " 'KINGSTON UPON HULL',\n",
       " 'POCKLINGTON',\n",
       " 'EAST YORKSHIRE',\n",
       " 'KINGSTON UPON HULL',\n",
       " 'GRIMSBY',\n",
       " 'KINGSTON UPON HULL',\n",
       " 'GILBERDYKE, BROUGH',\n",
       " 'BEVERLEY',\n",
       " 'SOUTH YORKSHIRE',\n",
       " 'YORK',\n",
       " 'SCUNTHORPE',\n",
       " 'KINGSTON UPON HULL',\n",
       " 'HULL',\n",
       " 'KINGSTON UPON HULL',\n",
       " 'KINGSTON UPON HULL',\n",
       " 'HEDON, HULL',\n",
       " 'BEVERLEY',\n",
       " 'HULL',\n",
       " 'KINGSTON UPON HULL',\n",
       " 'KINGSTON UPON HULL',\n",
       " 'NE LINCOLNSHIRE',\n",
       " 'KINGSTON UPON HULL',\n",
       " 'KINGSTON UPON HULL',\n",
       " 'KINGSTON UPON HULL',\n",
       " 'EAST YORKSHIRE',\n",
       " 'EAST YORKSHIRE',\n",
       " 'HULL',\n",
       " 'SOUTH HUMBERSIDE',\n",
       " 'SCUNTHORPE',\n",
       " 'SOUTH HUMBERSIDE',\n",
       " 'KINGSTON UPON HULL',\n",
       " 'GOOLE',\n",
       " 'EAST RIDING OF YORKSHIRE',\n",
       " 'EAST RIDING OF YORKSHIRE',\n",
       " 'HULL',\n",
       " 'HULL',\n",
       " 'KINGSTON UPON HULL',\n",
       " 'GRIMSBY',\n",
       " 'KINGSTON UPON HULL',\n",
       " 'KINGSTON UPON HULL',\n",
       " 'BEVERLEY',\n",
       " 'COTTINGHAM',\n",
       " 'KINGSTON UPON HULL',\n",
       " 'GRIMSBY',\n",
       " 'EAST YORKSHIRE',\n",
       " 'HULL',\n",
       " 'NORTH LINCOLNSHIRE',\n",
       " 'GRIMSBY',\n",
       " 'EAST YORKSHIRE',\n",
       " 'KINGSTON UPON HULL',\n",
       " 'KINGSTON UPON HULL',\n",
       " 'KINGSTON UPON HULL',\n",
       " 'SOUTH HUMBERSIDE',\n",
       " 'NR GAINSBOROUGH',\n",
       " 'ANLABY',\n",
       " 'EAST YORKSHIRE',\n",
       " 'KINGSTON UPON HULL',\n",
       " 'GRIMSBY',\n",
       " 'N E LINCOLNSHIRE',\n",
       " 'KINGSTON UPON HULL',\n",
       " 'SCUNTHORPE',\n",
       " 'SCUNTHORPE',\n",
       " 'HULL',\n",
       " 'NORTH HUMBERSIDE',\n",
       " 'BEVERLEY',\n",
       " 'EAST YORKSHIRE',\n",
       " 'NORTH EAST LINCOLNSHIRE',\n",
       " 'GRIMSBY',\n",
       " 'KINGSTON-UPON-HULL',\n",
       " 'SCUNTHORPE',\n",
       " 'HESSLE',\n",
       " 'CLEETHORPES',\n",
       " 'BEVERLEY',\n",
       " 'BARNETBY',\n",
       " 'KINGSTON UPON HULL',\n",
       " 'KINGSTON-UPON-HULL',\n",
       " 'HULL',\n",
       " 'CLEETHORPES',\n",
       " 'KINGSTON UPON HULL',\n",
       " 'KINGSTON UPON HULL',\n",
       " 'NORTH LINCOLNSHIRE',\n",
       " 'NORTH LINCOLNSHIRE',\n",
       " 'EAST RIDING OF YORKSHIRE',\n",
       " 'GRIMSBY',\n",
       " 'GRIMSBY',\n",
       " 'HESSLE',\n",
       " 'NE LINCOLNSHIRE',\n",
       " 'GRIMSBY',\n",
       " 'HEALING, GRIMSBY',\n",
       " 'NORTH FERRIBY',\n",
       " 'GRIMSBY',\n",
       " 'KINGSTON UPON HULL',\n",
       " 'KINGSTON UPON HULL',\n",
       " 'GRIMSBY',\n",
       " 'SWANLAND',\n",
       " 'KINGSTON UPON HULL',\n",
       " 'KINGSTON UPON HULL',\n",
       " 'HULL',\n",
       " 'SCUNTHORPE',\n",
       " 'HULL',\n",
       " 'NORTH EAST LINCOLNSHIRE',\n",
       " 'KINGSTON UPON HULL',\n",
       " 'HUMBERSIDE',\n",
       " 'GRIMSBY',\n",
       " 'GRIMSBY',\n",
       " 'SCARBOROUGH',\n",
       " 'NORTH YORKSHIRE',\n",
       " 'YORK',\n",
       " 'NORTH YORKSHIRE',\n",
       " 'NORTH YORKSHIRE',\n",
       " 'CLIFTON',\n",
       " 'NORTH YORKSHIRE',\n",
       " 'NORTH YORKSHIRE',\n",
       " 'NORTH YORKSHIRE',\n",
       " 'MALTON',\n",
       " 'NORTH YORKSHIRE',\n",
       " 'NORTH YORKSHIRE',\n",
       " 'NORTH YORKSHIRE',\n",
       " 'NORTH YORKSHIRE',\n",
       " 'NORTH YORKSHIRE',\n",
       " 'NORTH YORKSHIRE',\n",
       " 'NORTH YORKSHIRE',\n",
       " 'WEST YORKSHIRE',\n",
       " 'NORTH YORKSHIRE',\n",
       " 'NORTH YORKSHIRE',\n",
       " 'RICHMOND',\n",
       " 'NORTH YORKSHIRE',\n",
       " 'NORTH YORKSHIRE',\n",
       " 'YORK',\n",
       " 'HARROGATE',\n",
       " 'NORTH YORKSHIRE',\n",
       " 'NORTH YORKSHIRE',\n",
       " 'NORTH YORKSHIRE',\n",
       " 'SHERBURN-IN-ELMET',\n",
       " 'YORK',\n",
       " 'NORTH YORKSHIRE',\n",
       " 'NORTH YORKSHIRE',\n",
       " 'RICHMOND',\n",
       " 'NORTH YORKSHIRE',\n",
       " 'NORTH YORKSHIRE',\n",
       " 'SCARBOROUGH',\n",
       " 'NORTH YORKSHIRE',\n",
       " 'NORTH YORKSHIRE',\n",
       " 'NORTH YORKSHIRE',\n",
       " 'MIDDLESBROUGH',\n",
       " 'NORTH YORKSHIRE',\n",
       " 'CLEVELAND',\n",
       " 'YORK',\n",
       " 'YORK',\n",
       " 'NORTH YORKSHIRE',\n",
       " 'NORTH YORKSHIRE',\n",
       " 'YORK',\n",
       " 'NORTH YORKSHIRE',\n",
       " 'SCARBOROUGH',\n",
       " 'NORTH YORKSHIRE',\n",
       " 'NORTH YORKSHIRE',\n",
       " 'NORTH YORKSHIRE',\n",
       " 'NORTH YORKSHIRE',\n",
       " 'NORTH YORKSHIRE',\n",
       " 'NORTH YORKSHIRE',\n",
       " 'LANCASTER',\n",
       " 'NORTH YORKSHIRE',\n",
       " 'SCARBOROUGH',\n",
       " 'YORK',\n",
       " 'NORTH YORKSHIRE',\n",
       " 'NORTH YORKSHIRE',\n",
       " 'YORK',\n",
       " 'NORTH YORKSHIRE',\n",
       " 'YORK',\n",
       " 'NORTH YORKSHIRE',\n",
       " 'LEEDS',\n",
       " 'NORTH YORKSHIRE',\n",
       " 'NORTH YORKSHIRE',\n",
       " 'NORTH YORKSHIRE',\n",
       " 'YORK',\n",
       " 'NORTH YORKSHIRE',\n",
       " 'STILLINGTON, YORK',\n",
       " 'YORK',\n",
       " 'NORTH YORKSHIRE',\n",
       " 'YORK',\n",
       " 'NORTH YORKSHIRE',\n",
       " 'NORTH YORKSHIRE',\n",
       " 'NORTH YORKSHIRE',\n",
       " 'NORTH YORKSHIRE',\n",
       " 'NORTH YORKSHIRE',\n",
       " 'YORK',\n",
       " 'NORTH YORKSHIRE',\n",
       " 'YORK',\n",
       " 'NORTH YORKSHIRE',\n",
       " 'NORTH YORKSHIRE',\n",
       " 'NORTH YORKSHIRE',\n",
       " 'YORK',\n",
       " 'NORTH YORKSHIRE',\n",
       " 'NORTH YORKSHIRE',\n",
       " 'NORTH YORKSHIRE',\n",
       " 'NORTH YORKSHIRE',\n",
       " 'NORTH YORKSHIRE',\n",
       " 'NORTH YORKSHIRE',\n",
       " 'NORTH YORKSHIRE',\n",
       " 'NORTH YORKSHIRE',\n",
       " 'NORTH YORKSHIRE',\n",
       " 'YORK',\n",
       " 'YORK',\n",
       " 'ILKLEY',\n",
       " 'BRADFORD',\n",
       " 'WEST YORKSHIRE',\n",
       " 'BRADFORD',\n",
       " 'WEST YORKSHIRE',\n",
       " 'WEST YORKSHIRE',\n",
       " 'WEST YORKSHIRE',\n",
       " 'WEST YORKSHIRE',\n",
       " 'BRADFORD',\n",
       " 'WEST YORKSHIRE',\n",
       " 'WEST YORKSHIRE',\n",
       " 'WEST YORKSHIRE',\n",
       " 'WEST YORKSHIRE',\n",
       " 'WEST YORKSHIRE',\n",
       " 'WEST YORKSHIRE',\n",
       " 'ILKLEY',\n",
       " 'WEST YORKSHIRE',\n",
       " 'WEST YORKSHIRE',\n",
       " 'BAILDON',\n",
       " 'WEST YORKSHIRE',\n",
       " 'BRADFORD',\n",
       " 'BRADFORD',\n",
       " 'KEIGHLEY',\n",
       " 'WEST YORKSHIRE',\n",
       " 'WEST YORKSHIRE',\n",
       " 'WEST YORKSHIRE',\n",
       " 'BINGLEY',\n",
       " 'BRADFORD',\n",
       " 'WEST YORKSHIRE',\n",
       " 'BRADFORD',\n",
       " 'BRADFORD',\n",
       " 'WEST YORKSHIRE',\n",
       " 'WEST YORKSHIRE',\n",
       " 'SHIPLEY',\n",
       " 'WEST YORKSHIRE',\n",
       " 'WEST YORKSHIRE',\n",
       " 'WEST YORKSHIRE',\n",
       " 'WEST YORKSHIRE',\n",
       " 'BRADFORD',\n",
       " 'CLAYTON',\n",
       " 'BRADFORD',\n",
       " 'WEST YORKSHIRE',\n",
       " 'BRADFORD',\n",
       " 'WEST YORKSHIRE',\n",
       " 'BRADFORD',\n",
       " 'WEST YORKSHIRE',\n",
       " 'WEST YORKSHIRE',\n",
       " 'WEST YORKSHIRE',\n",
       " 'WEST YORKSHIRE',\n",
       " 'BRADFORD',\n",
       " 'BRADFORD',\n",
       " 'BRADFORD',\n",
       " 'BINGLEY',\n",
       " 'WEST YORKSHIRE',\n",
       " 'BRADFORD',\n",
       " 'ALLERTON,BRADFORD',\n",
       " 'BRADFORD',\n",
       " 'WEST YORKSHIRE',\n",
       " 'BRADFORD',\n",
       " 'BRADFORD',\n",
       " 'BRADFORD',\n",
       " 'BRADFORD',\n",
       " 'ILKLEY',\n",
       " 'BRADFORD',\n",
       " 'WEST YORKSHIRE',\n",
       " 'WEST YORKSHIRE',\n",
       " 'BRADFORD',\n",
       " 'BRADFORD',\n",
       " 'BRADFORD',\n",
       " 'BRADFORD',\n",
       " 'BRADFORD',\n",
       " 'BRADFORD',\n",
       " 'WEST YORKSHIRE',\n",
       " 'WEST YORKSHIRE',\n",
       " 'WEST YORKSHIRE',\n",
       " 'WEST YORKSHIRE',\n",
       " 'BRADFORD',\n",
       " 'BRADFORD',\n",
       " 'BRADFORD',\n",
       " 'WEST YORKSHIRE',\n",
       " 'WEST YORKSHIRE',\n",
       " 'WEST YORKSHIRE',\n",
       " 'WEST YORKSHIRE',\n",
       " 'WEST YORKSHIRE',\n",
       " 'WEST YORKSHIRE',\n",
       " 'WEST YORKSHIRE',\n",
       " 'RIPPONDEN',\n",
       " 'WEST YORKSHIRE',\n",
       " 'WEST YORKSHIRE',\n",
       " 'WEST YORKSHIRE',\n",
       " 'WEST YORKSHIRE',\n",
       " 'HALIFAX',\n",
       " 'WEST YORKSHIRE',\n",
       " 'WEST YORKSHIRE',\n",
       " 'WEST YORKSHIRE',\n",
       " 'WEST YORKSHIRE',\n",
       " 'WEST YORKSHIRE',\n",
       " 'WEST YORKSHIRE',\n",
       " 'HANSON LANE, HALIFAX',\n",
       " 'WEST YORKSHIRE',\n",
       " 'WEST YORKSHIRE',\n",
       " 'HALIFAX',\n",
       " 'HALIFAX',\n",
       " 'WEST YORKSHIRE',\n",
       " 'WEST YORKSHIRE',\n",
       " 'WEST YORKSHIRE',\n",
       " 'WEST YORKSHIRE',\n",
       " 'WEST YORKSHIRE',\n",
       " 'WEST YORKSHIRE',\n",
       " 'WEST YORKSHIRE',\n",
       " 'WEST YORKSHIRE',\n",
       " 'WEST YORKSHIRE',\n",
       " 'WEST YORKSHIRE',\n",
       " 'WEST YORKSHIRE',\n",
       " 'WEST YORKSHIRE',\n",
       " 'WEST YORKSHIRE',\n",
       " 'WEST YORKSHIRE',\n",
       " 'WEST YORKSHIRE',\n",
       " 'WEST YORKSHIRE',\n",
       " 'WEST YORKSHIRE',\n",
       " 'WEST YORKSHIRE',\n",
       " 'WEST YORKSHIRE',\n",
       " 'WEST YORKSHIRE',\n",
       " 'HUDDERSFIELD',\n",
       " 'WEST YORKSHIRE',\n",
       " 'WEST YORKSHIRE',\n",
       " 'WEST YORKSHIRE',\n",
       " 'WEST YORKSHIRE',\n",
       " 'WEST YORKSHIRE',\n",
       " 'WEST YORKSHIRE',\n",
       " 'WEST YORKSHIRE',\n",
       " 'WEST YORKSHIRE',\n",
       " 'WEST YORKSHIRE',\n",
       " 'WEST YORKSHIRE',\n",
       " 'WEST YORKSHIRE',\n",
       " 'WEST YORKSHIRE',\n",
       " 'WEST YORKSHIRE',\n",
       " 'WEST YORKSHIRE',\n",
       " 'HUDDERSFIELD',\n",
       " 'WEST YORKSHIRE',\n",
       " 'WEST YORKSHIRE',\n",
       " 'HUDDERSFIELD',\n",
       " 'WEST YORKSHIRE',\n",
       " 'WEST YORKSHIRE',\n",
       " 'WEST YORKSHIRE',\n",
       " 'WEST YORKSHIRE',\n",
       " 'HUDDERSFIELD',\n",
       " 'WEST YORKSHIRE',\n",
       " 'WEST YORKSHIRE',\n",
       " 'WEST YORKSHIRE',\n",
       " 'WEST YORKSHIRE',\n",
       " 'WEST YORKSHIRE',\n",
       " 'HUDDERSFIELD',\n",
       " 'WEST YORKSHIRE',\n",
       " 'WEST YORKSHIRE',\n",
       " 'WEST YORKSHIRE',\n",
       " 'WEST YORKSHIRE',\n",
       " 'WEST YORKSHIRE',\n",
       " 'WEST YORKSHIRE',\n",
       " 'WEST YORKSHIRE',\n",
       " 'WEST YORKSHIRE',\n",
       " 'WEST YORKSHIRE',\n",
       " 'WEST YORKSHIRE',\n",
       " 'WEST YORKSHIRE',\n",
       " 'WEST YORKSHIRE',\n",
       " 'LOCKWOOD',\n",
       " 'HOLMFIRTH',\n",
       " 'WEST YORKSHIRE',\n",
       " 'WEST YORKSHIRE',\n",
       " 'WEST YORKSHIRE',\n",
       " 'WEST YORKSHIRE',\n",
       " 'WEST YORKSHIRE',\n",
       " 'HUDDERSFIELD',\n",
       " 'WEST YORKSHIRE',\n",
       " 'LEEDS',\n",
       " 'LEEDS',\n",
       " 'WEST YORKSHIRE',\n",
       " 'WEST YORKSHIRE',\n",
       " 'LEEDS',\n",
       " 'LEEDS',\n",
       " 'WEST YORKSHIRE',\n",
       " 'WEST YORKSHIRE',\n",
       " 'WEST YORKSHIRE',\n",
       " 'WEST YORKSHIRE',\n",
       " 'WEST YORKSHIRE',\n",
       " 'LEEDS',\n",
       " 'WEST YORKSHIRE',\n",
       " 'WEST YORKSHIRE',\n",
       " 'WEST YORKSHIRE',\n",
       " 'WEST YORKSHIRE',\n",
       " 'LEEDS',\n",
       " 'LEEDS',\n",
       " 'LEEDS',\n",
       " 'WEST YORKSHIRE',\n",
       " 'WEST YORKSHIRE',\n",
       " 'LEEDS',\n",
       " 'WEST YORKSHIRE',\n",
       " 'LEEDS',\n",
       " 'LEEDS',\n",
       " 'LEEDS',\n",
       " 'WEST YORKSHIRE',\n",
       " 'WEST YORKSHIRE',\n",
       " 'WEST YORKSHIRE',\n",
       " 'WEST YORKSHIRE',\n",
       " 'WEST YORKSHIRE',\n",
       " 'WETHERBY',\n",
       " 'LEEDS',\n",
       " 'WEST YORKSHIRE',\n",
       " 'LEEDS',\n",
       " 'WEST YORKSHIRE',\n",
       " 'WEST YORKSHIRE',\n",
       " 'LEEDS',\n",
       " 'MIDDLETON, LEEDS',\n",
       " 'WEST YORKSHIRE',\n",
       " 'WEST YORKSHIRE',\n",
       " 'WEST YORKSHIRE',\n",
       " 'WEST YORKSHIRE',\n",
       " 'WEST YORKSHIRE',\n",
       " 'WEST YORKSHIRE',\n",
       " 'WEST YORKSHIRE',\n",
       " 'YEADON,LEEDS',\n",
       " 'GUISELEY,LEEDS',\n",
       " 'LEEDS',\n",
       " 'LEEDS',\n",
       " 'LEEDS',\n",
       " 'WEST YORKSHIRE',\n",
       " 'PUDSEY',\n",
       " 'WEST YORKSHIRE',\n",
       " 'WEST YORKSHIRE',\n",
       " 'LEEDS',\n",
       " 'WEST YORKSHIRE',\n",
       " 'WEST YORKSHIRE',\n",
       " 'WEST YORKSHIRE',\n",
       " 'LEEDS',\n",
       " 'WEST YORKSHIRE',\n",
       " 'WEST YORKSHIRE',\n",
       " 'LEEDS',\n",
       " 'YEADON,LEEDS',\n",
       " 'LEEDS',\n",
       " 'LEEDS',\n",
       " 'WEST YORKSHIRE',\n",
       " 'WEST YORKSHIRE',\n",
       " 'LEEDS',\n",
       " 'LEEDS',\n",
       " 'CASTLEFORD',\n",
       " 'LEEDS',\n",
       " 'LEEDS',\n",
       " 'WEST YORKSHIRE',\n",
       " 'WEST YORKSHIRE',\n",
       " 'LEEDS',\n",
       " 'LEEDS',\n",
       " 'LEEDS',\n",
       " 'NR. LEEDS',\n",
       " 'LEEDS',\n",
       " 'LEEDS',\n",
       " 'LEEDS',\n",
       " 'LEEDS',\n",
       " 'WEST YORKSHIRE',\n",
       " 'LEEDS',\n",
       " 'WEST YORKSHIRE',\n",
       " 'BLENHEIM WALK, LEEDS',\n",
       " 'LEEDS',\n",
       " 'WEST YORKSHIRE',\n",
       " 'LEEDS',\n",
       " 'WEST YORKSHIRE',\n",
       " 'LEEDS',\n",
       " 'LEEDS',\n",
       " 'LEEDS',\n",
       " 'WEST YORKSHIRE',\n",
       " 'LEEDS',\n",
       " 'LEEDS',\n",
       " 'LEEDS',\n",
       " 'WEST YORKSHIRE',\n",
       " 'LEEDS',\n",
       " 'BEESTON, LEEDS',\n",
       " 'LEEDS',\n",
       " 'LEEDS',\n",
       " 'LEEDS',\n",
       " 'WETHERBY',\n",
       " 'WEST YORKSHIRE',\n",
       " 'BRADFORD',\n",
       " 'LEEDS',\n",
       " 'WEST YORKSHIRE',\n",
       " 'WEST YORKSHIRE',\n",
       " 'WEST YORKSHIRE',\n",
       " 'WEST YORKSHIRE',\n",
       " 'WEST YORKSHIRE',\n",
       " 'WEST YORKSHIRE',\n",
       " 'WEST YORKSHIRE',\n",
       " 'WEST YORKSHIRE',\n",
       " 'WEST YORKSHIRE',\n",
       " 'WEST YORKSHIRE',\n",
       " 'WAKEFIELD',\n",
       " 'WEST YORKSHIRE',\n",
       " 'WEST YORKSHIRE',\n",
       " 'WEST YORKSHIRE',\n",
       " 'WEST YORKSHIRE',\n",
       " 'WEST YORKSHIRE',\n",
       " 'WEST YORKSHIRE',\n",
       " 'WEST YORKSHIRE',\n",
       " 'WEST YORKSHIRE',\n",
       " 'WAKEFIELD',\n",
       " 'WEST YORKSHIRE',\n",
       " 'WEST YORKSHIRE',\n",
       " 'WEST YORKSHIRE',\n",
       " 'WEST YORKSHIRE',\n",
       " 'WEST YORKSHIRE',\n",
       " ...]"
      ]
     },
     "execution_count": 7,
     "metadata": {},
     "output_type": "execute_result"
    }
   ],
   "source": [
    "[   \n",
    "    gp['Address'][\"Area\"]\n",
    "    for gp in gp_practices\n",
    "    if gp['Prescribing Setting'] == '4'\n",
    "]"
   ]
  },
  {
   "cell_type": "code",
   "execution_count": 8,
   "metadata": {},
   "outputs": [
    {
     "name": "stdout",
     "output_type": "stream",
     "text": [
      "dict_keys(['Organisation Code', 'Name', 'Address', 'Status', 'Prescribing Setting'])\n"
     ]
    }
   ],
   "source": [
    "# It has 5 keys: 'Organisation Code', 'Name', 'Adress', 'Status', 'Prescribing Setting'\n",
    "pp.pprint(gp_practices[0].keys())"
   ]
  },
  {
   "cell_type": "markdown",
   "metadata": {},
   "source": [
    "### Example code: how many 'Prescribing Setting' of each type there are?"
   ]
  },
  {
   "cell_type": "code",
   "execution_count": 9,
   "metadata": {},
   "outputs": [
    {
     "name": "stdout",
     "output_type": "stream",
     "text": [
      "Hospice................................. occures   154 times\n",
      "WIC + OOH Practice...................... occures    22 times\n",
      "Secure Children/s Home.................. occures    17 times\n",
      "Public Health Service................... occures   356 times\n",
      "GP Practice............................. occures  8632 times\n",
      "Care Home / Nursing Home................ occures    91 times\n",
      "WIC Practice............................ occures   121 times\n",
      "Secure Training Centre.................. occures     2 times\n",
      "Sexual Assault Referral Centre (SARC)... occures     5 times\n",
      "Prison.................................. occures   149 times\n",
      "Other................................... occures  2557 times\n",
      "Urgent & Emergency Care................. occures   151 times\n",
      "Young Offender Institution.............. occures     5 times\n",
      "Immigration Removal Centre.............. occures     9 times\n",
      "Hospital Service........................ occures   578 times\n",
      "Optometry Service....................... occures   120 times\n",
      "Community Health Service................ occures  1734 times\n",
      "OOH Practice............................ occures   357 times\n"
     ]
    }
   ],
   "source": [
    "# To get more info about what data means have a look at the file gppractices.pdf in /data folder\n",
    "# or google around it. \n",
    "# note that the data provider does not really explain what 'Prescribing Setting' means :(\n",
    "# So we need to guess, or figure it out.\n",
    "def prescribing_setting_report(all_practices):\n",
    "    prescribing_settings_meanings = {\n",
    "        '0':'Other',\n",
    "        '1':'WIC Practice',\n",
    "        '2':'OOH Practice',\n",
    "        '3':'WIC + OOH Practice',\n",
    "        '4':'GP Practice',\n",
    "        '8':'Public Health Service',\n",
    "        '9':'Community Health Service',\n",
    "        '10':'Hospital Service',\n",
    "        '11':'Optometry Service',\n",
    "        '12':'Urgent & Emergency Care',\n",
    "        '13':'Hospice',\n",
    "        '14':'Care Home / Nursing Home',\n",
    "        '15':'Border Force',\n",
    "        '16':'Young Offender Institution',\n",
    "        '17':'Secure Training Centre',\n",
    "        '18':'Secure Children/s Home',\n",
    "        '19':'Immigration Removal Centre',\n",
    "        '20':'Court',\n",
    "        '21':'Police Custody',\n",
    "        '22':'Sexual Assault Referral Centre (SARC)',\n",
    "        '24':'Other – Justice Estate',\n",
    "        '25':'Prison'}\n",
    "\n",
    "    all_settings = [\n",
    "            gp['Prescribing Setting'] \n",
    "            for gp in all_practices \n",
    "          ]\n",
    "    \n",
    "    settings_unique = set(all_settings)\n",
    "\n",
    "    for setting in settings_unique:\n",
    "        meanings = prescribing_settings_meanings[setting]\n",
    "        frequency = all_settings.count(setting)\n",
    "        print(f\"{meanings:.<40} occures {frequency: >5} times\")\n",
    "\n",
    "prescribing_setting_report(gp_practices)"
   ]
  },
  {
   "cell_type": "markdown",
   "metadata": {},
   "source": [
    "# TestDrive Assignment Solution:"
   ]
  },
  {
   "cell_type": "markdown",
   "metadata": {},
   "source": [
    "## Your Code:"
   ]
  },
  {
   "cell_type": "code",
   "execution_count": 48,
   "metadata": {},
   "outputs": [
    {
     "name": "stdout",
     "output_type": "stream",
     "text": [
      "[{'City': 'SHEFFIELD', 'Count': 57},\n",
      " {'City': 'STOKE ON TRENT', 'Count': 44},\n",
      " {'City': 'LIVERPOOL', 'Count': 44},\n",
      " {'City': 'LEEDS', 'Count': 35},\n",
      " {'City': 'COVENTRY', 'Count': 33},\n",
      " {'City': 'PRESTON', 'Count': 30},\n",
      " {'City': 'DONCASTER', 'Count': 28},\n",
      " {'City': 'LEICESTER', 'Count': 28},\n",
      " {'City': 'WOLVERHAMPTON', 'Count': 28},\n",
      " {'City': 'NORWICH', 'Count': 28},\n",
      " {'City': 'WALSALL', 'Count': 26},\n",
      " {'City': 'BRADFORD', 'Count': 25},\n",
      " {'City': 'BRIGHTON', 'Count': 25},\n",
      " {'City': 'HUDDERSFIELD', 'Count': 24},\n",
      " {'City': 'NOTTINGHAM', 'Count': 24},\n",
      " {'City': 'SUNDERLAND', 'Count': 24},\n",
      " {'City': 'READING', 'Count': 24},\n",
      " {'City': 'BOLTON', 'Count': 23},\n",
      " {'City': 'NEWCASTLE UPON TYNE', 'Count': 23},\n",
      " {'City': 'SOUTHAMPTON', 'Count': 22}]\n"
     ]
    }
   ],
   "source": [
    "from operator import itemgetter\n",
    "\n",
    "def count_cities(cities):\n",
    "  # Removing `-` in a list comprehension to match cities with different spelling\n",
    "  cities = [\n",
    "    city.replace('-', ' ')\n",
    "    for city in cities\n",
    "  ]\n",
    "  \n",
    "  # Creating a list with dictionaties ('City', 'Count') in a list comprehension\n",
    "  city_list = [\n",
    "    {'City': city, 'Count': cities.count(city)}\n",
    "    for city in set(cities)\n",
    "  ]\n",
    "  return city_list\n",
    "  \n",
    "\n",
    "def city_names_count(gp_practices):\n",
    "  # Buidling list cities with active gp practices of pracitices in a list comprehension\n",
    "  cities = [\n",
    "    city['Address']['City']\n",
    "    for city in gp_practices\n",
    "    if city['Prescribing Setting'] == '4' and city['Status']['Status Code'] == 'A'\n",
    "  ]\n",
    "  return count_cities(cities)\n",
    "\n",
    "# Sorting list of dict by count of practices\n",
    "cities_list = sorted(city_names_count(gp_practices), key=itemgetter('Count'), reverse=True)\n",
    "\n",
    "# Print the first 20 cities\n",
    "pp.pprint(cities_list[:20])\n"
   ]
  },
  {
   "cell_type": "markdown",
   "metadata": {},
   "source": [
    "## Visualisation:"
   ]
  },
  {
   "cell_type": "code",
   "execution_count": 49,
   "metadata": {},
   "outputs": [
    {
     "data": {
      "application/vnd.plotly.v1+json": {
       "config": {
        "plotlyServerURL": "https://plot.ly"
       },
       "data": [
        {
         "alignmentgroup": "True",
         "hovertemplate": "<b>%{hovertext}</b><br><br>City=%{x}<br>Count=%{y}<extra></extra>",
         "hovertext": [
          57,
          44,
          44,
          35,
          33,
          30,
          28,
          28,
          28,
          28,
          26,
          25,
          25,
          24,
          24,
          24,
          24,
          23,
          23,
          22
         ],
         "legendgroup": "",
         "marker": {
          "color": "#636efa",
          "pattern": {
           "shape": ""
          }
         },
         "name": "",
         "offsetgroup": "",
         "orientation": "v",
         "showlegend": false,
         "textposition": "auto",
         "type": "bar",
         "x": [
          "SHEFFIELD",
          "STOKE ON TRENT",
          "LIVERPOOL",
          "LEEDS",
          "COVENTRY",
          "PRESTON",
          "DONCASTER",
          "LEICESTER",
          "WOLVERHAMPTON",
          "NORWICH",
          "WALSALL",
          "BRADFORD",
          "BRIGHTON",
          "HUDDERSFIELD",
          "NOTTINGHAM",
          "SUNDERLAND",
          "READING",
          "BOLTON",
          "NEWCASTLE UPON TYNE",
          "SOUTHAMPTON"
         ],
         "xaxis": "x",
         "y": [
          57,
          44,
          44,
          35,
          33,
          30,
          28,
          28,
          28,
          28,
          26,
          25,
          25,
          24,
          24,
          24,
          24,
          23,
          23,
          22
         ],
         "yaxis": "y"
        }
       ],
       "layout": {
        "barmode": "relative",
        "legend": {
         "tracegroupgap": 0
        },
        "margin": {
         "t": 60
        },
        "template": {
         "data": {
          "bar": [
           {
            "error_x": {
             "color": "#2a3f5f"
            },
            "error_y": {
             "color": "#2a3f5f"
            },
            "marker": {
             "line": {
              "color": "#E5ECF6",
              "width": 0.5
             },
             "pattern": {
              "fillmode": "overlay",
              "size": 10,
              "solidity": 0.2
             }
            },
            "type": "bar"
           }
          ],
          "barpolar": [
           {
            "marker": {
             "line": {
              "color": "#E5ECF6",
              "width": 0.5
             },
             "pattern": {
              "fillmode": "overlay",
              "size": 10,
              "solidity": 0.2
             }
            },
            "type": "barpolar"
           }
          ],
          "carpet": [
           {
            "aaxis": {
             "endlinecolor": "#2a3f5f",
             "gridcolor": "white",
             "linecolor": "white",
             "minorgridcolor": "white",
             "startlinecolor": "#2a3f5f"
            },
            "baxis": {
             "endlinecolor": "#2a3f5f",
             "gridcolor": "white",
             "linecolor": "white",
             "minorgridcolor": "white",
             "startlinecolor": "#2a3f5f"
            },
            "type": "carpet"
           }
          ],
          "choropleth": [
           {
            "colorbar": {
             "outlinewidth": 0,
             "ticks": ""
            },
            "type": "choropleth"
           }
          ],
          "contour": [
           {
            "colorbar": {
             "outlinewidth": 0,
             "ticks": ""
            },
            "colorscale": [
             [
              0,
              "#0d0887"
             ],
             [
              0.1111111111111111,
              "#46039f"
             ],
             [
              0.2222222222222222,
              "#7201a8"
             ],
             [
              0.3333333333333333,
              "#9c179e"
             ],
             [
              0.4444444444444444,
              "#bd3786"
             ],
             [
              0.5555555555555556,
              "#d8576b"
             ],
             [
              0.6666666666666666,
              "#ed7953"
             ],
             [
              0.7777777777777778,
              "#fb9f3a"
             ],
             [
              0.8888888888888888,
              "#fdca26"
             ],
             [
              1,
              "#f0f921"
             ]
            ],
            "type": "contour"
           }
          ],
          "contourcarpet": [
           {
            "colorbar": {
             "outlinewidth": 0,
             "ticks": ""
            },
            "type": "contourcarpet"
           }
          ],
          "heatmap": [
           {
            "colorbar": {
             "outlinewidth": 0,
             "ticks": ""
            },
            "colorscale": [
             [
              0,
              "#0d0887"
             ],
             [
              0.1111111111111111,
              "#46039f"
             ],
             [
              0.2222222222222222,
              "#7201a8"
             ],
             [
              0.3333333333333333,
              "#9c179e"
             ],
             [
              0.4444444444444444,
              "#bd3786"
             ],
             [
              0.5555555555555556,
              "#d8576b"
             ],
             [
              0.6666666666666666,
              "#ed7953"
             ],
             [
              0.7777777777777778,
              "#fb9f3a"
             ],
             [
              0.8888888888888888,
              "#fdca26"
             ],
             [
              1,
              "#f0f921"
             ]
            ],
            "type": "heatmap"
           }
          ],
          "heatmapgl": [
           {
            "colorbar": {
             "outlinewidth": 0,
             "ticks": ""
            },
            "colorscale": [
             [
              0,
              "#0d0887"
             ],
             [
              0.1111111111111111,
              "#46039f"
             ],
             [
              0.2222222222222222,
              "#7201a8"
             ],
             [
              0.3333333333333333,
              "#9c179e"
             ],
             [
              0.4444444444444444,
              "#bd3786"
             ],
             [
              0.5555555555555556,
              "#d8576b"
             ],
             [
              0.6666666666666666,
              "#ed7953"
             ],
             [
              0.7777777777777778,
              "#fb9f3a"
             ],
             [
              0.8888888888888888,
              "#fdca26"
             ],
             [
              1,
              "#f0f921"
             ]
            ],
            "type": "heatmapgl"
           }
          ],
          "histogram": [
           {
            "marker": {
             "pattern": {
              "fillmode": "overlay",
              "size": 10,
              "solidity": 0.2
             }
            },
            "type": "histogram"
           }
          ],
          "histogram2d": [
           {
            "colorbar": {
             "outlinewidth": 0,
             "ticks": ""
            },
            "colorscale": [
             [
              0,
              "#0d0887"
             ],
             [
              0.1111111111111111,
              "#46039f"
             ],
             [
              0.2222222222222222,
              "#7201a8"
             ],
             [
              0.3333333333333333,
              "#9c179e"
             ],
             [
              0.4444444444444444,
              "#bd3786"
             ],
             [
              0.5555555555555556,
              "#d8576b"
             ],
             [
              0.6666666666666666,
              "#ed7953"
             ],
             [
              0.7777777777777778,
              "#fb9f3a"
             ],
             [
              0.8888888888888888,
              "#fdca26"
             ],
             [
              1,
              "#f0f921"
             ]
            ],
            "type": "histogram2d"
           }
          ],
          "histogram2dcontour": [
           {
            "colorbar": {
             "outlinewidth": 0,
             "ticks": ""
            },
            "colorscale": [
             [
              0,
              "#0d0887"
             ],
             [
              0.1111111111111111,
              "#46039f"
             ],
             [
              0.2222222222222222,
              "#7201a8"
             ],
             [
              0.3333333333333333,
              "#9c179e"
             ],
             [
              0.4444444444444444,
              "#bd3786"
             ],
             [
              0.5555555555555556,
              "#d8576b"
             ],
             [
              0.6666666666666666,
              "#ed7953"
             ],
             [
              0.7777777777777778,
              "#fb9f3a"
             ],
             [
              0.8888888888888888,
              "#fdca26"
             ],
             [
              1,
              "#f0f921"
             ]
            ],
            "type": "histogram2dcontour"
           }
          ],
          "mesh3d": [
           {
            "colorbar": {
             "outlinewidth": 0,
             "ticks": ""
            },
            "type": "mesh3d"
           }
          ],
          "parcoords": [
           {
            "line": {
             "colorbar": {
              "outlinewidth": 0,
              "ticks": ""
             }
            },
            "type": "parcoords"
           }
          ],
          "pie": [
           {
            "automargin": true,
            "type": "pie"
           }
          ],
          "scatter": [
           {
            "fillpattern": {
             "fillmode": "overlay",
             "size": 10,
             "solidity": 0.2
            },
            "type": "scatter"
           }
          ],
          "scatter3d": [
           {
            "line": {
             "colorbar": {
              "outlinewidth": 0,
              "ticks": ""
             }
            },
            "marker": {
             "colorbar": {
              "outlinewidth": 0,
              "ticks": ""
             }
            },
            "type": "scatter3d"
           }
          ],
          "scattercarpet": [
           {
            "marker": {
             "colorbar": {
              "outlinewidth": 0,
              "ticks": ""
             }
            },
            "type": "scattercarpet"
           }
          ],
          "scattergeo": [
           {
            "marker": {
             "colorbar": {
              "outlinewidth": 0,
              "ticks": ""
             }
            },
            "type": "scattergeo"
           }
          ],
          "scattergl": [
           {
            "marker": {
             "colorbar": {
              "outlinewidth": 0,
              "ticks": ""
             }
            },
            "type": "scattergl"
           }
          ],
          "scattermapbox": [
           {
            "marker": {
             "colorbar": {
              "outlinewidth": 0,
              "ticks": ""
             }
            },
            "type": "scattermapbox"
           }
          ],
          "scatterpolar": [
           {
            "marker": {
             "colorbar": {
              "outlinewidth": 0,
              "ticks": ""
             }
            },
            "type": "scatterpolar"
           }
          ],
          "scatterpolargl": [
           {
            "marker": {
             "colorbar": {
              "outlinewidth": 0,
              "ticks": ""
             }
            },
            "type": "scatterpolargl"
           }
          ],
          "scatterternary": [
           {
            "marker": {
             "colorbar": {
              "outlinewidth": 0,
              "ticks": ""
             }
            },
            "type": "scatterternary"
           }
          ],
          "surface": [
           {
            "colorbar": {
             "outlinewidth": 0,
             "ticks": ""
            },
            "colorscale": [
             [
              0,
              "#0d0887"
             ],
             [
              0.1111111111111111,
              "#46039f"
             ],
             [
              0.2222222222222222,
              "#7201a8"
             ],
             [
              0.3333333333333333,
              "#9c179e"
             ],
             [
              0.4444444444444444,
              "#bd3786"
             ],
             [
              0.5555555555555556,
              "#d8576b"
             ],
             [
              0.6666666666666666,
              "#ed7953"
             ],
             [
              0.7777777777777778,
              "#fb9f3a"
             ],
             [
              0.8888888888888888,
              "#fdca26"
             ],
             [
              1,
              "#f0f921"
             ]
            ],
            "type": "surface"
           }
          ],
          "table": [
           {
            "cells": {
             "fill": {
              "color": "#EBF0F8"
             },
             "line": {
              "color": "white"
             }
            },
            "header": {
             "fill": {
              "color": "#C8D4E3"
             },
             "line": {
              "color": "white"
             }
            },
            "type": "table"
           }
          ]
         },
         "layout": {
          "annotationdefaults": {
           "arrowcolor": "#2a3f5f",
           "arrowhead": 0,
           "arrowwidth": 1
          },
          "autotypenumbers": "strict",
          "coloraxis": {
           "colorbar": {
            "outlinewidth": 0,
            "ticks": ""
           }
          },
          "colorscale": {
           "diverging": [
            [
             0,
             "#8e0152"
            ],
            [
             0.1,
             "#c51b7d"
            ],
            [
             0.2,
             "#de77ae"
            ],
            [
             0.3,
             "#f1b6da"
            ],
            [
             0.4,
             "#fde0ef"
            ],
            [
             0.5,
             "#f7f7f7"
            ],
            [
             0.6,
             "#e6f5d0"
            ],
            [
             0.7,
             "#b8e186"
            ],
            [
             0.8,
             "#7fbc41"
            ],
            [
             0.9,
             "#4d9221"
            ],
            [
             1,
             "#276419"
            ]
           ],
           "sequential": [
            [
             0,
             "#0d0887"
            ],
            [
             0.1111111111111111,
             "#46039f"
            ],
            [
             0.2222222222222222,
             "#7201a8"
            ],
            [
             0.3333333333333333,
             "#9c179e"
            ],
            [
             0.4444444444444444,
             "#bd3786"
            ],
            [
             0.5555555555555556,
             "#d8576b"
            ],
            [
             0.6666666666666666,
             "#ed7953"
            ],
            [
             0.7777777777777778,
             "#fb9f3a"
            ],
            [
             0.8888888888888888,
             "#fdca26"
            ],
            [
             1,
             "#f0f921"
            ]
           ],
           "sequentialminus": [
            [
             0,
             "#0d0887"
            ],
            [
             0.1111111111111111,
             "#46039f"
            ],
            [
             0.2222222222222222,
             "#7201a8"
            ],
            [
             0.3333333333333333,
             "#9c179e"
            ],
            [
             0.4444444444444444,
             "#bd3786"
            ],
            [
             0.5555555555555556,
             "#d8576b"
            ],
            [
             0.6666666666666666,
             "#ed7953"
            ],
            [
             0.7777777777777778,
             "#fb9f3a"
            ],
            [
             0.8888888888888888,
             "#fdca26"
            ],
            [
             1,
             "#f0f921"
            ]
           ]
          },
          "colorway": [
           "#636efa",
           "#EF553B",
           "#00cc96",
           "#ab63fa",
           "#FFA15A",
           "#19d3f3",
           "#FF6692",
           "#B6E880",
           "#FF97FF",
           "#FECB52"
          ],
          "font": {
           "color": "#2a3f5f"
          },
          "geo": {
           "bgcolor": "white",
           "lakecolor": "white",
           "landcolor": "#E5ECF6",
           "showlakes": true,
           "showland": true,
           "subunitcolor": "white"
          },
          "hoverlabel": {
           "align": "left"
          },
          "hovermode": "closest",
          "mapbox": {
           "style": "light"
          },
          "paper_bgcolor": "white",
          "plot_bgcolor": "#E5ECF6",
          "polar": {
           "angularaxis": {
            "gridcolor": "white",
            "linecolor": "white",
            "ticks": ""
           },
           "bgcolor": "#E5ECF6",
           "radialaxis": {
            "gridcolor": "white",
            "linecolor": "white",
            "ticks": ""
           }
          },
          "scene": {
           "xaxis": {
            "backgroundcolor": "#E5ECF6",
            "gridcolor": "white",
            "gridwidth": 2,
            "linecolor": "white",
            "showbackground": true,
            "ticks": "",
            "zerolinecolor": "white"
           },
           "yaxis": {
            "backgroundcolor": "#E5ECF6",
            "gridcolor": "white",
            "gridwidth": 2,
            "linecolor": "white",
            "showbackground": true,
            "ticks": "",
            "zerolinecolor": "white"
           },
           "zaxis": {
            "backgroundcolor": "#E5ECF6",
            "gridcolor": "white",
            "gridwidth": 2,
            "linecolor": "white",
            "showbackground": true,
            "ticks": "",
            "zerolinecolor": "white"
           }
          },
          "shapedefaults": {
           "line": {
            "color": "#2a3f5f"
           }
          },
          "ternary": {
           "aaxis": {
            "gridcolor": "white",
            "linecolor": "white",
            "ticks": ""
           },
           "baxis": {
            "gridcolor": "white",
            "linecolor": "white",
            "ticks": ""
           },
           "bgcolor": "#E5ECF6",
           "caxis": {
            "gridcolor": "white",
            "linecolor": "white",
            "ticks": ""
           }
          },
          "title": {
           "x": 0.05
          },
          "xaxis": {
           "automargin": true,
           "gridcolor": "white",
           "linecolor": "white",
           "ticks": "",
           "title": {
            "standoff": 15
           },
           "zerolinecolor": "white",
           "zerolinewidth": 2
          },
          "yaxis": {
           "automargin": true,
           "gridcolor": "white",
           "linecolor": "white",
           "ticks": "",
           "title": {
            "standoff": 15
           },
           "zerolinecolor": "white",
           "zerolinewidth": 2
          }
         }
        },
        "xaxis": {
         "anchor": "y",
         "domain": [
          0,
          1
         ],
         "title": {
          "text": "City"
         }
        },
        "yaxis": {
         "anchor": "x",
         "domain": [
          0,
          1
         ],
         "title": {
          "text": "Count"
         }
        }
       }
      }
     },
     "metadata": {},
     "output_type": "display_data"
    }
   ],
   "source": [
    "import plotly.express as px\n",
    "\n",
    "fig = px.bar(cities_list[:20], x=\"City\", y=\"Count\",\n",
    "           hover_name=\"Count\")\n",
    "fig.show()"
   ]
  },
  {
   "cell_type": "markdown",
   "metadata": {},
   "source": [
    "## Your mini-report:"
   ]
  },
  {
   "cell_type": "markdown",
   "metadata": {},
   "source": [
    "Notice, this is not a typical 'code' cell! It is called 'Markdown' and you can change a type of cell in the menu next to the Run button in the top menu.\n",
    "\n",
    "**Markdown Cells** are text. you can highlight things by surrpounfing them with ** and you can make headers by starting lines with # or ##\n",
    "\n",
    "**Code Cells** are just normal cells with python code you are used to\n",
    "\n",
    "Write your report in a Markdown cell like this one"
   ]
  },
  {
   "cell_type": "markdown",
   "metadata": {},
   "source": [
    "For this data I decided to look at the number of active gp practices in per city. I found that Sheffield has the most \n",
    "active practices with 57, followed by Stoke on Trent and Liverpool with 44 each."
   ]
  }
 ],
 "metadata": {
  "kernelspec": {
   "display_name": "Python 3 (ipykernel)",
   "language": "python",
   "name": "python3"
  },
  "language_info": {
   "codemirror_mode": {
    "name": "ipython",
    "version": 3
   },
   "file_extension": ".py",
   "mimetype": "text/x-python",
   "name": "python",
   "nbconvert_exporter": "python",
   "pygments_lexer": "ipython3",
   "version": "3.11.8"
  }
 },
 "nbformat": 4,
 "nbformat_minor": 2
}
