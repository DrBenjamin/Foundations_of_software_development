{
 "cells": [
  {
   "cell_type": "markdown",
   "id": "e34762d4",
   "metadata": {},
   "source": [
    "# experimental: you can run this cell to see your code full-width\n",
    "from IPython.display import display, HTML\n",
    "display(HTML(\"<style>.container { width:100% !important; }</style>\"))"
   ]
  },
  {
   "cell_type": "code",
   "execution_count": 2,
   "id": "light-reason",
   "metadata": {},
   "outputs": [
    {
     "name": "stdout",
     "output_type": "stream",
     "text": [
      "\r\n",
      "\r\n",
      "Link below can be send to someone to share your Noteable session:\r\n",
      "\r\n",
      "https://noteable.edina.ac.uk/user/d7i6m6qmi3q5tglmiqr86m/tree?token=dyjSQPVdR7ipaY5Ft5p9NQ\r\n",
      "\r\n"
     ]
    }
   ],
   "source": [
    "#  run this cell without changing it. It only works on Noteable.\n",
    "! printf \"\\n\\nLink below can be send to someone to share your Noteable session:\\n\\nhttps://noteable.edina.ac.uk/user/$(jupyter notebook list | grep -oP '(?<=user\\/).*(?=\\/\\?)' )/tree?token=$( jupyter notebook list | grep -oP '(?<=token=).*(?= ::)' )\\n\\n\""
   ]
  },
  {
   "cell_type": "markdown",
   "id": "behind-terry",
   "metadata": {},
   "source": [
    "# Lab for badges 7-9\n",
    "\n",
    "This badge has two sections: \n",
    "\n",
    "1. Solve some simple tasks using list comprehensions\n",
    "2. Build a live 'bus tracker' using a bus data API https://pbs.twimg.com/media/Dape3PaXcAAyYCl.jpg"
   ]
  },
  {
   "cell_type": "markdown",
   "id": "designed-canvas",
   "metadata": {},
   "source": [
    "## Part 1: Small tasks"
   ]
  },
  {
   "cell_type": "code",
   "execution_count": 16,
   "id": "traditional-gather",
   "metadata": {},
   "outputs": [],
   "source": [
    "# given this data, try to answer below challanges. hint: use List comprehensions. \n",
    "# remember that often you you need to split the task into smaller chunks \n",
    "cities_uk = [{'Geo': {'AreaKm2': 1572,\n",
    "                      'Coordinates': {'Latitude': 51.51, 'Longitude': -0.13}},\n",
    "          'Name': 'London',\n",
    "          'Population': 8908081,\n",
    "          'Year_Founded': 47},\n",
    "         {'Geo': {'AreaKm2': 267.77,\n",
    "                  'Coordinates': {'Latitude': 52.48, 'Longitude': -1.9}},\n",
    "          'Name': 'Birmingham',\n",
    "          'Population': 1137100,\n",
    "          'Year_Founded': 601},\n",
    "         {'Geo': {'AreaKm2': 551.7,\n",
    "                  'Coordinates': {'Latitude': 53.8, 'Longitude': -1.55}},\n",
    "          'Name': 'Leeds',\n",
    "          'Population': 789194,\n",
    "          'Year_Founded': 1893},\n",
    "         {'Geo': {'AreaKm2': 3298,\n",
    "                  'Coordinates': {'Latitude': 55.86, 'Longitude': -4.25}},\n",
    "          'Name': 'Glasgow',\n",
    "          'Population': 635640,\n",
    "          'Year_Founded': 1454},\n",
    "         {'Geo': {'AreaKm2': 142.06,\n",
    "                  'Coordinates': {'Latitude': 53.38, 'Longitude': -1.47}},\n",
    "          'Name': 'Sheffield',\n",
    "          'Population': 577800,\n",
    "          'Year_Founded': 701},\n",
    "         {'Geo': {'AreaKm2': 110,\n",
    "                  'Coordinates': {'Latitude': 51.45, 'Longitude': -2.58}},\n",
    "          'Name': 'Bristol',\n",
    "          'Population': 567111,\n",
    "          'Year_Founded': 1155},\n",
    "         {'Geo': {'AreaKm2': 115.6,\n",
    "                  'Coordinates': {'Latitude': 53.47, 'Longitude': -2.23}},\n",
    "          'Name': 'Manchester',\n",
    "          'Population': 547627,\n",
    "          'Year_Founded': 1301},\n",
    "         {'Geo': {'AreaKm2': 111.84,\n",
    "                  'Coordinates': {'Latitude': 53.41, 'Longitude': -2.99}},\n",
    "          'Name': 'Eding',\n",
    "          'Population': 513441,\n",
    "          'Year_Founded': 1207},\n",
    "         {'Geo': {'AreaKm2': 259,\n",
    "                  'Coordinates': {'Latitude': 55.95, 'Longitude': -3.2}},\n",
    "          'Name': 'Liverpool',\n",
    "          'Population': 488050,\n",
    "          'Year_Founded': 601}]\n",
    "\n",
    "cities_scotland = [\n",
    "         {'Geo': {'AreaKm2': 3298,\n",
    "                  'Coordinates': {'Latitude': 55.86, 'Longitude': -4.25}},\n",
    "          'Name': 'Glasgow',\n",
    "          'Population': 635640,\n",
    "          'Year_Founded': 1454},\n",
    "         {'Geo': {'AreaKm2': 259,\n",
    "                  'Coordinates': {'Latitude': 55.95, 'Longitude': -3.2}},\n",
    "          'Name': 'Edinburgh',\n",
    "          'Population': 488050,\n",
    "          'Year_Founded': 601}]"
   ]
  },
  {
   "cell_type": "markdown",
   "id": "reported-september",
   "metadata": {},
   "source": [
    "# Tasks Group 1:"
   ]
  },
  {
   "cell_type": "code",
   "execution_count": 17,
   "id": "violent-group",
   "metadata": {},
   "outputs": [
    {
     "name": "stdout",
     "output_type": "stream",
     "text": [
      "9\n"
     ]
    }
   ],
   "source": [
    "def number_of_cities(some_cities):\n",
    "    cities_count = [\n",
    "        city['Name']\n",
    "        for city in some_cities\n",
    "    ]\n",
    "    cities_count = list(set(cities_count))\n",
    "    return len(cities_count)\n",
    "\n",
    "print(number_of_cities(cities_uk)) # see it work"
   ]
  },
  {
   "cell_type": "code",
   "execution_count": 18,
   "id": "aboriginal-devices",
   "metadata": {},
   "outputs": [
    {
     "name": "stdout",
     "output_type": "stream",
     "text": [
      "tests passed\n"
     ]
    }
   ],
   "source": [
    "assert number_of_cities(cities_scotland) == 2\n",
    "assert number_of_cities(cities_uk) == 9\n",
    "print(\"tests passed\")"
   ]
  },
  {
   "cell_type": "code",
   "execution_count": 27,
   "id": "running-local",
   "metadata": {},
   "outputs": [
    {
     "name": "stdout",
     "output_type": "stream",
     "text": [
      "['Birmingham', 'Bristol']\n"
     ]
    }
   ],
   "source": [
    "def cities_starting_with_letter(some_cities, first_letter):\n",
    "    cities_names = [\n",
    "        city['Name']\n",
    "        for city in some_cities\n",
    "        if city['Name'][0] == first_letter\n",
    "    ]\n",
    "    return cities_names\n",
    "\n",
    "print(cities_starting_with_letter(cities_uk, \"B\")) # see it work"
   ]
  },
  {
   "cell_type": "code",
   "execution_count": 28,
   "id": "hourly-server",
   "metadata": {},
   "outputs": [
    {
     "name": "stdout",
     "output_type": "stream",
     "text": [
      "tests passed\n"
     ]
    }
   ],
   "source": [
    "assert cities_starting_with_letter(cities_uk, \"L\") == ['London', 'Leeds', 'Liverpool']\n",
    "assert cities_starting_with_letter(cities_uk, \"B\") == ['Birmingham', 'Bristol']\n",
    "assert cities_starting_with_letter(cities_scotland, \"L\") == []\n",
    "assert cities_starting_with_letter([], \"L\") == []\n",
    "print(\"tests passed\")"
   ]
  },
  {
   "cell_type": "code",
   "execution_count": 31,
   "id": "instrumental-suite",
   "metadata": {},
   "outputs": [
    {
     "name": "stdout",
     "output_type": "stream",
     "text": [
      "6\n"
     ]
    }
   ],
   "source": [
    "def number_of_cities_north_of(some_cities, latitude):\n",
    "    city_coordinate = [\n",
    "        city\n",
    "        for city in some_cities\n",
    "        if city['Geo']['Coordinates']['Latitude'] > latitude\n",
    "    ]\n",
    "    return len(city_coordinate)\n",
    "\n",
    "print(number_of_cities_north_of(cities_uk, 53.0)) # see it work"
   ]
  },
  {
   "cell_type": "code",
   "execution_count": 32,
   "id": "mathematical-function",
   "metadata": {},
   "outputs": [
    {
     "name": "stdout",
     "output_type": "stream",
     "text": [
      "tests passed\n"
     ]
    }
   ],
   "source": [
    "assert number_of_cities_north_of(cities_uk, 55.0) == 2\n",
    "assert number_of_cities_north_of(cities_uk, 53.0) == 6\n",
    "assert number_of_cities_north_of(cities_scotland, 55.0) == 2\n",
    "print(\"tests passed\")\n",
    "# for simplicity let's assume everythong north of Gretna Green is in Scotland(Latitude being larger than 55.00) ;)"
   ]
  },
  {
   "cell_type": "code",
   "execution_count": 34,
   "id": "industrial-nightmare",
   "metadata": {},
   "outputs": [
    {
     "name": "stdout",
     "output_type": "stream",
     "text": [
      "22\n"
     ]
    }
   ],
   "source": [
    "def percent_of_cities_north_of(some_cities, latitude): \n",
    "    city_coordinate = [\n",
    "        city\n",
    "        for city in some_cities\n",
    "        if city['Geo']['Coordinates']['Latitude'] > latitude\n",
    "    ]\n",
    "    return round(len(city_coordinate)/len(some_cities) * 100)\n",
    "\n",
    "# round the result before returning it\n",
    "print(percent_of_cities_north_of(cities_uk, 55.0)) # see it work"
   ]
  },
  {
   "cell_type": "code",
   "execution_count": 35,
   "id": "elect-template",
   "metadata": {},
   "outputs": [
    {
     "name": "stdout",
     "output_type": "stream",
     "text": [
      "tests passed\n"
     ]
    }
   ],
   "source": [
    "\n",
    "assert percent_of_cities_north_of(cities_uk, 55.0) == 22\n",
    "assert percent_of_cities_north_of(cities_uk, 53.0) == 67\n",
    "assert percent_of_cities_north_of(cities_scotland, 55.0) == 100\n",
    "print(\"tests passed\")"
   ]
  },
  {
   "cell_type": "code",
   "execution_count": 37,
   "id": "disciplinary-enough",
   "metadata": {},
   "outputs": [
    {
     "name": "stdout",
     "output_type": "stream",
     "text": [
      "1\n"
     ]
    }
   ],
   "source": [
    "def year_founded_of_large_cities(some_cities, minimum_population):\n",
    "    city_pop = [\n",
    "        city\n",
    "        for city in some_cities\n",
    "        if city['Population'] > minimum_population\n",
    "    ]\n",
    "    return len(city_pop)\n",
    "\n",
    "print(year_founded_of_large_cities(cities_uk, 1500000)) # see it work"
   ]
  },
  {
   "cell_type": "code",
   "execution_count": 38,
   "id": "golden-commodity",
   "metadata": {},
   "outputs": [
    {
     "name": "stdout",
     "output_type": "stream",
     "text": [
      "tests passed\n"
     ]
    }
   ],
   "source": [
    "assert year_founded_of_large_cities(cities_uk, 1500000) == 1\n",
    "assert year_founded_of_large_cities(cities_uk, 1000000) == 2\n",
    "assert year_founded_of_large_cities(cities_uk, 500000) == 8\n",
    "assert year_founded_of_large_cities(cities_scotland, 500000) == 1\n",
    "print(\"tests passed\")"
   ]
  },
  {
   "cell_type": "code",
   "execution_count": null,
   "id": "virgin-oregon",
   "metadata": {},
   "outputs": [],
   "source": []
  },
  {
   "cell_type": "markdown",
   "id": "7da25f4c",
   "metadata": {},
   "source": [
    "# ⛏ Edinburgh Lothian Busses Timetable\n",
    "\n",
    "Below is the API of Lothian Busses, Edinburgh's local bus company. We'd like you to try to understand that data, and then print it in a meaningful way.\n",
    "\n",
    "Some functions are given below which will give you access to a **list of dictionaries**. Each item in a list will be info abotu one bus services leaving soon from a particular busstop. We'll look at the busses going to Business School or University of Edinburgh from Leith (northen part of Edinburgh). \n",
    "\n",
    "Below you will see:\n",
    "\n",
    "- the structure of the data,\n",
    "- some examples\n",
    "- some task\n",
    "\n",
    "Use what you learned up until now to extract and style the bus timetable. Here is a photo of how bus timetable looks like when it is displayed on the digital display at the actual busstop: https://pbs.twimg.com/media/Dape3PaXcAAyYCl.jpg\n",
    "\n",
    "Also this is the link to live api data (remember that pprint in your python code, and jsonviewer extension in your chrome will make it easier to see it in a clear way): https://tfe-opendata.com/api/v1/live_bus_times/36236563\n",
    "\n",
    "To make above JSON data look MUCH BETTER in your browser. Use this Chrome extension: https://chrome.google.com/webstore/detail/json-viewer/gbmdgpbipfallnflgajpaliibnhdgobh \n",
    "\n",
    "Also, here is the official API documentation: https://tfe-opendata.readme.io/docs/live-bus-times\n",
    "\n",
    "**And here's a tracker that someone has built, which is using exactly the same data you will be looking at**\n",
    "\n",
    "http://www.mybustracker.co.uk/?module=mobile&mode=2&busStopService=43&busStopDest=2850816&busStopCode=36235975&subBusStop=Display+Departures\n",
    "\n",
    "or\n",
    "\n",
    "https://www.lothianbuses.com/live-travel-info/live-bus-times/?stop_id=6200243370"
   ]
  },
  {
   "cell_type": "markdown",
   "id": "636eafb2",
   "metadata": {},
   "source": [
    "# Demo code to get you started:"
   ]
  },
  {
   "cell_type": "code",
   "execution_count": 2,
   "id": "75660fa8",
   "metadata": {},
   "outputs": [],
   "source": [
    "import requests \n",
    "import pprint as pp \n",
    "from datetime import timedelta, date, datetime \n",
    "import pytz # timezones\n",
    "# you might see a pink warning with 'RequestsDependencyWarning'. Just ignore it for now."
   ]
  },
  {
   "cell_type": "code",
   "execution_count": 3,
   "id": "26899eca",
   "metadata": {},
   "outputs": [],
   "source": [
    "def get_buses_coming_soon( stop_id): \n",
    "    apiurl = f\"https://tfe-opendata.com/api/v1/live_bus_times/{stop_id}\" \n",
    "    print(apiurl)\n",
    "    response = requests.request(\"GET\", apiurl) \n",
    "    all_busses = response.json() \n",
    "    return all_busses"
   ]
  },
  {
   "cell_type": "markdown",
   "id": "73342e32",
   "metadata": {},
   "source": [
    "`get_buses_coming_soon` gets all routes from one bus stop. \n",
    "\n",
    "Result is a List of Dictionaries. Where each dictionary is one route (one bus number eg. 22). Route dictionary has just two keys. What are they?"
   ]
  },
  {
   "cell_type": "markdown",
   "id": "b3e2442c",
   "metadata": {},
   "source": [
    "Brace! this will print a lot of data!\n",
    "but have a look at the very beginning of it! What is it? List? Of What? List of Dictionaries?\n",
    "\n",
    "Read below for some hints"
   ]
  },
  {
   "cell_type": "code",
   "execution_count": 4,
   "id": "intensive-greece",
   "metadata": {},
   "outputs": [
    {
     "name": "stdout",
     "output_type": "stream",
     "text": [
      "https://tfe-opendata.com/api/v1/live_bus_times/36235975\n"
     ]
    }
   ],
   "source": [
    "# eg. 36235975 is an id of a bus stop on Proincess Street\n",
    "# in city center of Edinburgh \n",
    "princess_st_stop_id = 36235975\n",
    "routes = get_buses_coming_soon( princess_st_stop_id )"
   ]
  },
  {
   "cell_type": "code",
   "execution_count": 42,
   "id": "5a7a8b2f",
   "metadata": {},
   "outputs": [
    {
     "name": "stdout",
     "output_type": "stream",
     "text": [
      "6\n"
     ]
    }
   ],
   "source": [
    "pp.pprint(len(routes))"
   ]
  },
  {
   "cell_type": "code",
   "execution_count": 5,
   "id": "8c2cffc9",
   "metadata": {},
   "outputs": [
    {
     "name": "stdout",
     "output_type": "stream",
     "text": [
      "[{'departures': [{'departureTime': '2024-03-08T18:51:19+00:00',\n",
      "                  'departureTimeUnix': 1709923879,\n",
      "                  'destination': 'Heriot Watt',\n",
      "                  'displayTime': '18:51',\n",
      "                  'ineoUTCTime': '18:51:19',\n",
      "                  'isDiverted': False,\n",
      "                  'isLive': True,\n",
      "                  'isTerminatingHere': False,\n",
      "                  'routeName': '34',\n",
      "                  'sms': '36235975',\n",
      "                  'stopPoint': None,\n",
      "                  'stopSequence': 1,\n",
      "                  'tripId': '4137',\n",
      "                  'vehicleId': '568'},\n",
      "                 {'departureTime': '2024-03-08T19:03:51+00:00',\n",
      "                  'departureTimeUnix': 1709924631,\n",
      "                  'destination': 'Heriot Watt',\n",
      "                  'displayTime': '19:03',\n",
      "                  'ineoUTCTime': '19:03:51',\n",
      "                  'isDiverted': False,\n",
      "                  'isLive': True,\n",
      "                  'isTerminatingHere': False,\n",
      "                  'routeName': '34',\n",
      "                  'sms': '36235975',\n",
      "                  'stopPoint': None,\n",
      "                  'stopSequence': 13,\n",
      "                  'tripId': '4090',\n",
      "                  'vehicleId': '570'},\n",
      "                 {'departureTime': '2024-03-08T19:11:24+00:00',\n",
      "                  'departureTimeUnix': 1709925084,\n",
      "                  'destination': 'Heriot Watt',\n",
      "                  'displayTime': '19:11',\n",
      "                  'ineoUTCTime': '19:11:24',\n",
      "                  'isDiverted': False,\n",
      "                  'isLive': True,\n",
      "                  'isTerminatingHere': False,\n",
      "                  'routeName': '34',\n",
      "                  'sms': '36235975',\n",
      "                  'stopPoint': None,\n",
      "                  'stopSequence': 19,\n",
      "                  'tripId': '4160',\n",
      "                  'vehicleId': '605'},\n",
      "                 {'departureTime': '2024-03-08T19:45:03+00:00',\n",
      "                  'departureTimeUnix': 1709927103,\n",
      "                  'destination': 'Heriot Watt',\n",
      "                  'displayTime': '19:45',\n",
      "                  'ineoUTCTime': '19:45:03',\n",
      "                  'isDiverted': False,\n",
      "                  'isLive': True,\n",
      "                  'isTerminatingHere': False,\n",
      "                  'routeName': '34',\n",
      "                  'sms': '36235975',\n",
      "                  'stopPoint': None,\n",
      "                  'stopSequence': 24,\n",
      "                  'tripId': '4186',\n",
      "                  'vehicleId': '1151'}],\n",
      "  'routeName': '34'},\n",
      " {'departures': [{'departureTime': '2024-03-08T18:52:31+00:00',\n",
      "                  'departureTimeUnix': 1709923951,\n",
      "                  'destination': 'Fairmilehead',\n",
      "                  'displayTime': '18:52',\n",
      "                  'ineoUTCTime': '18:52:31',\n",
      "                  'isDiverted': False,\n",
      "                  'isLive': True,\n",
      "                  'isTerminatingHere': False,\n",
      "                  'routeName': '4',\n",
      "                  'sms': '36235975',\n",
      "                  'stopPoint': None,\n",
      "                  'stopSequence': 1,\n",
      "                  'tripId': '6043',\n",
      "                  'vehicleId': '1024'},\n",
      "                 {'departureTime': '2024-03-08T19:11:13+00:00',\n",
      "                  'departureTimeUnix': 1709925073,\n",
      "                  'destination': 'Fairmilehead',\n",
      "                  'displayTime': '19:11',\n",
      "                  'ineoUTCTime': '19:11:13',\n",
      "                  'isDiverted': False,\n",
      "                  'isLive': True,\n",
      "                  'isTerminatingHere': False,\n",
      "                  'routeName': '4',\n",
      "                  'sms': '36235975',\n",
      "                  'stopPoint': None,\n",
      "                  'stopSequence': 18,\n",
      "                  'tripId': '6063',\n",
      "                  'vehicleId': '1032'},\n",
      "                 {'departureTime': '2024-03-08T19:29:18+00:00',\n",
      "                  'departureTimeUnix': 1709926158,\n",
      "                  'destination': 'Fairmilehead',\n",
      "                  'displayTime': '19:29',\n",
      "                  'ineoUTCTime': '19:29:18',\n",
      "                  'isDiverted': False,\n",
      "                  'isLive': True,\n",
      "                  'isTerminatingHere': False,\n",
      "                  'routeName': '4',\n",
      "                  'sms': '36235975',\n",
      "                  'stopPoint': None,\n",
      "                  'stopSequence': 28,\n",
      "                  'tripId': '6078',\n",
      "                  'vehicleId': '1009'},\n",
      "                 {'departureTime': '2024-03-08T19:50:18+00:00',\n",
      "                  'departureTimeUnix': 1709927418,\n",
      "                  'destination': 'Fairmilehead',\n",
      "                  'displayTime': '19:50',\n",
      "                  'ineoUTCTime': '19:50:18',\n",
      "                  'isDiverted': False,\n",
      "                  'isLive': True,\n",
      "                  'isTerminatingHere': False,\n",
      "                  'routeName': '4',\n",
      "                  'sms': '36235975',\n",
      "                  'stopPoint': None,\n",
      "                  'stopSequence': 28,\n",
      "                  'tripId': '6098',\n",
      "                  'vehicleId': '1031'}],\n",
      "  'routeName': '4'},\n",
      " {'departures': [{'departureTime': '2024-03-08T18:52:40+00:00',\n",
      "                  'departureTimeUnix': 1709923960,\n",
      "                  'destination': 'Edinburgh',\n",
      "                  'displayTime': '18:52',\n",
      "                  'ineoUTCTime': '18:52:40',\n",
      "                  'isDiverted': False,\n",
      "                  'isLive': True,\n",
      "                  'isTerminatingHere': False,\n",
      "                  'routeName': '124',\n",
      "                  'sms': '36235975',\n",
      "                  'stopPoint': None,\n",
      "                  'stopSequence': 3,\n",
      "                  'tripId': '571',\n",
      "                  'vehicleId': '947'},\n",
      "                 {'departureTime': '2024-03-08T19:29:30+00:00',\n",
      "                  'departureTimeUnix': 1709926170,\n",
      "                  'destination': 'Edinburgh',\n",
      "                  'displayTime': '19:29',\n",
      "                  'ineoUTCTime': '19:29:30',\n",
      "                  'isDiverted': False,\n",
      "                  'isLive': True,\n",
      "                  'isTerminatingHere': False,\n",
      "                  'routeName': '124',\n",
      "                  'sms': '36235975',\n",
      "                  'stopPoint': None,\n",
      "                  'stopSequence': 37,\n",
      "                  'tripId': '589',\n",
      "                  'vehicleId': '1057'},\n",
      "                 {'departureTime': '2024-03-08T19:51:45+00:00',\n",
      "                  'departureTimeUnix': 1709927505,\n",
      "                  'destination': 'Edinburgh',\n",
      "                  'displayTime': '19:51',\n",
      "                  'ineoUTCTime': '19:51:45',\n",
      "                  'isDiverted': False,\n",
      "                  'isLive': True,\n",
      "                  'isTerminatingHere': False,\n",
      "                  'routeName': '124',\n",
      "                  'sms': '36235975',\n",
      "                  'stopPoint': None,\n",
      "                  'stopSequence': 61,\n",
      "                  'tripId': '521',\n",
      "                  'vehicleId': '515'},\n",
      "                 {'departureTime': '2024-03-08T21:10:45+00:00',\n",
      "                  'departureTimeUnix': 1709932245,\n",
      "                  'destination': 'Edinburgh',\n",
      "                  'displayTime': '21:10',\n",
      "                  'ineoUTCTime': '21:10:45',\n",
      "                  'isDiverted': False,\n",
      "                  'isLive': False,\n",
      "                  'isTerminatingHere': False,\n",
      "                  'routeName': '124',\n",
      "                  'sms': '36235975',\n",
      "                  'stopPoint': None,\n",
      "                  'stopSequence': 93,\n",
      "                  'tripId': '489',\n",
      "                  'vehicleId': '1058'}],\n",
      "  'routeName': '124'},\n",
      " {'departures': [{'departureTime': '2024-03-08T18:56:55+00:00',\n",
      "                  'departureTimeUnix': 1709924215,\n",
      "                  'destination': 'Clermiston',\n",
      "                  'displayTime': '18:56',\n",
      "                  'ineoUTCTime': '18:56:55',\n",
      "                  'isDiverted': False,\n",
      "                  'isLive': True,\n",
      "                  'isTerminatingHere': False,\n",
      "                  'routeName': '1',\n",
      "                  'sms': '36235975',\n",
      "                  'stopPoint': None,\n",
      "                  'stopSequence': 5,\n",
      "                  'tripId': '3111',\n",
      "                  'vehicleId': '34'},\n",
      "                 {'departureTime': '2024-03-08T19:09:15+00:00',\n",
      "                  'departureTimeUnix': 1709924955,\n",
      "                  'destination': 'Clermiston',\n",
      "                  'displayTime': '19:09',\n",
      "                  'ineoUTCTime': '19:09:15',\n",
      "                  'isDiverted': False,\n",
      "                  'isLive': True,\n",
      "                  'isTerminatingHere': False,\n",
      "                  'routeName': '1',\n",
      "                  'sms': '36235975',\n",
      "                  'stopPoint': None,\n",
      "                  'stopSequence': 16,\n",
      "                  'tripId': '3193',\n",
      "                  'vehicleId': '35'},\n",
      "                 {'departureTime': '2024-03-08T19:42:46+00:00',\n",
      "                  'departureTimeUnix': 1709926966,\n",
      "                  'destination': 'Clermiston',\n",
      "                  'displayTime': '19:42',\n",
      "                  'ineoUTCTime': '19:42:46',\n",
      "                  'isDiverted': False,\n",
      "                  'isLive': True,\n",
      "                  'isTerminatingHere': False,\n",
      "                  'routeName': '1',\n",
      "                  'sms': '36235975',\n",
      "                  'stopPoint': None,\n",
      "                  'stopSequence': 17,\n",
      "                  'tripId': '3208',\n",
      "                  'vehicleId': '376'},\n",
      "                 {'departureTime': '2024-03-08T20:16:46+00:00',\n",
      "                  'departureTimeUnix': 1709929006,\n",
      "                  'destination': 'Clermiston',\n",
      "                  'displayTime': '20:16',\n",
      "                  'ineoUTCTime': '20:16:46',\n",
      "                  'isDiverted': False,\n",
      "                  'isLive': False,\n",
      "                  'isTerminatingHere': False,\n",
      "                  'routeName': '1',\n",
      "                  'sms': '36235975',\n",
      "                  'stopPoint': None,\n",
      "                  'stopSequence': 17,\n",
      "                  'tripId': '3159',\n",
      "                  'vehicleId': '12'}],\n",
      "  'routeName': '1'},\n",
      " {'departures': [{'departureTime': '2024-03-08T18:57:08+00:00',\n",
      "                  'departureTimeUnix': 1709924228,\n",
      "                  'destination': 'Heriot Watt',\n",
      "                  'displayTime': '18:57',\n",
      "                  'ineoUTCTime': '18:57:08',\n",
      "                  'isDiverted': False,\n",
      "                  'isLive': True,\n",
      "                  'isTerminatingHere': False,\n",
      "                  'routeName': '25',\n",
      "                  'sms': '36235975',\n",
      "                  'stopPoint': None,\n",
      "                  'stopSequence': 3,\n",
      "                  'tripId': '3755',\n",
      "                  'vehicleId': '624'},\n",
      "                 {'departureTime': '2024-03-08T18:57:17+00:00',\n",
      "                  'departureTimeUnix': 1709924237,\n",
      "                  'destination': 'Heriot Watt',\n",
      "                  'displayTime': '18:57',\n",
      "                  'ineoUTCTime': '18:57:17',\n",
      "                  'isDiverted': False,\n",
      "                  'isLive': True,\n",
      "                  'isTerminatingHere': False,\n",
      "                  'routeName': '25',\n",
      "                  'sms': '36235975',\n",
      "                  'stopPoint': None,\n",
      "                  'stopSequence': 3,\n",
      "                  'tripId': '3657',\n",
      "                  'vehicleId': '660'},\n",
      "                 {'departureTime': '2024-03-08T19:08:22+00:00',\n",
      "                  'departureTimeUnix': 1709924902,\n",
      "                  'destination': 'Heriot Watt',\n",
      "                  'displayTime': '19:08',\n",
      "                  'ineoUTCTime': '19:08:22',\n",
      "                  'isDiverted': False,\n",
      "                  'isLive': True,\n",
      "                  'isTerminatingHere': False,\n",
      "                  'routeName': '25',\n",
      "                  'sms': '36235975',\n",
      "                  'stopPoint': None,\n",
      "                  'stopSequence': 14,\n",
      "                  'tripId': '3744',\n",
      "                  'vehicleId': '601'},\n",
      "                 {'departureTime': '2024-03-08T19:27:20+00:00',\n",
      "                  'departureTimeUnix': 1709926040,\n",
      "                  'destination': 'Heriot Watt',\n",
      "                  'displayTime': '19:27',\n",
      "                  'ineoUTCTime': '19:27:20',\n",
      "                  'isDiverted': False,\n",
      "                  'isLive': True,\n",
      "                  'isTerminatingHere': False,\n",
      "                  'routeName': '25',\n",
      "                  'sms': '36235975',\n",
      "                  'stopPoint': None,\n",
      "                  'stopSequence': 26,\n",
      "                  'tripId': '3689',\n",
      "                  'vehicleId': '632'}],\n",
      "  'routeName': '25'},\n",
      " {'departures': [{'departureTime': '2024-03-08T18:59:17+00:00',\n",
      "                  'departureTimeUnix': 1709924357,\n",
      "                  'destination': 'Torphin',\n",
      "                  'displayTime': '18:59',\n",
      "                  'ineoUTCTime': '18:59:17',\n",
      "                  'isDiverted': False,\n",
      "                  'isLive': False,\n",
      "                  'isTerminatingHere': False,\n",
      "                  'routeName': '16',\n",
      "                  'sms': '36235975',\n",
      "                  'stopPoint': None,\n",
      "                  'stopSequence': 4,\n",
      "                  'tripId': '854',\n",
      "                  'vehicleId': '1092'},\n",
      "                 {'departureTime': '2024-03-08T19:14:42+00:00',\n",
      "                  'departureTimeUnix': 1709925282,\n",
      "                  'destination': 'Torphin',\n",
      "                  'displayTime': '19:14',\n",
      "                  'ineoUTCTime': '19:14:42',\n",
      "                  'isDiverted': False,\n",
      "                  'isLive': True,\n",
      "                  'isTerminatingHere': False,\n",
      "                  'routeName': '16',\n",
      "                  'sms': '36235975',\n",
      "                  'stopPoint': None,\n",
      "                  'stopSequence': 17,\n",
      "                  'tripId': '1420',\n",
      "                  'vehicleId': '1115'},\n",
      "                 {'departureTime': '2024-03-08T19:28:21+00:00',\n",
      "                  'departureTimeUnix': 1709926101,\n",
      "                  'destination': 'Torphin',\n",
      "                  'displayTime': '19:28',\n",
      "                  'ineoUTCTime': '19:28:21',\n",
      "                  'isDiverted': False,\n",
      "                  'isLive': False,\n",
      "                  'isTerminatingHere': False,\n",
      "                  'routeName': '16',\n",
      "                  'sms': '36235975',\n",
      "                  'stopPoint': None,\n",
      "                  'stopSequence': 37,\n",
      "                  'tripId': '938',\n",
      "                  'vehicleId': '1120'},\n",
      "                 {'departureTime': '2024-03-08T19:43:21+00:00',\n",
      "                  'departureTimeUnix': 1709927001,\n",
      "                  'destination': 'Torphin',\n",
      "                  'displayTime': '19:43',\n",
      "                  'ineoUTCTime': '19:43:21',\n",
      "                  'isDiverted': False,\n",
      "                  'isLive': True,\n",
      "                  'isTerminatingHere': False,\n",
      "                  'routeName': '16',\n",
      "                  'sms': '36235975',\n",
      "                  'stopPoint': None,\n",
      "                  'stopSequence': 38,\n",
      "                  'tripId': '1407',\n",
      "                  'vehicleId': '1118'}],\n",
      "  'routeName': '16'}]\n"
     ]
    }
   ],
   "source": [
    "pp.pprint(routes)\n",
    "\n",
    "# look at this data first. Try to understand what data type it is. \n",
    "# What's most useful is the first character. eg [1,2,3] is a list. {'name': 'Jen'} is a dictionary\n",
    "# [{'name': 'Jen'}, {'name': 'Pim'} ] is a list of dictionaries"
   ]
  },
  {
   "cell_type": "markdown",
   "id": "7594bcb1",
   "metadata": {},
   "source": [
    "Basically the format is:\n",
    "\n",
    "**routes** - a List with all the bus routes that use it\n",
    "\n",
    "..each item in **routes** - a Dictionary describing one route with following keys: **departures**, and **routeName**\n",
    "    \n",
    "....**routeName** is just the name of the bus service, eg. '22'\n",
    "        \n",
    "....**departures** is a List with Dictionaries, each representing info of one incomming bus. "
   ]
  },
  {
   "cell_type": "code",
   "execution_count": 6,
   "id": "7844eeba",
   "metadata": {},
   "outputs": [
    {
     "name": "stdout",
     "output_type": "stream",
     "text": [
      "{'departures': [{'departureTime': '2024-03-08T18:51:19+00:00',\n",
      "                 'departureTimeUnix': 1709923879,\n",
      "                 'destination': 'Heriot Watt',\n",
      "                 'displayTime': '18:51',\n",
      "                 'ineoUTCTime': '18:51:19',\n",
      "                 'isDiverted': False,\n",
      "                 'isLive': True,\n",
      "                 'isTerminatingHere': False,\n",
      "                 'routeName': '34',\n",
      "                 'sms': '36235975',\n",
      "                 'stopPoint': None,\n",
      "                 'stopSequence': 1,\n",
      "                 'tripId': '4137',\n",
      "                 'vehicleId': '568'},\n",
      "                {'departureTime': '2024-03-08T19:03:51+00:00',\n",
      "                 'departureTimeUnix': 1709924631,\n",
      "                 'destination': 'Heriot Watt',\n",
      "                 'displayTime': '19:03',\n",
      "                 'ineoUTCTime': '19:03:51',\n",
      "                 'isDiverted': False,\n",
      "                 'isLive': True,\n",
      "                 'isTerminatingHere': False,\n",
      "                 'routeName': '34',\n",
      "                 'sms': '36235975',\n",
      "                 'stopPoint': None,\n",
      "                 'stopSequence': 13,\n",
      "                 'tripId': '4090',\n",
      "                 'vehicleId': '570'},\n",
      "                {'departureTime': '2024-03-08T19:11:24+00:00',\n",
      "                 'departureTimeUnix': 1709925084,\n",
      "                 'destination': 'Heriot Watt',\n",
      "                 'displayTime': '19:11',\n",
      "                 'ineoUTCTime': '19:11:24',\n",
      "                 'isDiverted': False,\n",
      "                 'isLive': True,\n",
      "                 'isTerminatingHere': False,\n",
      "                 'routeName': '34',\n",
      "                 'sms': '36235975',\n",
      "                 'stopPoint': None,\n",
      "                 'stopSequence': 19,\n",
      "                 'tripId': '4160',\n",
      "                 'vehicleId': '605'},\n",
      "                {'departureTime': '2024-03-08T19:45:03+00:00',\n",
      "                 'departureTimeUnix': 1709927103,\n",
      "                 'destination': 'Heriot Watt',\n",
      "                 'displayTime': '19:45',\n",
      "                 'ineoUTCTime': '19:45:03',\n",
      "                 'isDiverted': False,\n",
      "                 'isLive': True,\n",
      "                 'isTerminatingHere': False,\n",
      "                 'routeName': '34',\n",
      "                 'sms': '36235975',\n",
      "                 'stopPoint': None,\n",
      "                 'stopSequence': 24,\n",
      "                 'tripId': '4186',\n",
      "                 'vehicleId': '1151'}],\n",
      " 'routeName': '34'}\n"
     ]
    }
   ],
   "source": [
    "# some examples:\n",
    "# one stop\n",
    "first_route = routes[0]\n",
    "pp.pprint(first_route)"
   ]
  },
  {
   "cell_type": "code",
   "execution_count": 17,
   "id": "d3575f79",
   "metadata": {},
   "outputs": [
    {
     "name": "stdout",
     "output_type": "stream",
     "text": [
      "34\n"
     ]
    }
   ],
   "source": [
    "# first bus service's routeName\n",
    "first_route_name = routes[0]['routeName'] \n",
    "print(first_route_name)"
   ]
  },
  {
   "cell_type": "code",
   "execution_count": 18,
   "id": "24a59d09",
   "metadata": {},
   "outputs": [
    {
     "name": "stdout",
     "output_type": "stream",
     "text": [
      "First Route has number 34 and has 4 vehicles coming soon\n"
     ]
    }
   ],
   "source": [
    "first_route_departures = routes[0]['departures'] \n",
    "print(f\"First Route has number {first_route_name} and has {len(first_route_departures)} vehicles coming soon\")\n"
   ]
  },
  {
   "cell_type": "markdown",
   "id": "40d5dfa4",
   "metadata": {},
   "source": [
    "All departures for this stop (note that this api uses timezones, so we will have to also)\n",
    "instead of just datetime.now() we will use datetime.now(pytz.timezone('Europe/London'))"
   ]
  },
  {
   "cell_type": "code",
   "execution_count": 19,
   "id": "e793c140",
   "metadata": {},
   "outputs": [
    {
     "name": "stdout",
     "output_type": "stream",
     "text": [
      "next bus of the first route:\n"
     ]
    },
    {
     "ename": "TypeError",
     "evalue": "can't subtract offset-naive and offset-aware datetimes",
     "output_type": "error",
     "traceback": [
      "\u001b[0;31m---------------------------------------------------------------------------\u001b[0m",
      "\u001b[0;31mTypeError\u001b[0m                                 Traceback (most recent call last)",
      "Cell \u001b[0;32mIn[19], line 6\u001b[0m\n\u001b[1;32m      3\u001b[0m bus_arrival_time \u001b[38;5;241m=\u001b[39m datetime\u001b[38;5;241m.\u001b[39mstrptime(routes[\u001b[38;5;241m0\u001b[39m][\u001b[38;5;124m'\u001b[39m\u001b[38;5;124mdepartures\u001b[39m\u001b[38;5;124m'\u001b[39m][\u001b[38;5;241m0\u001b[39m][\u001b[38;5;124m'\u001b[39m\u001b[38;5;124mdepartureTime\u001b[39m\u001b[38;5;124m'\u001b[39m], \u001b[38;5;124m\"\u001b[39m\u001b[38;5;124m%\u001b[39m\u001b[38;5;124mY-\u001b[39m\u001b[38;5;124m%\u001b[39m\u001b[38;5;124mm-\u001b[39m\u001b[38;5;132;01m%d\u001b[39;00m\u001b[38;5;124mT\u001b[39m\u001b[38;5;124m%\u001b[39m\u001b[38;5;124mH:\u001b[39m\u001b[38;5;124m%\u001b[39m\u001b[38;5;124mM:\u001b[39m\u001b[38;5;124m%\u001b[39m\u001b[38;5;124mS+00:00\u001b[39m\u001b[38;5;124m\"\u001b[39m)  \u001b[38;5;66;03m#'2024-03-06T18:54:09+00:00\u001b[39;00m\n\u001b[1;32m      4\u001b[0m time_now \u001b[38;5;241m=\u001b[39m datetime\u001b[38;5;241m.\u001b[39mnow(pytz\u001b[38;5;241m.\u001b[39mtimezone(\u001b[38;5;124m'\u001b[39m\u001b[38;5;124mEurope/London\u001b[39m\u001b[38;5;124m'\u001b[39m))\n\u001b[0;32m----> 6\u001b[0m time_difference \u001b[38;5;241m=\u001b[39m \u001b[43mbus_arrival_time\u001b[49m\u001b[43m \u001b[49m\u001b[38;5;241;43m-\u001b[39;49m\u001b[43m \u001b[49m\u001b[43mtime_now\u001b[49m \n\u001b[1;32m      7\u001b[0m \u001b[38;5;28mprint\u001b[39m(time_difference)\n\u001b[1;32m      8\u001b[0m \u001b[38;5;28mprint\u001b[39m(time_difference\u001b[38;5;241m.\u001b[39mdays)\n",
      "\u001b[0;31mTypeError\u001b[0m: can't subtract offset-naive and offset-aware datetimes"
     ]
    }
   ],
   "source": [
    "print(\"next bus of the first route:\") \n",
    "\n",
    "bus_arrival_time = datetime.strptime(routes[0]['departures'][0]['departureTime'], \"%Y-%m-%dT%H:%M:%S+00:00\")  #'2024-03-06T18:54:09+00:00\n",
    "time_now = datetime.now(pytz.timezone('Europe/London'))\n",
    "\n",
    "time_difference = bus_arrival_time - time_now \n",
    "print(time_difference)\n",
    "print(time_difference.days)\n",
    "\n",
    "#pp.pprint(routes[0]['departures'][0]['departureTime'])\n",
    "#print(datetime.now(pytz.timezone('Europe/London')))"
   ]
  },
  {
   "cell_type": "markdown",
   "id": "ead3954b",
   "metadata": {},
   "source": [
    "# Task Group 2: Making formatted strings from data\n",
    "\n",
    "Here are a few tasks to explore the data and list comprehensions:\n",
    "\n",
    "- Write a function to display all route numbers in `routes` variable. What variables will this function take? Make it return a string\n",
    "- Write a function to get all bus destinations in one route. Most bus routes go to only one unique destination, but there are routes where every other bus goes to a different destination. This function will take ONE ROUTE (not a list of all routes) and return a string. Say if the function is called destinations( a_route) you would call it like this: destinations( routes[0] )\n",
    "- write a function which will take one route, and return a timetable for that route as a nicely formatted. Eg: \"Number 22 going to Gyle expected at: 12:32, 12:42, 12:52.\"\n",
    "\n",
    "- extra: Can you now use a list comprehension so that each of your 'one route' functions above is applied to all of the routes.\n",
    "\n",
    "If any of these are too hard, don't worry and keep going through the notebook. More explanations coming.\n"
   ]
  },
  {
   "cell_type": "code",
   "execution_count": 10,
   "id": "b3efd9f1",
   "metadata": {},
   "outputs": [
    {
     "name": "stdout",
     "output_type": "stream",
     "text": [
      "34 4 124 1 25 16\n"
     ]
    }
   ],
   "source": [
    "def get_route_numbers(routes):\n",
    "    route_numbers = [\n",
    "        number['routeName']\n",
    "        for number in routes\n",
    "    ]\n",
    "    return ' '.join(route_numbers)\n",
    "\n",
    "print(get_route_numbers(routes))"
   ]
  },
  {
   "cell_type": "code",
   "execution_count": 12,
   "id": "c657b7f7",
   "metadata": {},
   "outputs": [
    {
     "name": "stdout",
     "output_type": "stream",
     "text": [
      "test passed\n"
     ]
    }
   ],
   "source": [
    "assert get_route_numbers(routes) == \"34 4 124 1 25 16\"\n",
    "print(\"test passed\")"
   ]
  },
  {
   "cell_type": "code",
   "execution_count": 14,
   "id": "394392f7",
   "metadata": {},
   "outputs": [
    {
     "name": "stdout",
     "output_type": "stream",
     "text": [
      "Heriot Watt, Heriot Watt, Heriot Watt, Heriot Watt\n",
      "Fairmilehead, Fairmilehead, Fairmilehead, Fairmilehead\n",
      "Edinburgh, Edinburgh, Edinburgh, Edinburgh\n",
      "Clermiston, Clermiston, Clermiston, Clermiston\n",
      "test passed\n"
     ]
    }
   ],
   "source": [
    "def get_route_destinations(routes, i):\n",
    "    route = routes[i]['departures']\n",
    "    route_dest = [\n",
    "        dest['destination']\n",
    "        for dest in route\n",
    "    ]\n",
    "    return ', '.join(route_dest)\n",
    "\n",
    "print(get_route_destinations(routes, 0))\n",
    "print(get_route_destinations(routes, 1))\n",
    "print(get_route_destinations(routes, 2))\n",
    "print(get_route_destinations(routes, 3))\n",
    "\n",
    "assert get_route_destinations(routes, 0) == \"Heriot Watt, Heriot Watt, Heriot Watt, Heriot Watt\"\n",
    "assert get_route_destinations(routes, 3) == \"Clermiston, Clermiston, Clermiston, Clermiston\"\n",
    "assert get_route_destinations(routes, 2) == \"Edinburgh, Edinburgh, Edinburgh, Edinburgh\"\n",
    "assert get_route_destinations(routes, 1) == \"Fairmilehead, Fairmilehead, Fairmilehead, Fairmilehead\"\n",
    "print(\"test passed\")"
   ]
  },
  {
   "cell_type": "code",
   "execution_count": 16,
   "id": "0742a474",
   "metadata": {},
   "outputs": [
    {
     "data": {
      "text/plain": [
       "'Number 34 going to Heriot Watt expected at: 18:51, 19:03, 19:11, 19:45.'"
      ]
     },
     "execution_count": 16,
     "metadata": {},
     "output_type": "execute_result"
    }
   ],
   "source": [
    "def get_route_time(routes, i):\n",
    "    route = routes[i]\n",
    "    route_times =[\n",
    "        times['displayTime']\n",
    "        for times in route['departures']\n",
    "    ]\n",
    "    \n",
    "    routeName = route['routeName']\n",
    "    routeDestination = route['departures'][0]['destination']\n",
    "    \n",
    "    return f\"Number {routeName} going to {routeDestination} expected at: \" + ', '.join(route_times) + \".\"\n",
    "\n",
    "get_route_time(routes, 0)"
   ]
  },
  {
   "cell_type": "markdown",
   "id": "848ce4dd",
   "metadata": {},
   "source": [
    "## Bonus: Dealing with time and date. This can be tricky, so see how much time you have left and consider skipping to Tasks Group 3\n",
    "\n",
    "This dataset describes time and date. Usually one needs to prepare such data, eg. adjust time zone.\n",
    "Then you often need to make the data meaningful eg. say how many hours or minutes ago something was.\n",
    "Finally there are ways to show data in more human-friendly ways eg. \"3rd of September\" or \"11:23pm\". To achieve that you usually perform create 'date objects' from your source data, then turn those date objects into format you'd like.\n",
    "\n",
    "eg. string `2023-03-09 18:22:24+00:00` can be turned it in into `datetime.datetime object` (which when printed looks very simmilar `2023-03-09 18:22:24+00:00`), but if you check its type, it will not be `string`.\n",
    "\n",
    "Just like string `\"33\"` and number `33` look the same when printed. But when you add `1` to them one will result in `34` and one will result in an error, or `133`."
   ]
  },
  {
   "cell_type": "code",
   "execution_count": 33,
   "id": "theoretical-silicon",
   "metadata": {},
   "outputs": [
    {
     "name": "stdout",
     "output_type": "stream",
     "text": [
      "https://tfe-opendata.com/api/v1/live_bus_times/36235975\n"
     ]
    }
   ],
   "source": [
    "# a quick refresh of data :) so they are still up to date\n",
    "princess_st_stop_id = 36235975\n",
    "routes = get_buses_coming_soon( princess_st_stop_id )\n",
    "# run this code any time you want to get most up to date times"
   ]
  },
  {
   "cell_type": "code",
   "execution_count": 34,
   "id": "c50cc1e0",
   "metadata": {},
   "outputs": [
    {
     "name": "stdout",
     "output_type": "stream",
     "text": [
      "2024-03-08T19:11:23+00:00\n",
      "<class 'str'>\n"
     ]
    }
   ],
   "source": [
    "# first route, first vehicle\n",
    "departure_time_from_api = routes[0]['departures'][0]['departureTime']\n",
    "print(departure_time_from_api)\n",
    "print(type(departure_time_from_api)) # what type of variable is departure_time_from_api"
   ]
  },
  {
   "cell_type": "code",
   "execution_count": 35,
   "id": "1cee3aab",
   "metadata": {},
   "outputs": [
    {
     "name": "stdout",
     "output_type": "stream",
     "text": [
      "2024-03-08 19:11:23+00:00\n",
      "<class 'datetime.datetime'>\n"
     ]
    }
   ],
   "source": [
    "# here's a step-by-step process of taking a complex date format into something simpler:\n",
    "\n",
    "bus_time_object = datetime.fromisoformat(departure_time_from_api) \n",
    "print(bus_time_object)\n",
    "print(type(bus_time_object)) # what type of variable is bus_time_object\n",
    "# time object"
   ]
  },
  {
   "cell_type": "code",
   "execution_count": 36,
   "id": "olympic-starter",
   "metadata": {},
   "outputs": [
    {
     "name": "stdout",
     "output_type": "stream",
     "text": [
      "19:11\n"
     ]
    }
   ],
   "source": [
    "bus_time_str = bus_time_object.strftime(\"%H:%M\") \n",
    "print(bus_time_str)\n",
    "# object turned back into string, but in the %H:%M string format"
   ]
  },
  {
   "cell_type": "markdown",
   "id": "6a5b6470",
   "metadata": {},
   "source": [
    "Date objects are useful, because you can turn them into strings in the format of yoru choice. Eg. `3rd Sep 2023` or `03-09-23`.\n",
    "\n",
    "Let's get the time when the bus is due and try some of our newly-learned Date/Time manipulation!\n",
    "\n",
    "Reference of all the posible date time codes is here: https://docs.python.org/3/library/datetime.html#format-codes\n",
    "\n",
    "We'll need to find out what time is it right now in Edinburgh. Then subtract bus time from it to see how much more time is left:"
   ]
  },
  {
   "cell_type": "code",
   "execution_count": 37,
   "id": "e1b8fb4c",
   "metadata": {},
   "outputs": [
    {
     "name": "stdout",
     "output_type": "stream",
     "text": [
      "0:01:18.669567\n",
      "<class 'datetime.timedelta'>\n",
      "seconds 78\n",
      "minutes 1\n"
     ]
    }
   ],
   "source": [
    "time_now_in_edinburgh = datetime.now(pytz.timezone('Europe/London'))\n",
    "time_till_bus = bus_time_object - time_now_in_edinburgh \n",
    "\n",
    "print(time_till_bus)\n",
    "print(type(time_till_bus)) # this is object of type datetime.timedelta\n",
    "\n",
    "print(\"seconds\", time_till_bus.seconds)\n",
    "print(\"minutes\", time_till_bus.seconds // 60)\n",
    "\n",
    "# notice that if time_till_bus looks a bit weird (eg. it is -1 day and 23h 57m) it means that the bus has already left.\n",
    "# we will deal with this below."
   ]
  },
  {
   "cell_type": "code",
   "execution_count": 38,
   "id": "tribal-design",
   "metadata": {},
   "outputs": [
    {
     "name": "stdout",
     "output_type": "stream",
     "text": [
      "18:22\n",
      "19:11\n"
     ]
    }
   ],
   "source": [
    "# eg. turn '2023-03-09T18:22:24+00:00' into '18:22'\n",
    "def date_into_human_form(time_from_api):\n",
    "    bus_time_object = datetime.fromisoformat(time_from_api) \n",
    "    bus_time_str = bus_time_object.strftime(\"%H:%M\") \n",
    "    return bus_time_str\n",
    "\n",
    "print(date_into_human_form('2023-03-09T18:22:24+00:00'))\n",
    "print(date_into_human_form(departure_time_from_api))"
   ]
  },
  {
   "cell_type": "code",
   "execution_count": 42,
   "id": "attempted-geometry",
   "metadata": {},
   "outputs": [
    {
     "name": "stdout",
     "output_type": "stream",
     "text": [
      "departure time 2024-03-08T19:11:23+00:00\n",
      "minutes from now 0\n"
     ]
    }
   ],
   "source": [
    "# eg. if the time is 18:10 turn '2023-03-09T18:22:24+00:00' into 12 (because it is in 12 minutes)\n",
    "def date_into_minutes_from_now(time_from_api):\n",
    "    bus_time_object = datetime.fromisoformat(time_from_api)\n",
    "    time_now = datetime.now(pytz.timezone('Europe/London'))\n",
    "    \n",
    "    # depending if bus is in the future, or not, calculate it's arrival differently:    \n",
    "    if bus_time_object >= time_now:\n",
    "        #  if now is 12:30 and bus is at 12:34, then it is in 4 minutes      \n",
    "        time_till = bus_time_object - time_now \n",
    "        return time_till.seconds // 60\n",
    "    else:\n",
    "        #  if now is 12:30 and bus was at 12:20, then it is in -10 minutes      \n",
    "        time_till = (time_now - bus_time_object)\n",
    "        return  time_till.seconds // 60 * -1\n",
    "\n",
    "print(\"departure time\", departure_time_from_api)\n",
    "print(\"minutes from now\", date_into_minutes_from_now(departure_time_from_api))\n"
   ]
  },
  {
   "cell_type": "code",
   "execution_count": 39,
   "id": "ea4142a2",
   "metadata": {},
   "outputs": [
    {
     "name": "stdout",
     "output_type": "stream",
     "text": [
      "1\n",
      "2024-03-08T19:11:23+00:00\n",
      "19:11\n",
      "1\n"
     ]
    }
   ],
   "source": [
    "# let's turn data into something meaningful:\n",
    "first_route_name = routes[0]['routeName']\n",
    "first_bus_time = routes[0]['departures'][0]['departureTime']\n",
    "first_bus_human = date_into_human_form(first_bus_time)\n",
    "first_bus_in_minutes = date_into_minutes_from_now(first_bus_time)\n",
    "\n",
    "print(first_route_name)\n",
    "print( first_bus_time)\n",
    "print( first_bus_human)\n",
    "print( first_bus_in_minutes)"
   ]
  },
  {
   "cell_type": "code",
   "execution_count": 40,
   "id": "75861a6c",
   "metadata": {},
   "outputs": [
    {
     "name": "stdout",
     "output_type": "stream",
     "text": [
      "Next bus number 1 is at ****19:11**** (in 1 minutes)\n"
     ]
    }
   ],
   "source": [
    "# and let's present it as a string\n",
    "print(f\"Next bus number {first_route_name} is at {first_bus_human:*^13} (in {first_bus_in_minutes:.0f} minutes)\")"
   ]
  },
  {
   "cell_type": "code",
   "execution_count": 41,
   "id": "39a2c863",
   "metadata": {},
   "outputs": [
    {
     "name": "stdout",
     "output_type": "stream",
     "text": [
      "Next bus number 1 is at ****19:11**** (in 1 minutes)\n"
     ]
    }
   ],
   "source": [
    "# this could be further improved with a function which turns \n",
    "# 3 into 'in 3 minutes', 0 to 'DUE' and -10 into '10 minutes ago'\n",
    "def minutes_to_word(minutes):\n",
    "    if minutes == 0:\n",
    "        return \"DUE\"\n",
    "    elif minutes < 0:\n",
    "        return f\"{minutes * -1} minutes ago\"\n",
    "    else:\n",
    "        return f\"in {minutes} minutes\"\n",
    "\n",
    "when = minutes_to_word(first_bus_in_minutes)\n",
    "print(f\"Next bus number {first_route_name} is at {bus_time_str:*^13} ({when})\")"
   ]
  },
  {
   "cell_type": "code",
   "execution_count": null,
   "id": "6516853a",
   "metadata": {},
   "outputs": [],
   "source": []
  },
  {
   "cell_type": "markdown",
   "id": "0dbe58f5",
   "metadata": {},
   "source": [
    "# Task Group 3:\n",
    "\n",
    "- Try to use a list comprehension to create a string desctiption (like above) for each departure for the first route. Make the desciption meaningful, and try to use Date/Time information. Remember that the easiest way to do it is by creating a function that takes a departure and turns it into a string, a bit like this:"
   ]
  },
  {
   "cell_type": "code",
   "execution_count": 20,
   "id": "7e8ab93c",
   "metadata": {},
   "outputs": [
    {
     "data": {
      "text/plain": [
       "['Bus 34 to Heriot Watt at 18:51',\n",
       " 'Bus 34 to Heriot Watt at 19:03',\n",
       " 'Bus 34 to Heriot Watt at 19:11',\n",
       " 'Bus 34 to Heriot Watt at 19:45']"
      ]
     },
     "execution_count": 20,
     "metadata": {},
     "output_type": "execute_result"
    }
   ],
   "source": [
    "# example: show destination of each departure\n",
    "def where_it_goes(departure):\n",
    "    # you might want to change this function\n",
    "    return f\"Bus {departure['routeName']} to {departure['destination']} at {departure['displayTime']}\" \n",
    "\n",
    "def route_into_destinations(route):\n",
    "    return [\n",
    "        where_it_goes(departure)\n",
    "        for departure in route['departures']\n",
    "    ]\n",
    "\n",
    "route_into_destinations(routes[0])"
   ]
  },
  {
   "cell_type": "code",
   "execution_count": null,
   "id": "3373d670",
   "metadata": {},
   "outputs": [],
   "source": []
  },
  {
   "cell_type": "code",
   "execution_count": null,
   "id": "16fec8d8",
   "metadata": {},
   "outputs": [],
   "source": []
  },
  {
   "cell_type": "code",
   "execution_count": null,
   "id": "d3702339",
   "metadata": {},
   "outputs": [],
   "source": []
  },
  {
   "cell_type": "markdown",
   "id": "joined-diversity",
   "metadata": {},
   "source": [
    "## Presenting data in a prettier format: ⭐️"
   ]
  },
  {
   "cell_type": "code",
   "execution_count": 21,
   "id": "c78927c4",
   "metadata": {},
   "outputs": [
    {
     "name": "stdout",
     "output_type": "stream",
     "text": [
      "['🚌    34 has  4 buses incomming 💨',\n",
      " '🚌     4 has  4 buses incomming 💨',\n",
      " '🚌   124 has  4 buses incomming 💨',\n",
      " '🚌     1 has  4 buses incomming 💨',\n",
      " '🚌    25 has  4 buses incomming 💨',\n",
      " '🚌    16 has  4 buses incomming 💨']\n"
     ]
    }
   ],
   "source": [
    "# advanced, but fun, for those who like using functions:\n",
    "# you can try to split your data presentation into stages.\n",
    "# you could print from your functions, but it's cleaner to return strings and print them outside \n",
    "\n",
    "def bus_route_report(route_info):\n",
    "    return f\"🚌 {route_info['routeName']:>5} has {len(route_info['departures']):2} buses incomming 💨\"\n",
    "\n",
    "def all_services_as_lines(some_routes):\n",
    "    return [\n",
    "         bus_route_report(route)\n",
    "         for route in some_routes   \n",
    "    ]\n",
    "\n",
    "pp.pprint( all_services_as_lines(routes) ) # this will print a list of strings like ['a','b','c']"
   ]
  },
  {
   "cell_type": "markdown",
   "id": "b67c77fa",
   "metadata": {},
   "source": [
    "### bonus code: Connect List to strings, using Enter (new line)\n",
    "\n",
    "To connect a list of stings into one string, using some delimited/connector:\n",
    "\n",
    "`\"some_delimiter\".join(some_list)`\n",
    "\n",
    "eg.\n",
    "\n",
    "`\":)\".join([\"banana\",\"kiwi\",\"plum\"])`\n"
   ]
  },
  {
   "cell_type": "code",
   "execution_count": 22,
   "id": "2cf1a650",
   "metadata": {},
   "outputs": [
    {
     "name": "stdout",
     "output_type": "stream",
     "text": [
      "banana ⭐️ kiwi ⭐️ plum\n",
      "banana**kiwi**plum\n"
     ]
    }
   ],
   "source": [
    "fruit = [\"banana\",\"kiwi\",\"plum\"]\n",
    "print(\" ⭐️ \".join(fruit))\n",
    "print(\"**\".join(fruit))"
   ]
  },
  {
   "cell_type": "code",
   "execution_count": 23,
   "id": "e518fd4d",
   "metadata": {},
   "outputs": [
    {
     "name": "stdout",
     "output_type": "stream",
     "text": [
      "🚌    34 has  4 buses incomming 💨\n",
      "🚌     4 has  4 buses incomming 💨\n",
      "🚌   124 has  4 buses incomming 💨\n",
      "🚌     1 has  4 buses incomming 💨\n",
      "🚌    25 has  4 buses incomming 💨\n",
      "🚌    16 has  4 buses incomming 💨\n"
     ]
    }
   ],
   "source": [
    "# Applied to our previous data\n",
    "print( \"\\n\".join(all_services_as_lines(routes) ))\n",
    "# notice we are not using pp.pprint() because it will try to be 'too helpful'. try it and see the difference"
   ]
  },
  {
   "cell_type": "code",
   "execution_count": 24,
   "id": "working-scotland",
   "metadata": {},
   "outputs": [
    {
     "name": "stdout",
     "output_type": "stream",
     "text": [
      "🚌    34 has  4 buses incomming 💨\n",
      "🚌     4 has  4 buses incomming 💨\n",
      "🚌   124 has  4 buses incomming 💨\n",
      "🚌     1 has  4 buses incomming 💨\n",
      "🚌    25 has  4 buses incomming 💨\n",
      "🚌    16 has  4 buses incomming 💨\n"
     ]
    }
   ],
   "source": [
    "# or as a pretty function:\n",
    "\n",
    "def all_services_formatted(some_routes):\n",
    "    return \"\\n\".join(all_services_as_lines(some_routes))\n",
    "\n",
    "print(all_services_formatted(routes))"
   ]
  },
  {
   "cell_type": "markdown",
   "id": "3d0caaf5",
   "metadata": {},
   "source": [
    "# If you still have time: Try to recreate ANYTHING SIMMILAR to the bus tracker in the picture: https://pbs.twimg.com/media/Dape3PaXcAAyYCl.jpg\n",
    "\n",
    "Do not worry about the details, Or making it exactly like this - just try to get something working and try to make it look like nice. Try to play with it, and try to use as many skills you learned during this badge as you can.\n",
    "\n",
    "\n",
    "\n",
    "We already wrote for you some the code to get the busses comming to Business School from Leith.\n",
    "You just need to format the results, so they look prettier :)\n",
    "this is the method to get the next busses. No need to change it.\n",
    "\n",
    "\n",
    "for example:\n",
    "\n",
    "```\n",
    "Next busses nr 17 are coming in 5,25,55 minutes\n",
    "Next busses nr 21 are coming in 15,45 minutes\n",
    "Next busses nr 44 are coming in 2,42 minutes\n",
    "```\n",
    "\n",
    "or even:\n",
    "\n",
    "```\n",
    "Services leaving from this busstop: 17,21,44\n",
    "```"
   ]
  },
  {
   "cell_type": "code",
   "execution_count": null,
   "id": "812ec99a",
   "metadata": {},
   "outputs": [],
   "source": []
  },
  {
   "cell_type": "code",
   "execution_count": null,
   "id": "a51e8197",
   "metadata": {},
   "outputs": [],
   "source": []
  },
  {
   "cell_type": "code",
   "execution_count": null,
   "id": "9dff0e12",
   "metadata": {},
   "outputs": [],
   "source": []
  }
 ],
 "metadata": {
  "kernelspec": {
   "display_name": "Python 3 (ipykernel)",
   "language": "python",
   "name": "python3"
  },
  "language_info": {
   "codemirror_mode": {
    "name": "ipython",
    "version": 3
   },
   "file_extension": ".py",
   "mimetype": "text/x-python",
   "name": "python",
   "nbconvert_exporter": "python",
   "pygments_lexer": "ipython3",
   "version": "3.11.8"
  }
 },
 "nbformat": 4,
 "nbformat_minor": 5
}
